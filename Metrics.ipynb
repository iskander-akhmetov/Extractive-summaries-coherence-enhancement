{
 "cells": [
  {
   "cell_type": "markdown",
   "id": "25ccfbc2-6767-4d05-bf70-25faec4a5e67",
   "metadata": {},
   "source": [
    "# Load data"
   ]
  },
  {
   "cell_type": "code",
   "execution_count": 85,
   "id": "07787925-5fdb-4b29-9b2c-bdd95055125e",
   "metadata": {
    "tags": []
   },
   "outputs": [],
   "source": [
    "# 1. from nltk.tokenize import word_tokenize, sent_tokenize\n",
    "from nltk.tokenize import word_tokenize, sent_tokenize\n",
    "from tqdm.notebook import tqdm\n",
    "\n",
    "import pandas as pd\n",
    "import numpy as np"
   ]
  },
  {
   "cell_type": "code",
   "execution_count": 3,
   "id": "49126e5a-a039-4cbc-9271-396ec12be455",
   "metadata": {
    "tags": []
   },
   "outputs": [
    {
     "name": "stderr",
     "output_type": "stream",
     "text": [
      "/tmp/ipykernel_218370/3328218577.py:1: FutureWarning: In a future version of pandas all arguments of read_csv except for the argument 'filepath_or_buffer' will be keyword-only.\n",
      "  ds = pd.read_csv('abstracts.csv', '\\t')\n"
     ]
    },
    {
     "data": {
      "text/html": [
       "<div>\n",
       "<style scoped>\n",
       "    .dataframe tbody tr th:only-of-type {\n",
       "        vertical-align: middle;\n",
       "    }\n",
       "\n",
       "    .dataframe tbody tr th {\n",
       "        vertical-align: top;\n",
       "    }\n",
       "\n",
       "    .dataframe thead th {\n",
       "        text-align: right;\n",
       "    }\n",
       "</style>\n",
       "<table border=\"1\" class=\"dataframe\">\n",
       "  <thead>\n",
       "    <tr style=\"text-align: right;\">\n",
       "      <th></th>\n",
       "      <th>abstract_text</th>\n",
       "      <th>best_summary_gen_greedinit</th>\n",
       "    </tr>\n",
       "  </thead>\n",
       "  <tbody>\n",
       "    <tr>\n",
       "      <th>0</th>\n",
       "      <td>large numbers of supernovae ( sne ) have been ...</td>\n",
       "      <td>the method presented here can become significa...</td>\n",
       "    </tr>\n",
       "    <tr>\n",
       "      <th>1</th>\n",
       "      <td>we investigate the emergence of magnetic flux ...</td>\n",
       "      <td>an important result is that 23% of the loops a...</td>\n",
       "    </tr>\n",
       "    <tr>\n",
       "      <th>2</th>\n",
       "      <td>the estimation of the number of passengers wit...</td>\n",
       "      <td>the ad - hoc estimation is plotted in green. t...</td>\n",
       "    </tr>\n",
       "    <tr>\n",
       "      <th>3</th>\n",
       "      <td>the classical structure - function ( sf ) meth...</td>\n",
       "      <td>this procedure is designated as detrending ana...</td>\n",
       "    </tr>\n",
       "    <tr>\n",
       "      <th>4</th>\n",
       "      <td>given a real number @xmath0 , we study the ass...</td>\n",
       "      <td>the previous theorem can be proved also just u...</td>\n",
       "    </tr>\n",
       "  </tbody>\n",
       "</table>\n",
       "</div>"
      ],
      "text/plain": [
       "                                       abstract_text  \\\n",
       "0  large numbers of supernovae ( sne ) have been ...   \n",
       "1  we investigate the emergence of magnetic flux ...   \n",
       "2  the estimation of the number of passengers wit...   \n",
       "3  the classical structure - function ( sf ) meth...   \n",
       "4  given a real number @xmath0 , we study the ass...   \n",
       "\n",
       "                          best_summary_gen_greedinit  \n",
       "0  the method presented here can become significa...  \n",
       "1  an important result is that 23% of the loops a...  \n",
       "2  the ad - hoc estimation is plotted in green. t...  \n",
       "3  this procedure is designated as detrending ana...  \n",
       "4  the previous theorem can be proved also just u...  "
      ]
     },
     "execution_count": 3,
     "metadata": {},
     "output_type": "execute_result"
    }
   ],
   "source": [
    "ds = pd.read_csv('abstracts.csv', '\\t')\n",
    "ds.head()"
   ]
  },
  {
   "cell_type": "code",
   "execution_count": 4,
   "id": "9aafe816-eff8-47a1-8e3c-8eab1850a98d",
   "metadata": {
    "tags": []
   },
   "outputs": [
    {
     "data": {
      "text/plain": [
       "'large numbers of supernovae ( sne ) have been discovered in recent years , and many more will be found in the near future. once discovered , further study of a sn and its possible use as an astronomical tool ( e.g. , as a distance estimator ) require knowledge of the sn type. current classification methods rely almost solely on the analysis of sn spectra to determine their type. however , spectroscopy may not be possible or practical when sne are faint , numerous , or discovered in archival studies. we present a classification method for sne based on the comparison of their observed colors with synthetic ones , calculated from a large database of multi - epoch optical spectra of nearby events. we discuss the capabilities and limitations of this method. for example , type ia sne at redshifts @xmath0 can be distinguished from most other sn types during the first few weeks of their evolution , based on @xmath1 vs. @xmath2 colors. type ii - p sne have distinct ( very red ) colors at late ( @xmath3  d ) stages. broadband photometry through standard johnson - cousins @xmath4 filters can be useful to classify sne out to @xmath5. the use of sloan digital sky survey ( sdss ) @xmath6 filters allows the extension of our classification method to even higher redshifts ( @xmath7 ) , and the use of infrared bands , to @xmath8. we demonstrate the application of this method to a recently discovered sn from the sdss. finally , we outline the observational data required to further improve the sensitivity of the method , and discuss prospects for its use on future sn samples. community access to the tools developed is provided by a dedicated website.'"
      ]
     },
     "execution_count": 4,
     "metadata": {},
     "output_type": "execute_result"
    }
   ],
   "source": [
    "text = ds.abstract_text.values[0]\n",
    "text"
   ]
  },
  {
   "cell_type": "code",
   "execution_count": 6,
   "id": "208ebb49-cb27-421a-ae9e-098c4f115152",
   "metadata": {
    "tags": []
   },
   "outputs": [
    {
     "data": {
      "text/plain": [
       "['large numbers of supernovae ( sne ) have been discovered in recent years , and many more will be found in the near future.',\n",
       " 'once discovered , further study of a sn and its possible use as an astronomical tool ( e.g.',\n",
       " ', as a distance estimator ) require knowledge of the sn type.',\n",
       " 'current classification methods rely almost solely on the analysis of sn spectra to determine their type.',\n",
       " 'however , spectroscopy may not be possible or practical when sne are faint , numerous , or discovered in archival studies.',\n",
       " 'we present a classification method for sne based on the comparison of their observed colors with synthetic ones , calculated from a large database of multi - epoch optical spectra of nearby events.',\n",
       " 'we discuss the capabilities and limitations of this method.',\n",
       " 'for example , type ia sne at redshifts @xmath0 can be distinguished from most other sn types during the first few weeks of their evolution , based on @xmath1 vs. @xmath2 colors.',\n",
       " 'type ii - p sne have distinct ( very red ) colors at late ( @xmath3  d ) stages.',\n",
       " 'broadband photometry through standard johnson - cousins @xmath4 filters can be useful to classify sne out to @xmath5.',\n",
       " 'the use of sloan digital sky survey ( sdss ) @xmath6 filters allows the extension of our classification method to even higher redshifts ( @xmath7 ) , and the use of infrared bands , to @xmath8.',\n",
       " 'we demonstrate the application of this method to a recently discovered sn from the sdss.',\n",
       " 'finally , we outline the observational data required to further improve the sensitivity of the method , and discuss prospects for its use on future sn samples.',\n",
       " 'community access to the tools developed is provided by a dedicated website.']"
      ]
     },
     "execution_count": 6,
     "metadata": {},
     "output_type": "execute_result"
    }
   ],
   "source": [
    "sentences = sent_tokenize(text)\n",
    "sentences\n"
   ]
  },
  {
   "cell_type": "code",
   "execution_count": 7,
   "id": "f36678d1-e9b2-4744-8745-80933f136d48",
   "metadata": {
    "tags": []
   },
   "outputs": [
    {
     "data": {
      "text/plain": [
       "14"
      ]
     },
     "execution_count": 7,
     "metadata": {},
     "output_type": "execute_result"
    }
   ],
   "source": [
    "len(sentences)"
   ]
  },
  {
   "cell_type": "markdown",
   "id": "3b13159d-ac90-4590-9c20-aaade3cf05bb",
   "metadata": {
    "tags": []
   },
   "source": [
    "# Approach 1. Katheleen"
   ]
  },
  {
   "cell_type": "code",
   "execution_count": 20,
   "id": "b15c4790-00a0-4ee1-93a5-4d23ecc4d193",
   "metadata": {},
   "outputs": [],
   "source": [
    "tran_phrase = ['also', 'additionally', 'furthermore', 'moreover', 'in addition to', 'as well as', 'in fact', 'not only', 'as a matter of fact',\n",
    "               'particularly', 'notably', 'especially', 'significantly', 'for example', 'for instance', 'to illustrate', 'in particular', 'one example',\n",
    "               'considering', 'concerning', 'regarding', 'as for', 'the fact that', 'with regards to', 'on the subject of', 'looking at', 'with reference to',\n",
    "               'similarly', 'likewise', 'equally', 'by the same token', 'in the same way', 'in a similar way',\n",
    "               'specifically', 'namely', 'that is', 'in other words', 'another way', 'what this means is', 'this means',\n",
    "               'but', 'still', 'however', 'while', 'whereas', 'conversely', 'yet', 'in contrast', 'on the contrary', 'on the other hand', 'when in fact', 'by way of contrast',\n",
    "               'indeed', 'besides', 'significantly', 'primarily', 'even more', 'above all', 'more importantly', 'most importantly',\n",
    "               'nevertheless', 'nonetheless', 'although', 'despite', 'regardless', 'admittedly', 'even so', 'even though', 'in spite of', 'notwithstanding', 'be that as it may',\n",
    "               'either way', 'in any case', 'in any event', 'whatever happens', 'all the same', 'at any rate',\n",
    "               'instead', 'rather', 'at least',\n",
    "               'since', 'because', 'due to', 'for the reason', 'owing to', 'inasmuch as',\n",
    "               'unless', 'granting', 'granted', 'provided', 'in the event that', 'as long as', 'so long as', 'only if',\n",
    "               'consequently', 'therefore', 'thus', 'accordingly', 'as a result', 'for this reason', 'as a consequence', 'so much that', 'so much so that',\n",
    "               'for the purpose', 'in mind', 'in the hope that', 'in order that', 'in order to', 'so as to',\n",
    "               'otherwise', 'under those circumstances', 'that being the case', 'in that case', 'if so', 'all else being equal',\n",
    "               'initially', 'secondly', 'thirdly', 'first', 'second', 'third', 'last', 'first of all', 'to start with', 'in the first place', 'in the second place', 'in the third place',\n",
    "               'subsequently', 'previously', 'afterwards', 'eventually', 'after this', 'after that',\n",
    "               'again, ', 'summarizing', 'to repeat', 'stated before', 'mentioned earlier', 'mentioned above',\n",
    "               'incidentally', 'coincidentally', 'anyway', 'by the way', 'to resume', 'returning to the subject', 'at any rate',\n",
    "               'hence', 'ultimately', 'finally', 'therefore', 'altogether', 'overall', 'to conclude', 'as a final point', 'in conclusion', 'given these points', 'in summary', 'to sum up']\n"
   ]
  },
  {
   "cell_type": "code",
   "execution_count": 21,
   "id": "d0234318-f44f-4ee2-b4ad-b552d4648019",
   "metadata": {
    "tags": []
   },
   "outputs": [],
   "source": [
    "# sent_tokenize(text) возвращает тебе список предложений из сплошного текста\n",
    "# 2. Дальше циклом идешь по каждому предложению и проверяешь другим циклом на наличие вводных фраз из списка.\n",
    "# 3. Потом считаешь в скольких предложениях были фразы замечен и делишь на количество предложений."
   ]
  },
  {
   "cell_type": "code",
   "execution_count": 25,
   "id": "dc4bce2f-ec39-4cc8-87b9-3aebf5c5f3da",
   "metadata": {
    "tags": []
   },
   "outputs": [
    {
     "data": {
      "text/plain": [
       "5"
      ]
     },
     "execution_count": 25,
     "metadata": {},
     "output_type": "execute_result"
    }
   ],
   "source": [
    "c = 0\n",
    "for s in sentences:\n",
    "    for p in tran_phrase:\n",
    "        if p in s:\n",
    "            c += 1\n",
    "c"
   ]
  },
  {
   "cell_type": "code",
   "execution_count": 28,
   "id": "a777151f-694f-486b-9668-2c143b8bd475",
   "metadata": {
    "tags": []
   },
   "outputs": [
    {
     "data": {
      "text/plain": [
       "0.35714285714285715"
      ]
     },
     "execution_count": 28,
     "metadata": {},
     "output_type": "execute_result"
    }
   ],
   "source": [
    "c / len(sentences)"
   ]
  },
  {
   "cell_type": "markdown",
   "id": "6f1ae86d-6f24-401f-812a-be92c7c336a9",
   "metadata": {},
   "source": [
    "## Variant 1"
   ]
  },
  {
   "cell_type": "code",
   "execution_count": 73,
   "id": "334ec56d-4679-4a13-bdfc-ebd806188631",
   "metadata": {
    "tags": []
   },
   "outputs": [],
   "source": [
    "def cohesion_sentences_kat1 (text):\n",
    "    sentences = sent_tokenize(text)\n",
    "    c = 0\n",
    "    for sent in sentences:\n",
    "        for p in tran_phrase:\n",
    "            if p in sent:\n",
    "                c += 1\n",
    "                #break\n",
    "    coh = c/len(sentences) \n",
    "    return coh\n"
   ]
  },
  {
   "cell_type": "code",
   "execution_count": 74,
   "id": "bd2d1330-01e8-4997-ab4f-f336d77b79a9",
   "metadata": {
    "tags": []
   },
   "outputs": [
    {
     "data": {
      "text/plain": [
       "0.35714285714285715"
      ]
     },
     "execution_count": 74,
     "metadata": {},
     "output_type": "execute_result"
    }
   ],
   "source": [
    "cohesion_sentences_kat1(ds.abstract_text.values[0])"
   ]
  },
  {
   "cell_type": "code",
   "execution_count": 75,
   "id": "9ef4c32b-051d-4963-aba6-79fa2cd5e6dc",
   "metadata": {
    "tags": []
   },
   "outputs": [
    {
     "data": {
      "text/plain": [
       "0.46153846153846156"
      ]
     },
     "execution_count": 75,
     "metadata": {},
     "output_type": "execute_result"
    }
   ],
   "source": [
    "cohesion_sentences(ds.best_summary_gen_greedinit.values[0])"
   ]
  },
  {
   "cell_type": "code",
   "execution_count": 76,
   "id": "2169a021-01e8-4bd6-8224-b32038ccf94e",
   "metadata": {
    "tags": []
   },
   "outputs": [],
   "source": [
    "ch1_a = [cohesion_sentences_kat1(t) for t in ds.abstract_text.values]\n",
    "ch1_e = [cohesion_sentences_kat1(t) for t in ds.best_summary_gen_greedinit.values]"
   ]
  },
  {
   "cell_type": "code",
   "execution_count": 77,
   "id": "5c603a67-3f11-4240-819b-bf42d96653c7",
   "metadata": {
    "tags": []
   },
   "outputs": [
    {
     "name": "stdout",
     "output_type": "stream",
     "text": [
      "0.46484778130694343 0.26136922433284054\n",
      "0.5264297477730892 0.27983976022017715\n"
     ]
    }
   ],
   "source": [
    "print(np.array(ch1_a).mean(), np.array(ch1_a).std())\n",
    "print(np.array(ch1_e).mean(), np.array(ch1_e).std())"
   ]
  },
  {
   "cell_type": "code",
   "execution_count": null,
   "id": "5d92a154-83b7-4be6-9785-b773819c7b67",
   "metadata": {},
   "outputs": [],
   "source": []
  },
  {
   "cell_type": "code",
   "execution_count": 90,
   "id": "a22d2262-2bca-44a6-9a5d-8d20294278ad",
   "metadata": {
    "tags": []
   },
   "outputs": [
    {
     "data": {
      "text/plain": [
       "KstestResult(statistic=0.0946816122108276, pvalue=7.022363698399595e-66, statistic_location=0.45454545454545453, statistic_sign=1)"
      ]
     },
     "execution_count": 90,
     "metadata": {},
     "output_type": "execute_result"
    }
   ],
   "source": [
    "#Kolmogorov-Smirnov test based on https://docs.scipy.org/doc/scipy/reference/generated/scipy.stats.kstest.html\n",
    "from scipy import stats\n",
    "stats.kstest(ch1_a, ch1_e)"
   ]
  },
  {
   "cell_type": "markdown",
   "id": "ffa79290-daa5-4c12-8835-9a9ba1af4cdd",
   "metadata": {},
   "source": [
    "The p-value is less than 0.05, so we reject the null hypothesis and assume the two samples are from different distributions"
   ]
  },
  {
   "cell_type": "code",
   "execution_count": 91,
   "id": "73616673-a1c1-4c44-a91d-c6dd229d6665",
   "metadata": {
    "tags": []
   },
   "outputs": [
    {
     "data": {
      "text/plain": [
       "20.827790808495784"
      ]
     },
     "execution_count": 91,
     "metadata": {},
     "output_type": "execute_result"
    }
   ],
   "source": [
    "# Z-test based on http://homework.uoregon.edu/pub/class/es202/ztest.html#:~:text=If%20the%20Z%2Dstatistic%20is,two%20samples%20are%20significantly%20different\n",
    "X1 = sum(ch1_e)/len(ch1_e)\n",
    "X2 = sum(ch1_a)/len(ch1_a)\n",
    "s1 = np.std(ch1_e)/math.sqrt(len(ch1_e))\n",
    "s2 = np.std(ch1_a)/math.sqrt(len(ch1_a))\n",
    "Z = abs(X1-X2)/math.sqrt(s1**2+s2**2)\n",
    "Z"
   ]
  },
  {
   "cell_type": "markdown",
   "id": "7dbeecb0-caed-4ec0-9d12-461ac5789e7c",
   "metadata": {},
   "source": [
    "In general, in more qualitative terms:\n",
    "\n",
    "- If the Z-statistic is less than 2, the two samples are the same.\n",
    "- If the Z-statistic is between 2.0 and 2.5, the two samples are marginally different\n",
    "- If the Z-statistic is between 2.5 and 3.0, the two samples are significantly different\n",
    "- If the Z-statistic is more then 3.0, the two samples are highly signficantly different\n",
    "\n",
    "The Z value is more than 3.0, so the two samples are highly significantly different"
   ]
  },
  {
   "cell_type": "markdown",
   "id": "2cf40570-9594-421d-8672-2af848d1bafd",
   "metadata": {},
   "source": [
    "## Variant 2"
   ]
  },
  {
   "cell_type": "code",
   "execution_count": 111,
   "id": "a9a77f37-ad2f-4b3d-a56b-6dd380dd9806",
   "metadata": {
    "tags": []
   },
   "outputs": [],
   "source": [
    "def cohesion_sentences_kat2 (text):\n",
    "    sentences = sent_tokenize(text)\n",
    "    if len(sentences) == 0:\n",
    "        return 0\n",
    "    c = 0\n",
    "    for sent in sentences:\n",
    "        for p in tran_phrase:\n",
    "            if p in sent:\n",
    "                c += 1\n",
    "                break\n",
    "    if c == 0:\n",
    "        return 0\n",
    "    coh = (c - c/len(sentences)) / (c/len(sentences))\n",
    "    return coh\n"
   ]
  },
  {
   "cell_type": "code",
   "execution_count": 112,
   "id": "6741d04b-dd9c-4722-9dec-dd28cee2421c",
   "metadata": {
    "tags": []
   },
   "outputs": [
    {
     "data": {
      "text/plain": [
       "10.000000000000002"
      ]
     },
     "execution_count": 112,
     "metadata": {},
     "output_type": "execute_result"
    }
   ],
   "source": [
    "cohesion_sentences_kat2(ds.abstract_text.values[1])"
   ]
  },
  {
   "cell_type": "code",
   "execution_count": 113,
   "id": "1ce91216-8258-419d-b90b-301299c954e2",
   "metadata": {
    "tags": []
   },
   "outputs": [
    {
     "data": {
      "text/plain": [
       "11.0"
      ]
     },
     "execution_count": 113,
     "metadata": {},
     "output_type": "execute_result"
    }
   ],
   "source": [
    "cohesion_sentences_kat2(ds.best_summary_gen_greedinit.values[1])"
   ]
  },
  {
   "cell_type": "code",
   "execution_count": 114,
   "id": "f8c7feea-9060-4b5a-84bd-e852c5202f2e",
   "metadata": {
    "tags": []
   },
   "outputs": [
    {
     "data": {
      "application/vnd.jupyter.widget-view+json": {
       "model_id": "bbad8e97a7434ea38352113dbb1347fb",
       "version_major": 2,
       "version_minor": 0
      },
      "text/plain": [
       "  0%|          | 0/16772 [00:00<?, ?it/s]"
      ]
     },
     "metadata": {},
     "output_type": "display_data"
    }
   ],
   "source": [
    "ch1_a_kat2 = [cohesion_sentences_kat2(t) for t in tqdm(ds.abstract_text.values)]\n",
    "ch1_e_kat2 = [cohesion_sentences_kat2(t) for t in ds.best_summary_gen_greedinit.values]"
   ]
  },
  {
   "cell_type": "code",
   "execution_count": 115,
   "id": "99483f74-b52a-4c9e-9d53-74193b5c875b",
   "metadata": {
    "tags": []
   },
   "outputs": [
    {
     "name": "stdout",
     "output_type": "stream",
     "text": [
      "10.914619604102075 3.0365228043437176\n",
      "12.224421655139519 3.321737813153755\n"
     ]
    }
   ],
   "source": [
    "print(np.array(ch1_a_kat2).mean(), np.array(ch1_a_kat2).std())\n",
    "print(np.array(ch1_e_kat2).mean(), np.array(ch1_e_kat2).std())"
   ]
  },
  {
   "cell_type": "code",
   "execution_count": 116,
   "id": "bed11556-49ea-4531-b076-2e61731de052",
   "metadata": {
    "tags": []
   },
   "outputs": [
    {
     "data": {
      "text/plain": [
       "KstestResult(statistic=0.20403052706892444, pvalue=1.442426324723892e-306, statistic_location=11.0, statistic_sign=1)"
      ]
     },
     "execution_count": 116,
     "metadata": {},
     "output_type": "execute_result"
    }
   ],
   "source": [
    "#Kolmogorov-Smirnov test based on https://docs.scipy.org/doc/scipy/reference/generated/scipy.stats.kstest.html\n",
    "from scipy import stats\n",
    "stats.kstest(ch1_a_kat2, ch1_e_kat2)"
   ]
  },
  {
   "cell_type": "markdown",
   "id": "e8fee2e2-d074-42b9-a189-3e231c9e3ebe",
   "metadata": {},
   "source": [
    "The p-value is less than 0.05, so we reject the null hypothesis and assume the two samples are from different distributions"
   ]
  },
  {
   "cell_type": "code",
   "execution_count": 117,
   "id": "912a20e2-7237-41c3-b556-bf4071473b88",
   "metadata": {
    "tags": []
   },
   "outputs": [
    {
     "data": {
      "text/plain": [
       "37.691052419350136"
      ]
     },
     "execution_count": 117,
     "metadata": {},
     "output_type": "execute_result"
    }
   ],
   "source": [
    "# Z-test based on http://homework.uoregon.edu/pub/class/es202/ztest.html#:~:text=If%20the%20Z%2Dstatistic%20is,two%20samples%20are%20significantly%20different\n",
    "X1 = sum(ch1_e_kat2)/len(ch1_e_kat2)\n",
    "X2 = sum(ch1_a_kat2)/len(ch1_a_kat2)\n",
    "s1 = np.std(ch1_e_kat2)/math.sqrt(len(ch1_e_kat2))\n",
    "s2 = np.std(ch1_a_kat2)/math.sqrt(len(ch1_a_kat2))\n",
    "Z = abs(X1-X2)/math.sqrt(s1**2+s2**2)\n",
    "Z"
   ]
  },
  {
   "cell_type": "markdown",
   "id": "731c4aee-318d-4c85-a86c-95dce12bee82",
   "metadata": {},
   "source": [
    "In general, in more qualitative terms:\n",
    "\n",
    "- If the Z-statistic is less than 2, the two samples are the same.\n",
    "- If the Z-statistic is between 2.0 and 2.5, the two samples are marginally different\n",
    "- If the Z-statistic is between 2.5 and 3.0, the two samples are significantly different\n",
    "- If the Z-statistic is more then 3.0, the two samples are highly signficantly different\n",
    "\n",
    "The Z value is more than 3.0, so the two samples are highly significantly different"
   ]
  },
  {
   "cell_type": "markdown",
   "id": "25bafa86-f643-4135-9639-7ff71474eb1c",
   "metadata": {},
   "source": [
    "# Approach 2. Rizki"
   ]
  },
  {
   "cell_type": "code",
   "execution_count": 45,
   "id": "1281c4ed-d787-44a4-adac-88ee558b770f",
   "metadata": {
    "tags": []
   },
   "outputs": [],
   "source": [
    "from sklearn.metrics.pairwise import cosine_similarity\n",
    "from sentence_transformers import SentenceTransformer"
   ]
  },
  {
   "cell_type": "code",
   "execution_count": 46,
   "id": "e7a76d0c-d892-4c1b-ab3b-ac1c6c8b094c",
   "metadata": {
    "tags": []
   },
   "outputs": [],
   "source": [
    "model_emb = SentenceTransformer('bert-base-nli-mean-tokens')"
   ]
  },
  {
   "cell_type": "code",
   "execution_count": 47,
   "id": "ac134ea1-a9d9-45ab-91f4-f58829a2ddea",
   "metadata": {
    "tags": []
   },
   "outputs": [],
   "source": [
    "def similarity_measure(text1, text2):\n",
    "    # based on https://towardsdatascience.com/bert-for-measuring-text-similarity-eec91c6bf9e1\n",
    "    text_embeddings = model_emb.encode([text1, text2])\n",
    "    sim_score = cosine_similarity(text_embeddings[0].reshape(1, -1), text_embeddings[1].reshape(1, -1))\n",
    "    \n",
    "    return sim_score[0][0]"
   ]
  },
  {
   "cell_type": "code",
   "execution_count": 49,
   "id": "9a48baeb-0362-4d6c-bbc6-4c03104151de",
   "metadata": {
    "tags": []
   },
   "outputs": [
    {
     "data": {
      "text/plain": [
       "0.1286886"
      ]
     },
     "execution_count": 49,
     "metadata": {},
     "output_type": "execute_result"
    }
   ],
   "source": [
    "text1 = 'I eat green apples.'\n",
    "text2 = 'I drive a car'#'You eat red pears.'\n",
    "similarity_measure(text1, text2)"
   ]
  },
  {
   "cell_type": "code",
   "execution_count": 52,
   "id": "36e31a4b-1fdc-4846-bd75-fe1aafe26010",
   "metadata": {
    "tags": []
   },
   "outputs": [
    {
     "data": {
      "text/plain": [
       "(14, 768)"
      ]
     },
     "execution_count": 52,
     "metadata": {},
     "output_type": "execute_result"
    }
   ],
   "source": [
    "text_embeddings = model_emb.encode(sentences)\n",
    "text_embeddings.shape"
   ]
  },
  {
   "cell_type": "code",
   "execution_count": 53,
   "id": "4829eda3-3781-4ac7-956c-29bc51aaf709",
   "metadata": {
    "tags": []
   },
   "outputs": [
    {
     "data": {
      "text/plain": [
       "(14, 14)"
      ]
     },
     "execution_count": 53,
     "metadata": {},
     "output_type": "execute_result"
    }
   ],
   "source": [
    "sims = cosine_similarity(text_embeddings)\n",
    "sims.shape"
   ]
  },
  {
   "cell_type": "code",
   "execution_count": 54,
   "id": "0eb11a9c-a6fe-4455-bbe8-215812d4ad23",
   "metadata": {
    "tags": []
   },
   "outputs": [
    {
     "data": {
      "text/plain": [
       "array([[1.        , 0.47352725, 0.11070882, 0.34036985, 0.29603538,\n",
       "        0.40755123, 0.11841585, 0.56210774, 0.42521006, 0.25653106,\n",
       "        0.5670333 , 0.42018476, 0.4022354 , 0.24819499],\n",
       "       [0.47352725, 0.9999999 , 0.499432  , 0.45222092, 0.46304783,\n",
       "        0.47951576, 0.43001255, 0.3444252 , 0.288548  , 0.36619243,\n",
       "        0.5389468 , 0.54393196, 0.57814693, 0.28896093],\n",
       "       [0.11070882, 0.499432  , 1.0000001 , 0.6000216 , 0.4316842 ,\n",
       "        0.41990677, 0.766924  , 0.3133676 , 0.38480145, 0.4575426 ,\n",
       "        0.29481354, 0.60097104, 0.49889857, 0.3382705 ],\n",
       "       [0.34036985, 0.45222092, 0.6000216 , 0.9999999 , 0.49103212,\n",
       "        0.634961  , 0.46329194, 0.49715373, 0.46527928, 0.43268085,\n",
       "        0.46407184, 0.49544275, 0.4215319 , 0.30025396],\n",
       "       [0.29603538, 0.46304783, 0.4316842 , 0.49103212, 1.0000001 ,\n",
       "        0.3937165 , 0.42072374, 0.3269339 , 0.34332156, 0.4253332 ,\n",
       "        0.3066213 , 0.31302488, 0.34276932, 0.16955425],\n",
       "       [0.40755123, 0.47951576, 0.41990677, 0.634961  , 0.3937165 ,\n",
       "        1.        , 0.3757794 , 0.550524  , 0.5472617 , 0.5958248 ,\n",
       "        0.69950634, 0.5013904 , 0.5474329 , 0.2992382 ],\n",
       "       [0.11841585, 0.43001255, 0.766924  , 0.46329194, 0.42072374,\n",
       "        0.3757794 , 1.        , 0.23571394, 0.34459123, 0.3683309 ,\n",
       "        0.23144156, 0.5339713 , 0.5031462 , 0.36695087],\n",
       "       [0.56210774, 0.3444252 , 0.3133676 , 0.49715373, 0.3269339 ,\n",
       "        0.550524  , 0.23571394, 0.99999976, 0.60066926, 0.470695  ,\n",
       "        0.5360337 , 0.47293898, 0.36395943, 0.33230996],\n",
       "       [0.42521006, 0.288548  , 0.38480145, 0.46527928, 0.34332156,\n",
       "        0.5472617 , 0.34459123, 0.60066926, 1.        , 0.41806042,\n",
       "        0.6006766 , 0.3904367 , 0.3698523 , 0.13941348],\n",
       "       [0.25653106, 0.36619243, 0.4575426 , 0.43268085, 0.4253332 ,\n",
       "        0.5958248 , 0.3683309 , 0.470695  , 0.41806042, 1.0000004 ,\n",
       "        0.56640196, 0.51068306, 0.48832837, 0.51268476],\n",
       "       [0.5670333 , 0.5389468 , 0.29481354, 0.46407184, 0.3066213 ,\n",
       "        0.69950634, 0.23144156, 0.5360337 , 0.6006766 , 0.56640196,\n",
       "        0.9999998 , 0.45750216, 0.5672899 , 0.23554537],\n",
       "       [0.42018476, 0.54393196, 0.60097104, 0.49544275, 0.31302488,\n",
       "        0.5013904 , 0.5339713 , 0.47293898, 0.3904367 , 0.51068306,\n",
       "        0.45750216, 0.99999994, 0.6831903 , 0.45401028],\n",
       "       [0.4022354 , 0.57814693, 0.49889857, 0.4215319 , 0.34276932,\n",
       "        0.5474329 , 0.5031462 , 0.36395943, 0.3698523 , 0.48832837,\n",
       "        0.5672899 , 0.6831903 , 1.0000001 , 0.38894162],\n",
       "       [0.24819499, 0.28896093, 0.3382705 , 0.30025396, 0.16955425,\n",
       "        0.2992382 , 0.36695087, 0.33230996, 0.13941348, 0.51268476,\n",
       "        0.23554537, 0.45401028, 0.38894162, 0.9999999 ]], dtype=float32)"
      ]
     },
     "execution_count": 54,
     "metadata": {},
     "output_type": "execute_result"
    }
   ],
   "source": [
    "sims"
   ]
  },
  {
   "cell_type": "code",
   "execution_count": 55,
   "id": "16ee9129-170a-4fb3-98f0-db3f886010f3",
   "metadata": {
    "tags": []
   },
   "outputs": [],
   "source": [
    "np.fill_diagonal(sims, 0)"
   ]
  },
  {
   "cell_type": "code",
   "execution_count": 56,
   "id": "4f644a4d-7b55-4f1a-997a-ecc89fbc25e1",
   "metadata": {
    "tags": []
   },
   "outputs": [
    {
     "data": {
      "text/plain": [
       "array([[0.        , 0.47352725, 0.11070882, 0.34036985, 0.29603538,\n",
       "        0.40755123, 0.11841585, 0.56210774, 0.42521006, 0.25653106,\n",
       "        0.5670333 , 0.42018476, 0.4022354 , 0.24819499],\n",
       "       [0.47352725, 0.        , 0.499432  , 0.45222092, 0.46304783,\n",
       "        0.47951576, 0.43001255, 0.3444252 , 0.288548  , 0.36619243,\n",
       "        0.5389468 , 0.54393196, 0.57814693, 0.28896093],\n",
       "       [0.11070882, 0.499432  , 0.        , 0.6000216 , 0.4316842 ,\n",
       "        0.41990677, 0.766924  , 0.3133676 , 0.38480145, 0.4575426 ,\n",
       "        0.29481354, 0.60097104, 0.49889857, 0.3382705 ],\n",
       "       [0.34036985, 0.45222092, 0.6000216 , 0.        , 0.49103212,\n",
       "        0.634961  , 0.46329194, 0.49715373, 0.46527928, 0.43268085,\n",
       "        0.46407184, 0.49544275, 0.4215319 , 0.30025396],\n",
       "       [0.29603538, 0.46304783, 0.4316842 , 0.49103212, 0.        ,\n",
       "        0.3937165 , 0.42072374, 0.3269339 , 0.34332156, 0.4253332 ,\n",
       "        0.3066213 , 0.31302488, 0.34276932, 0.16955425],\n",
       "       [0.40755123, 0.47951576, 0.41990677, 0.634961  , 0.3937165 ,\n",
       "        0.        , 0.3757794 , 0.550524  , 0.5472617 , 0.5958248 ,\n",
       "        0.69950634, 0.5013904 , 0.5474329 , 0.2992382 ],\n",
       "       [0.11841585, 0.43001255, 0.766924  , 0.46329194, 0.42072374,\n",
       "        0.3757794 , 0.        , 0.23571394, 0.34459123, 0.3683309 ,\n",
       "        0.23144156, 0.5339713 , 0.5031462 , 0.36695087],\n",
       "       [0.56210774, 0.3444252 , 0.3133676 , 0.49715373, 0.3269339 ,\n",
       "        0.550524  , 0.23571394, 0.        , 0.60066926, 0.470695  ,\n",
       "        0.5360337 , 0.47293898, 0.36395943, 0.33230996],\n",
       "       [0.42521006, 0.288548  , 0.38480145, 0.46527928, 0.34332156,\n",
       "        0.5472617 , 0.34459123, 0.60066926, 0.        , 0.41806042,\n",
       "        0.6006766 , 0.3904367 , 0.3698523 , 0.13941348],\n",
       "       [0.25653106, 0.36619243, 0.4575426 , 0.43268085, 0.4253332 ,\n",
       "        0.5958248 , 0.3683309 , 0.470695  , 0.41806042, 0.        ,\n",
       "        0.56640196, 0.51068306, 0.48832837, 0.51268476],\n",
       "       [0.5670333 , 0.5389468 , 0.29481354, 0.46407184, 0.3066213 ,\n",
       "        0.69950634, 0.23144156, 0.5360337 , 0.6006766 , 0.56640196,\n",
       "        0.        , 0.45750216, 0.5672899 , 0.23554537],\n",
       "       [0.42018476, 0.54393196, 0.60097104, 0.49544275, 0.31302488,\n",
       "        0.5013904 , 0.5339713 , 0.47293898, 0.3904367 , 0.51068306,\n",
       "        0.45750216, 0.        , 0.6831903 , 0.45401028],\n",
       "       [0.4022354 , 0.57814693, 0.49889857, 0.4215319 , 0.34276932,\n",
       "        0.5474329 , 0.5031462 , 0.36395943, 0.3698523 , 0.48832837,\n",
       "        0.5672899 , 0.6831903 , 0.        , 0.38894162],\n",
       "       [0.24819499, 0.28896093, 0.3382705 , 0.30025396, 0.16955425,\n",
       "        0.2992382 , 0.36695087, 0.33230996, 0.13941348, 0.51268476,\n",
       "        0.23554537, 0.45401028, 0.38894162, 0.        ]], dtype=float32)"
      ]
     },
     "execution_count": 56,
     "metadata": {},
     "output_type": "execute_result"
    }
   ],
   "source": [
    "sims\n"
   ]
  },
  {
   "cell_type": "code",
   "execution_count": 67,
   "id": "890ebae8-cdea-42b3-b2b0-91291a2c35df",
   "metadata": {
    "tags": []
   },
   "outputs": [
    {
     "data": {
      "text/plain": [
       "91.0"
      ]
     },
     "execution_count": 67,
     "metadata": {},
     "output_type": "execute_result"
    }
   ],
   "source": [
    "o = len(sentences)\n",
    "Ns = (o*(o-1)) / 2\n",
    "Ns"
   ]
  },
  {
   "cell_type": "code",
   "execution_count": 68,
   "id": "4901fabd-167c-4a91-bcf0-59555b9a48eb",
   "metadata": {
    "tags": []
   },
   "outputs": [
    {
     "data": {
      "text/plain": [
       "0.42831995199014855"
      ]
     },
     "execution_count": 68,
     "metadata": {},
     "output_type": "execute_result"
    }
   ],
   "source": [
    "C_s = (sims.sum()/2) / Ns\n",
    "C_s"
   ]
  },
  {
   "cell_type": "code",
   "execution_count": 69,
   "id": "774d268e-b02e-47d3-b2f7-7460812f76c4",
   "metadata": {
    "tags": []
   },
   "outputs": [
    {
     "data": {
      "text/plain": [
       "0.766924"
      ]
     },
     "execution_count": 69,
     "metadata": {},
     "output_type": "execute_result"
    }
   ],
   "source": [
    "M = sims.max()\n",
    "M"
   ]
  },
  {
   "cell_type": "code",
   "execution_count": 64,
   "id": "054da5b2-b3f3-4e33-869f-72f2cb273de6",
   "metadata": {
    "tags": []
   },
   "outputs": [],
   "source": [
    "import math"
   ]
  },
  {
   "cell_type": "code",
   "execution_count": 70,
   "id": "91320dde-ff38-4c02-806b-4e7ea32643e3",
   "metadata": {
    "tags": []
   },
   "outputs": [
    {
     "data": {
      "text/plain": [
       "0.7643275911380762"
      ]
     },
     "execution_count": 70,
     "metadata": {},
     "output_type": "execute_result"
    }
   ],
   "source": [
    "CoH = math.log(C_s*9 + 1) / math.log(M*9 + 1) \n",
    "CoH"
   ]
  },
  {
   "cell_type": "code",
   "execution_count": 82,
   "id": "41c8c71c-2b76-40ef-a601-831179ba3d41",
   "metadata": {},
   "outputs": [],
   "source": [
    "def cohesion_sentences2 (text):\n",
    "    sentences = sent_tokenize(text)\n",
    "    \n",
    "    text_embeddings = model_emb.encode(sentences)\n",
    "    \n",
    "    sims = cosine_similarity(text_embeddings)\n",
    "    \n",
    "    o = len(sentences)\n",
    "    Ns = (o*(o-1)) / 2\n",
    "\n",
    "    C_s = (sims.sum()/2) / Ns\n",
    "    \n",
    "    M = sims.max()\n",
    "    \n",
    "    coh = math.log(C_s*9 + 1) / math.log(M*9 + 1) \n",
    "    return coh"
   ]
  },
  {
   "cell_type": "code",
   "execution_count": 86,
   "id": "bd98479b-edc8-4f7d-baf7-19b9e9947c70",
   "metadata": {
    "tags": []
   },
   "outputs": [
    {
     "data": {
      "application/vnd.jupyter.widget-view+json": {
       "model_id": "69cac8d5460f4c3bafebf12af1a2b0ec",
       "version_major": 2,
       "version_minor": 0
      },
      "text/plain": [
       "  0%|          | 0/16772 [00:00<?, ?it/s]"
      ]
     },
     "metadata": {},
     "output_type": "display_data"
    },
    {
     "data": {
      "application/vnd.jupyter.widget-view+json": {
       "model_id": "8611fdf5c7cd422aa150712ccecf88f1",
       "version_major": 2,
       "version_minor": 0
      },
      "text/plain": [
       "  0%|          | 0/16772 [00:00<?, ?it/s]"
      ]
     },
     "metadata": {},
     "output_type": "display_data"
    }
   ],
   "source": [
    "ch1_a2 = [cohesion_sentences2(t) for t in tqdm(ds.abstract_text.values)]\n",
    "ch1_e2 = [cohesion_sentences2(t) for t in tqdm(ds.best_summary_gen_greedinit.values)]"
   ]
  },
  {
   "cell_type": "code",
   "execution_count": 87,
   "id": "12c17a6b-f3dd-41f0-bc39-17cd918ebc7a",
   "metadata": {
    "tags": []
   },
   "outputs": [
    {
     "name": "stdout",
     "output_type": "stream",
     "text": [
      "0.8186350713841957 0.03834699116622226\n",
      "0.7974816965935313 0.03913991966683371\n"
     ]
    }
   ],
   "source": [
    "print(np.array(ch1_a2).mean(), np.array(ch1_a2).std())\n",
    "print(np.array(ch1_e2).mean(), np.array(ch1_e2).std())"
   ]
  },
  {
   "cell_type": "code",
   "execution_count": null,
   "id": "8bb5f02f-7e04-4e07-8640-fad267e99698",
   "metadata": {},
   "outputs": [],
   "source": []
  },
  {
   "cell_type": "code",
   "execution_count": 88,
   "id": "97062c9e-4169-47ee-b59d-5a0ef7b897ee",
   "metadata": {
    "tags": []
   },
   "outputs": [
    {
     "data": {
      "text/plain": [
       "KstestResult(statistic=0.2275220605771524, pvalue=0.0, statistic_location=0.8043906604181668, statistic_sign=-1)"
      ]
     },
     "execution_count": 88,
     "metadata": {},
     "output_type": "execute_result"
    }
   ],
   "source": [
    "#Kolmogorov-Smirnov test based on https://docs.scipy.org/doc/scipy/reference/generated/scipy.stats.kstest.html\n",
    "from scipy import stats\n",
    "stats.kstest(ch1_a2, ch1_e2)"
   ]
  },
  {
   "cell_type": "markdown",
   "id": "f0af710a-1a53-427b-ab5f-7602cd48af3c",
   "metadata": {},
   "source": [
    "The p-value is less than 0.05, so we reject the null hypothesis and assume the two samples are from different distributions"
   ]
  },
  {
   "cell_type": "code",
   "execution_count": 89,
   "id": "c0df3972-7170-4c68-ac35-c3daf3751d3c",
   "metadata": {
    "tags": []
   },
   "outputs": [
    {
     "data": {
      "text/plain": [
       "49.99608573601559"
      ]
     },
     "execution_count": 89,
     "metadata": {},
     "output_type": "execute_result"
    }
   ],
   "source": [
    "# Z-test based on http://homework.uoregon.edu/pub/class/es202/ztest.html#:~:text=If%20the%20Z%2Dstatistic%20is,two%20samples%20are%20significantly%20different\n",
    "X1 = sum(ch1_e2)/len(ch1_e2)\n",
    "X2 = sum(ch1_a2)/len(ch1_a2)\n",
    "s1 = np.std(ch1_e2)/math.sqrt(len(ch1_e2))\n",
    "s2 = np.std(ch1_a2)/math.sqrt(len(ch1_a2))\n",
    "Z = abs(X1-X2)/math.sqrt(s1**2+s2**2)\n",
    "Z"
   ]
  },
  {
   "cell_type": "markdown",
   "id": "73619675-b2d9-4115-b312-6c454ebe9a5a",
   "metadata": {},
   "source": [
    "In general, in more qualitative terms:\n",
    "\n",
    "- If the Z-statistic is less than 2, the two samples are the same.\n",
    "- If the Z-statistic is between 2.0 and 2.5, the two samples are marginally different\n",
    "- If the Z-statistic is between 2.5 and 3.0, the two samples are significantly different\n",
    "- If the Z-statistic is more then 3.0, the two samples are highly signficantly different\n",
    "\n",
    "The Z value is more than 3.0, so the two samples are highly significantly different"
   ]
  }
 ],
 "metadata": {
  "kernelspec": {
   "display_name": "tf2-gpu-cuda11.1",
   "language": "python",
   "name": "tf2-gpu-cuda11.1"
  },
  "language_info": {
   "codemirror_mode": {
    "name": "ipython",
    "version": 3
   },
   "file_extension": ".py",
   "mimetype": "text/x-python",
   "name": "python",
   "nbconvert_exporter": "python",
   "pygments_lexer": "ipython3",
   "version": "3.9.16"
  }
 },
 "nbformat": 4,
 "nbformat_minor": 5
}
