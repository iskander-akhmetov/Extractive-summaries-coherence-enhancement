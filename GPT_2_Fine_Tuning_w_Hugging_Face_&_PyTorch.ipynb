{
 "cells": [
  {
   "cell_type": "markdown",
   "metadata": {
    "id": "EKOTlwcmxmej"
   },
   "source": [
    "# Fine-Tuning GPT-2 to increase coherence in extractive summaries\n",
    "\n",
    "\n",
    "\n"
   ]
  },
  {
   "cell_type": "code",
   "execution_count": 205,
   "metadata": {
    "tags": []
   },
   "outputs": [],
   "source": [
    "#pytorch part is based on this https://reyfarhan.com/posts/easy-gpt2-finetuning-huggingface/\n",
    "#https://colab.research.google.com/drive/13dZVYEOMhXhkXWfvSMVM1TTtUDrT6Aeh?usp=sharing#scrollTo=NKGBoVwuhM4H"
   ]
  },
  {
   "cell_type": "markdown",
   "metadata": {
    "id": "Xf3Qw77SZGbS"
   },
   "source": [
    "# Setup"
   ]
  },
  {
   "cell_type": "code",
   "execution_count": 2,
   "metadata": {
    "colab": {
     "base_uri": "https://localhost:8080/",
     "height": 125
    },
    "id": "JCCeyhuDHdOu",
    "outputId": "0b340a2a-1876-4e9b-bc5c-8133520ebec9",
    "tags": []
   },
   "outputs": [
    {
     "name": "stderr",
     "output_type": "stream",
     "text": [
      "2023-05-14 21:34:26.193260: I tensorflow/core/platform/cpu_feature_guard.cc:193] This TensorFlow binary is optimized with oneAPI Deep Neural Network Library (oneDNN) to use the following CPU instructions in performance-critical operations:  SSE4.1 SSE4.2 AVX AVX2 FMA\n",
      "To enable them in other operations, rebuild TensorFlow with the appropriate compiler flags.\n",
      "[nltk_data] Downloading package punkt to /home/i.akhmetov/nltk_data...\n",
      "[nltk_data]   Package punkt is already up-to-date!\n"
     ]
    }
   ],
   "source": [
    "import os\n",
    "import time\n",
    "import datetime\n",
    "#from google.colab import drive\n",
    "\n",
    "import pandas as pd\n",
    "import seaborn as sns\n",
    "import numpy as np\n",
    "import random\n",
    "\n",
    "import matplotlib.pyplot as plt\n",
    "#% matplotlib inline\n",
    "\n",
    "import torch\n",
    "from torch.utils.data import Dataset, DataLoader, random_split, RandomSampler, SequentialSampler\n",
    "torch.manual_seed(42)\n",
    "\n",
    "from transformers import GPT2LMHeadModel,  GPT2Tokenizer, GPT2Config, GPT2LMHeadModel\n",
    "from transformers import AdamW, get_linear_schedule_with_warmup\n",
    "\n",
    "import nltk\n",
    "nltk.download('punkt')\n",
    "\n",
    "from tqdm.notebook import tqdm\n",
    "\n",
    "from nltk.tokenize import word_tokenize, sent_tokenize\n",
    "\n",
    "import matplotlib\n",
    "\n",
    "from sentence_transformers import SentenceTransformer\n",
    "from sklearn.metrics.pairwise import cosine_similarity\n",
    "import statistics\n",
    "\n",
    "import numpy as np\n",
    "import math"
   ]
  },
  {
   "cell_type": "code",
   "execution_count": 3,
   "metadata": {
    "tags": []
   },
   "outputs": [],
   "source": [
    "import pickle\n",
    "def save_obj(obj, name):\n",
    "    pickle.dump(obj,open(name + '.pkl', 'wb'), protocol=4)\n",
    "    \n",
    "def load_obj(name):\n",
    "    with open(name + '.pkl', 'rb') as f:\n",
    "        return pickle.load(f)"
   ]
  },
  {
   "cell_type": "code",
   "execution_count": 2,
   "metadata": {
    "colab": {
     "base_uri": "https://localhost:8080/",
     "height": 372
    },
    "id": "satxtOn9CzgR",
    "outputId": "1a07f6a7-b862-471e-976c-7722ab23570a",
    "tags": []
   },
   "outputs": [
    {
     "name": "stdout",
     "output_type": "stream",
     "text": [
      "Sat Apr 15 23:43:02 2023       \n",
      "+-----------------------------------------------------------------------------+\n",
      "| NVIDIA-SMI 515.105.01   Driver Version: 515.105.01   CUDA Version: 11.7     |\n",
      "|-------------------------------+----------------------+----------------------+\n",
      "| GPU  Name        Persistence-M| Bus-Id        Disp.A | Volatile Uncorr. ECC |\n",
      "| Fan  Temp  Perf  Pwr:Usage/Cap|         Memory-Usage | GPU-Util  Compute M. |\n",
      "|                               |                      |               MIG M. |\n",
      "|===============================+======================+======================|\n",
      "|   0  NVIDIA A100 80G...  Off  | 00000000:09:00.0 Off |                    0 |\n",
      "| N/A   64C    P0    87W / 300W |  31475MiB / 81920MiB |      0%      Default |\n",
      "|                               |                      |             Disabled |\n",
      "+-------------------------------+----------------------+----------------------+\n",
      "|   1  NVIDIA A100 80G...  Off  | 00000000:0A:00.0 Off |                    0 |\n",
      "| N/A   35C    P0    42W / 300W |      2MiB / 81920MiB |      0%      Default |\n",
      "|                               |                      |             Disabled |\n",
      "+-------------------------------+----------------------+----------------------+\n",
      "                                                                               \n",
      "+-----------------------------------------------------------------------------+\n",
      "| Processes:                                                                  |\n",
      "|  GPU   GI   CI        PID   Type   Process name                  GPU Memory |\n",
      "|        ID   ID                                                   Usage      |\n",
      "|=============================================================================|\n",
      "|    0   N/A  N/A      3014      C   ...2-gpu-cuda11.1/bin/python    31473MiB |\n",
      "+-----------------------------------------------------------------------------+\n"
     ]
    }
   ],
   "source": [
    "!nvidia-smi"
   ]
  },
  {
   "cell_type": "markdown",
   "metadata": {},
   "source": [
    "# Data"
   ]
  },
  {
   "cell_type": "markdown",
   "metadata": {},
   "source": [
    "## Load Data"
   ]
  },
  {
   "cell_type": "code",
   "execution_count": 1,
   "metadata": {
    "tags": []
   },
   "outputs": [],
   "source": [
    "# data is available at https://drive.google.com/file/d/1PyxyXExQo--YKVKaUYSIdIZ-qBzmNWa0/view?usp=sharing"
   ]
  },
  {
   "cell_type": "code",
   "execution_count": 10,
   "metadata": {
    "tags": []
   },
   "outputs": [
    {
     "name": "stderr",
     "output_type": "stream",
     "text": [
      "/tmp/ipykernel_218325/3328218577.py:1: FutureWarning: In a future version of pandas all arguments of read_csv except for the argument 'filepath_or_buffer' will be keyword-only.\n",
      "  ds = pd.read_csv('abstracts.csv', '\\t')\n"
     ]
    },
    {
     "data": {
      "text/html": [
       "<div>\n",
       "<style scoped>\n",
       "    .dataframe tbody tr th:only-of-type {\n",
       "        vertical-align: middle;\n",
       "    }\n",
       "\n",
       "    .dataframe tbody tr th {\n",
       "        vertical-align: top;\n",
       "    }\n",
       "\n",
       "    .dataframe thead th {\n",
       "        text-align: right;\n",
       "    }\n",
       "</style>\n",
       "<table border=\"1\" class=\"dataframe\">\n",
       "  <thead>\n",
       "    <tr style=\"text-align: right;\">\n",
       "      <th></th>\n",
       "      <th>abstract_text</th>\n",
       "      <th>best_summary_gen_greedinit</th>\n",
       "    </tr>\n",
       "  </thead>\n",
       "  <tbody>\n",
       "    <tr>\n",
       "      <th>0</th>\n",
       "      <td>large numbers of supernovae ( sne ) have been ...</td>\n",
       "      <td>the method presented here can become significa...</td>\n",
       "    </tr>\n",
       "    <tr>\n",
       "      <th>1</th>\n",
       "      <td>we investigate the emergence of magnetic flux ...</td>\n",
       "      <td>an important result is that 23% of the loops a...</td>\n",
       "    </tr>\n",
       "    <tr>\n",
       "      <th>2</th>\n",
       "      <td>the estimation of the number of passengers wit...</td>\n",
       "      <td>the ad - hoc estimation is plotted in green. t...</td>\n",
       "    </tr>\n",
       "    <tr>\n",
       "      <th>3</th>\n",
       "      <td>the classical structure - function ( sf ) meth...</td>\n",
       "      <td>this procedure is designated as detrending ana...</td>\n",
       "    </tr>\n",
       "    <tr>\n",
       "      <th>4</th>\n",
       "      <td>given a real number @xmath0 , we study the ass...</td>\n",
       "      <td>the previous theorem can be proved also just u...</td>\n",
       "    </tr>\n",
       "  </tbody>\n",
       "</table>\n",
       "</div>"
      ],
      "text/plain": [
       "                                       abstract_text  \\\n",
       "0  large numbers of supernovae ( sne ) have been ...   \n",
       "1  we investigate the emergence of magnetic flux ...   \n",
       "2  the estimation of the number of passengers wit...   \n",
       "3  the classical structure - function ( sf ) meth...   \n",
       "4  given a real number @xmath0 , we study the ass...   \n",
       "\n",
       "                          best_summary_gen_greedinit  \n",
       "0  the method presented here can become significa...  \n",
       "1  an important result is that 23% of the loops a...  \n",
       "2  the ad - hoc estimation is plotted in green. t...  \n",
       "3  this procedure is designated as detrending ana...  \n",
       "4  the previous theorem can be proved also just u...  "
      ]
     },
     "execution_count": 10,
     "metadata": {},
     "output_type": "execute_result"
    }
   ],
   "source": [
    "ds = pd.read_csv('abstracts.csv', '\\t')\n",
    "ds.head()"
   ]
  },
  {
   "cell_type": "markdown",
   "metadata": {},
   "source": [
    "## Explore data"
   ]
  },
  {
   "cell_type": "code",
   "execution_count": 11,
   "metadata": {
    "tags": []
   },
   "outputs": [],
   "source": [
    "# length in charcters\n",
    "ds['abs_len'] = [len(t) for t in ds.abstract_text]\n",
    "ds['best_sum_len'] = [len(t) for t in ds.best_summary_gen_greedinit]"
   ]
  },
  {
   "cell_type": "code",
   "execution_count": 12,
   "metadata": {
    "tags": []
   },
   "outputs": [
    {
     "data": {
      "text/html": [
       "<div>\n",
       "<style scoped>\n",
       "    .dataframe tbody tr th:only-of-type {\n",
       "        vertical-align: middle;\n",
       "    }\n",
       "\n",
       "    .dataframe tbody tr th {\n",
       "        vertical-align: top;\n",
       "    }\n",
       "\n",
       "    .dataframe thead th {\n",
       "        text-align: right;\n",
       "    }\n",
       "</style>\n",
       "<table border=\"1\" class=\"dataframe\">\n",
       "  <thead>\n",
       "    <tr style=\"text-align: right;\">\n",
       "      <th></th>\n",
       "      <th>abs_len</th>\n",
       "      <th>best_sum_len</th>\n",
       "    </tr>\n",
       "  </thead>\n",
       "  <tbody>\n",
       "    <tr>\n",
       "      <th>count</th>\n",
       "      <td>16772.000000</td>\n",
       "      <td>16772.000000</td>\n",
       "    </tr>\n",
       "    <tr>\n",
       "      <th>mean</th>\n",
       "      <td>1833.826497</td>\n",
       "      <td>1982.895123</td>\n",
       "    </tr>\n",
       "    <tr>\n",
       "      <th>std</th>\n",
       "      <td>467.974779</td>\n",
       "      <td>504.264747</td>\n",
       "    </tr>\n",
       "    <tr>\n",
       "      <th>min</th>\n",
       "      <td>440.000000</td>\n",
       "      <td>678.000000</td>\n",
       "    </tr>\n",
       "    <tr>\n",
       "      <th>25%</th>\n",
       "      <td>1528.000000</td>\n",
       "      <td>1637.000000</td>\n",
       "    </tr>\n",
       "    <tr>\n",
       "      <th>50%</th>\n",
       "      <td>1762.000000</td>\n",
       "      <td>1907.000000</td>\n",
       "    </tr>\n",
       "    <tr>\n",
       "      <th>75%</th>\n",
       "      <td>2069.000000</td>\n",
       "      <td>2248.000000</td>\n",
       "    </tr>\n",
       "    <tr>\n",
       "      <th>max</th>\n",
       "      <td>3978.000000</td>\n",
       "      <td>3999.000000</td>\n",
       "    </tr>\n",
       "  </tbody>\n",
       "</table>\n",
       "</div>"
      ],
      "text/plain": [
       "            abs_len  best_sum_len\n",
       "count  16772.000000  16772.000000\n",
       "mean    1833.826497   1982.895123\n",
       "std      467.974779    504.264747\n",
       "min      440.000000    678.000000\n",
       "25%     1528.000000   1637.000000\n",
       "50%     1762.000000   1907.000000\n",
       "75%     2069.000000   2248.000000\n",
       "max     3978.000000   3999.000000"
      ]
     },
     "execution_count": 12,
     "metadata": {},
     "output_type": "execute_result"
    }
   ],
   "source": [
    "ds.describe()"
   ]
  },
  {
   "cell_type": "code",
   "execution_count": 13,
   "metadata": {
    "tags": []
   },
   "outputs": [
    {
     "data": {
      "application/vnd.jupyter.widget-view+json": {
       "model_id": "c354045cd059489d845ca2a8edcfb2ce",
       "version_major": 2,
       "version_minor": 0
      },
      "text/plain": [
       "  0%|          | 0/16772 [00:00<?, ?it/s]"
      ]
     },
     "metadata": {},
     "output_type": "display_data"
    },
    {
     "data": {
      "application/vnd.jupyter.widget-view+json": {
       "model_id": "dba28d9f0fd64289a0a54c76cb7e3cc2",
       "version_major": 2,
       "version_minor": 0
      },
      "text/plain": [
       "  0%|          | 0/16772 [00:00<?, ?it/s]"
      ]
     },
     "metadata": {},
     "output_type": "display_data"
    }
   ],
   "source": [
    "# length in word tokens\n",
    "ds['abs_len_wt'] = [len(word_tokenize(t)) for t in tqdm(ds.abstract_text)]\n",
    "ds['best_sum_len_wt'] = [len(word_tokenize(t)) for t in  tqdm(ds.best_summary_gen_greedinit)]\n",
    "ds['comb_len_wt'] = ds.abs_len_wt.values + ds.best_sum_len_wt.values"
   ]
  },
  {
   "cell_type": "code",
   "execution_count": 14,
   "metadata": {
    "tags": []
   },
   "outputs": [
    {
     "data": {
      "application/vnd.jupyter.widget-view+json": {
       "model_id": "c04b881d24a84dd0820a4a80cac03360",
       "version_major": 2,
       "version_minor": 0
      },
      "text/plain": [
       "  0%|          | 0/16772 [00:00<?, ?it/s]"
      ]
     },
     "metadata": {},
     "output_type": "display_data"
    },
    {
     "data": {
      "application/vnd.jupyter.widget-view+json": {
       "model_id": "0f9277ba44a2427683e6bec9ff0690c1",
       "version_major": 2,
       "version_minor": 0
      },
      "text/plain": [
       "  0%|          | 0/16772 [00:00<?, ?it/s]"
      ]
     },
     "metadata": {},
     "output_type": "display_data"
    }
   ],
   "source": [
    "ds['abs_num_sent'] = [len(sent_tokenize(t)) for t in tqdm(ds.abstract_text)]\n",
    "ds['best_sum_num_sent'] = [len(sent_tokenize(t)) for t in tqdm(ds.best_summary_gen_greedinit)]"
   ]
  },
  {
   "cell_type": "code",
   "execution_count": 25,
   "metadata": {
    "tags": []
   },
   "outputs": [
    {
     "data": {
      "text/plain": [
       "<Axes: >"
      ]
     },
     "execution_count": 25,
     "metadata": {},
     "output_type": "execute_result"
    },
    {
     "data": {
      "image/png": "[encoded data removed]",
      "text/plain": [
       "<Figure size 640x480 with 1 Axes>"
      ]
     },
     "metadata": {},
     "output_type": "display_data"
    }
   ],
   "source": [
    "ds.abs_len.hist()"
   ]
  },
  {
   "cell_type": "code",
   "execution_count": 26,
   "metadata": {
    "tags": []
   },
   "outputs": [
    {
     "data": {
      "text/plain": [
       "<Axes: >"
      ]
     },
     "execution_count": 26,
     "metadata": {},
     "output_type": "execute_result"
    },
    {
     "data": {
      "image/png": "[encoded data removed]",
      "text/plain": [
       "<Figure size 640x480 with 1 Axes>"
      ]
     },
     "metadata": {},
     "output_type": "display_data"
    }
   ],
   "source": [
    "ds.best_sum_len.hist()"
   ]
  },
  {
   "cell_type": "code",
   "execution_count": 27,
   "metadata": {
    "tags": []
   },
   "outputs": [
    {
     "data": {
      "text/plain": [
       "<Axes: >"
      ]
     },
     "execution_count": 27,
     "metadata": {},
     "output_type": "execute_result"
    },
    {
     "data": {
      "image/png": "[encoded data removed]",
      "text/plain": [
       "<Figure size 640x480 with 1 Axes>"
      ]
     },
     "metadata": {},
     "output_type": "display_data"
    }
   ],
   "source": [
    "ds.abs_len_wt.hist()"
   ]
  },
  {
   "cell_type": "code",
   "execution_count": 28,
   "metadata": {
    "tags": []
   },
   "outputs": [
    {
     "data": {
      "text/plain": [
       "<Axes: >"
      ]
     },
     "execution_count": 28,
     "metadata": {},
     "output_type": "execute_result"
    },
    {
     "data": {
      "image/png": "[encoded data removed]",
      "text/plain": [
       "<Figure size 640x480 with 1 Axes>"
      ]
     },
     "metadata": {},
     "output_type": "display_data"
    }
   ],
   "source": [
    "ds.best_sum_len_wt.hist()"
   ]
  },
  {
   "cell_type": "code",
   "execution_count": 29,
   "metadata": {
    "tags": []
   },
   "outputs": [
    {
     "data": {
      "text/plain": [
       "<Axes: >"
      ]
     },
     "execution_count": 29,
     "metadata": {},
     "output_type": "execute_result"
    },
    {
     "data": {
      "image/png": "[encoded data removed]",
      "text/plain": [
       "<Figure size 640x480 with 1 Axes>"
      ]
     },
     "metadata": {},
     "output_type": "display_data"
    }
   ],
   "source": [
    "ds.comb_len_wt.hist()"
   ]
  },
  {
   "cell_type": "code",
   "execution_count": 30,
   "metadata": {
    "tags": []
   },
   "outputs": [
    {
     "data": {
      "text/plain": [
       "<Axes: >"
      ]
     },
     "execution_count": 30,
     "metadata": {},
     "output_type": "execute_result"
    },
    {
     "data": {
      "image/png": "[encoded data removed]",
      "text/plain": [
       "<Figure size 640x480 with 1 Axes>"
      ]
     },
     "metadata": {},
     "output_type": "display_data"
    }
   ],
   "source": [
    "ds.abs_num_sent.hist()"
   ]
  },
  {
   "cell_type": "code",
   "execution_count": 31,
   "metadata": {
    "tags": []
   },
   "outputs": [
    {
     "data": {
      "text/plain": [
       "<Axes: >"
      ]
     },
     "execution_count": 31,
     "metadata": {},
     "output_type": "execute_result"
    },
    {
     "data": {
      "image/png": "[encoded data removed]",
      "text/plain": [
       "<Figure size 640x480 with 1 Axes>"
      ]
     },
     "metadata": {},
     "output_type": "display_data"
    }
   ],
   "source": [
    "ds.best_sum_num_sent.hist()"
   ]
  },
  {
   "cell_type": "code",
   "execution_count": 16,
   "metadata": {
    "tags": []
   },
   "outputs": [
    {
     "data": {
      "text/html": [
       "<div>\n",
       "<style scoped>\n",
       "    .dataframe tbody tr th:only-of-type {\n",
       "        vertical-align: middle;\n",
       "    }\n",
       "\n",
       "    .dataframe tbody tr th {\n",
       "        vertical-align: top;\n",
       "    }\n",
       "\n",
       "    .dataframe thead th {\n",
       "        text-align: right;\n",
       "    }\n",
       "</style>\n",
       "<table border=\"1\" class=\"dataframe\">\n",
       "  <thead>\n",
       "    <tr style=\"text-align: right;\">\n",
       "      <th></th>\n",
       "      <th>abs_len</th>\n",
       "      <th>best_sum_len</th>\n",
       "      <th>abs_len_wt</th>\n",
       "      <th>best_sum_len_wt</th>\n",
       "      <th>comb_len_wt</th>\n",
       "      <th>abs_num_sent</th>\n",
       "      <th>best_sum_num_sent</th>\n",
       "    </tr>\n",
       "  </thead>\n",
       "  <tbody>\n",
       "    <tr>\n",
       "      <th>count</th>\n",
       "      <td>16772.000000</td>\n",
       "      <td>16772.000000</td>\n",
       "      <td>16772.000000</td>\n",
       "      <td>16772.000000</td>\n",
       "      <td>16772.000000</td>\n",
       "      <td>16772.000000</td>\n",
       "      <td>16772.000000</td>\n",
       "    </tr>\n",
       "    <tr>\n",
       "      <th>mean</th>\n",
       "      <td>1833.826497</td>\n",
       "      <td>1982.895123</td>\n",
       "      <td>333.276115</td>\n",
       "      <td>370.380754</td>\n",
       "      <td>703.656869</td>\n",
       "      <td>12.121929</td>\n",
       "      <td>13.347067</td>\n",
       "    </tr>\n",
       "    <tr>\n",
       "      <th>std</th>\n",
       "      <td>467.974779</td>\n",
       "      <td>504.264747</td>\n",
       "      <td>89.187307</td>\n",
       "      <td>96.047723</td>\n",
       "      <td>179.414725</td>\n",
       "      <td>2.647065</td>\n",
       "      <td>3.064613</td>\n",
       "    </tr>\n",
       "    <tr>\n",
       "      <th>min</th>\n",
       "      <td>440.000000</td>\n",
       "      <td>678.000000</td>\n",
       "      <td>92.000000</td>\n",
       "      <td>119.000000</td>\n",
       "      <td>230.000000</td>\n",
       "      <td>2.000000</td>\n",
       "      <td>4.000000</td>\n",
       "    </tr>\n",
       "    <tr>\n",
       "      <th>25%</th>\n",
       "      <td>1528.000000</td>\n",
       "      <td>1637.000000</td>\n",
       "      <td>274.000000</td>\n",
       "      <td>304.000000</td>\n",
       "      <td>582.000000</td>\n",
       "      <td>10.000000</td>\n",
       "      <td>11.000000</td>\n",
       "    </tr>\n",
       "    <tr>\n",
       "      <th>50%</th>\n",
       "      <td>1762.000000</td>\n",
       "      <td>1907.000000</td>\n",
       "      <td>318.000000</td>\n",
       "      <td>355.000000</td>\n",
       "      <td>674.000000</td>\n",
       "      <td>12.000000</td>\n",
       "      <td>13.000000</td>\n",
       "    </tr>\n",
       "    <tr>\n",
       "      <th>75%</th>\n",
       "      <td>2069.000000</td>\n",
       "      <td>2248.000000</td>\n",
       "      <td>377.000000</td>\n",
       "      <td>421.000000</td>\n",
       "      <td>795.000000</td>\n",
       "      <td>13.000000</td>\n",
       "      <td>15.000000</td>\n",
       "    </tr>\n",
       "    <tr>\n",
       "      <th>max</th>\n",
       "      <td>3978.000000</td>\n",
       "      <td>3999.000000</td>\n",
       "      <td>1369.000000</td>\n",
       "      <td>1236.000000</td>\n",
       "      <td>2351.000000</td>\n",
       "      <td>32.000000</td>\n",
       "      <td>35.000000</td>\n",
       "    </tr>\n",
       "  </tbody>\n",
       "</table>\n",
       "</div>"
      ],
      "text/plain": [
       "            abs_len  best_sum_len    abs_len_wt  best_sum_len_wt  \\\n",
       "count  16772.000000  16772.000000  16772.000000     16772.000000   \n",
       "mean    1833.826497   1982.895123    333.276115       370.380754   \n",
       "std      467.974779    504.264747     89.187307        96.047723   \n",
       "min      440.000000    678.000000     92.000000       119.000000   \n",
       "25%     1528.000000   1637.000000    274.000000       304.000000   \n",
       "50%     1762.000000   1907.000000    318.000000       355.000000   \n",
       "75%     2069.000000   2248.000000    377.000000       421.000000   \n",
       "max     3978.000000   3999.000000   1369.000000      1236.000000   \n",
       "\n",
       "        comb_len_wt  abs_num_sent  best_sum_num_sent  \n",
       "count  16772.000000  16772.000000       16772.000000  \n",
       "mean     703.656869     12.121929          13.347067  \n",
       "std      179.414725      2.647065           3.064613  \n",
       "min      230.000000      2.000000           4.000000  \n",
       "25%      582.000000     10.000000          11.000000  \n",
       "50%      674.000000     12.000000          13.000000  \n",
       "75%      795.000000     13.000000          15.000000  \n",
       "max     2351.000000     32.000000          35.000000  "
      ]
     },
     "execution_count": 16,
     "metadata": {},
     "output_type": "execute_result"
    }
   ],
   "source": [
    "ds.describe()"
   ]
  },
  {
   "cell_type": "markdown",
   "metadata": {},
   "source": [
    "## Cleanse data"
   ]
  },
  {
   "cell_type": "code",
   "execution_count": 21,
   "metadata": {
    "tags": []
   },
   "outputs": [
    {
     "data": {
      "text/html": [
       "<div>\n",
       "<style scoped>\n",
       "    .dataframe tbody tr th:only-of-type {\n",
       "        vertical-align: middle;\n",
       "    }\n",
       "\n",
       "    .dataframe tbody tr th {\n",
       "        vertical-align: top;\n",
       "    }\n",
       "\n",
       "    .dataframe thead th {\n",
       "        text-align: right;\n",
       "    }\n",
       "</style>\n",
       "<table border=\"1\" class=\"dataframe\">\n",
       "  <thead>\n",
       "    <tr style=\"text-align: right;\">\n",
       "      <th></th>\n",
       "      <th>abs_len</th>\n",
       "      <th>best_sum_len</th>\n",
       "      <th>abs_len_wt</th>\n",
       "      <th>best_sum_len_wt</th>\n",
       "      <th>comb_len_wt</th>\n",
       "      <th>abs_num_sent</th>\n",
       "    </tr>\n",
       "  </thead>\n",
       "  <tbody>\n",
       "    <tr>\n",
       "      <th>count</th>\n",
       "      <td>15590.000000</td>\n",
       "      <td>15590.000000</td>\n",
       "      <td>15590.000000</td>\n",
       "      <td>15590.000000</td>\n",
       "      <td>15590.000000</td>\n",
       "      <td>15590.000000</td>\n",
       "    </tr>\n",
       "    <tr>\n",
       "      <th>mean</th>\n",
       "      <td>1754.392046</td>\n",
       "      <td>1897.688775</td>\n",
       "      <td>317.639513</td>\n",
       "      <td>353.748428</td>\n",
       "      <td>671.387941</td>\n",
       "      <td>12.214625</td>\n",
       "    </tr>\n",
       "    <tr>\n",
       "      <th>std</th>\n",
       "      <td>364.712604</td>\n",
       "      <td>399.087170</td>\n",
       "      <td>68.037851</td>\n",
       "      <td>74.828562</td>\n",
       "      <td>136.578074</td>\n",
       "      <td>2.546178</td>\n",
       "    </tr>\n",
       "    <tr>\n",
       "      <th>min</th>\n",
       "      <td>440.000000</td>\n",
       "      <td>678.000000</td>\n",
       "      <td>92.000000</td>\n",
       "      <td>119.000000</td>\n",
       "      <td>230.000000</td>\n",
       "      <td>5.000000</td>\n",
       "    </tr>\n",
       "    <tr>\n",
       "      <th>25%</th>\n",
       "      <td>1508.250000</td>\n",
       "      <td>1615.000000</td>\n",
       "      <td>271.000000</td>\n",
       "      <td>300.000000</td>\n",
       "      <td>575.000000</td>\n",
       "      <td>11.000000</td>\n",
       "    </tr>\n",
       "    <tr>\n",
       "      <th>50%</th>\n",
       "      <td>1729.000000</td>\n",
       "      <td>1870.000000</td>\n",
       "      <td>312.000000</td>\n",
       "      <td>348.000000</td>\n",
       "      <td>661.000000</td>\n",
       "      <td>12.000000</td>\n",
       "    </tr>\n",
       "    <tr>\n",
       "      <th>75%</th>\n",
       "      <td>1987.000000</td>\n",
       "      <td>2164.000000</td>\n",
       "      <td>361.000000</td>\n",
       "      <td>404.000000</td>\n",
       "      <td>763.000000</td>\n",
       "      <td>13.000000</td>\n",
       "    </tr>\n",
       "    <tr>\n",
       "      <th>max</th>\n",
       "      <td>3439.000000</td>\n",
       "      <td>3398.000000</td>\n",
       "      <td>648.000000</td>\n",
       "      <td>621.000000</td>\n",
       "      <td>1000.000000</td>\n",
       "      <td>36.000000</td>\n",
       "    </tr>\n",
       "  </tbody>\n",
       "</table>\n",
       "</div>"
      ],
      "text/plain": [
       "            abs_len  best_sum_len    abs_len_wt  best_sum_len_wt  \\\n",
       "count  15590.000000  15590.000000  15590.000000     15590.000000   \n",
       "mean    1754.392046   1897.688775    317.639513       353.748428   \n",
       "std      364.712604    399.087170     68.037851        74.828562   \n",
       "min      440.000000    678.000000     92.000000       119.000000   \n",
       "25%     1508.250000   1615.000000    271.000000       300.000000   \n",
       "50%     1729.000000   1870.000000    312.000000       348.000000   \n",
       "75%     1987.000000   2164.000000    361.000000       404.000000   \n",
       "max     3439.000000   3398.000000    648.000000       621.000000   \n",
       "\n",
       "        comb_len_wt  abs_num_sent  \n",
       "count  15590.000000  15590.000000  \n",
       "mean     671.387941     12.214625  \n",
       "std      136.578074      2.546178  \n",
       "min      230.000000      5.000000  \n",
       "25%      575.000000     11.000000  \n",
       "50%      661.000000     12.000000  \n",
       "75%      763.000000     13.000000  \n",
       "max     1000.000000     36.000000  "
      ]
     },
     "execution_count": 21,
     "metadata": {},
     "output_type": "execute_result"
    }
   ],
   "source": [
    "ds[(ds.comb_len_wt<=1000)&(ds.abs_num_sent>=5)].describe()"
   ]
  },
  {
   "cell_type": "code",
   "execution_count": 22,
   "metadata": {
    "tags": []
   },
   "outputs": [],
   "source": [
    "ds = ds[(ds.comb_len_wt<=1000)&(ds.abs_num_sent>=5)]"
   ]
  },
  {
   "cell_type": "markdown",
   "metadata": {},
   "source": [
    "## Data preprocessing"
   ]
  },
  {
   "cell_type": "code",
   "execution_count": 23,
   "metadata": {
    "tags": []
   },
   "outputs": [
    {
     "data": {
      "text/plain": [
       "'dd'"
      ]
     },
     "execution_count": 23,
     "metadata": {},
     "output_type": "execute_result"
    }
   ],
   "source": [
    "def remove_spec_char(text):\n",
    "    valid_chars = 'abcdefghijklmnopqrstuvwxyz .'\n",
    "    return ''.join([c for c in text if c in valid_chars])\n",
    "    \n",
    "remove_spec_char('dd324234*(^&*%&%*')"
   ]
  },
  {
   "cell_type": "code",
   "execution_count": 24,
   "metadata": {
    "tags": []
   },
   "outputs": [
    {
     "name": "stderr",
     "output_type": "stream",
     "text": [
      "/tmp/ipykernel_36524/2838607108.py:1: SettingWithCopyWarning: \n",
      "A value is trying to be set on a copy of a slice from a DataFrame.\n",
      "Try using .loc[row_indexer,col_indexer] = value instead\n",
      "\n",
      "See the caveats in the documentation: https://pandas.pydata.org/pandas-docs/stable/user_guide/indexing.html#returning-a-view-versus-a-copy\n",
      "  ds.abstract_text = [remove_spec_char(t) for t in ds.abstract_text.values]\n",
      "/tmp/ipykernel_36524/2838607108.py:2: SettingWithCopyWarning: \n",
      "A value is trying to be set on a copy of a slice from a DataFrame.\n",
      "Try using .loc[row_indexer,col_indexer] = value instead\n",
      "\n",
      "See the caveats in the documentation: https://pandas.pydata.org/pandas-docs/stable/user_guide/indexing.html#returning-a-view-versus-a-copy\n",
      "  ds.best_summary_gen_greedinit = [remove_spec_char(t) for t in ds.best_summary_gen_greedinit.values]\n"
     ]
    },
    {
     "data": {
      "text/html": [
       "<div>\n",
       "<style scoped>\n",
       "    .dataframe tbody tr th:only-of-type {\n",
       "        vertical-align: middle;\n",
       "    }\n",
       "\n",
       "    .dataframe tbody tr th {\n",
       "        vertical-align: top;\n",
       "    }\n",
       "\n",
       "    .dataframe thead th {\n",
       "        text-align: right;\n",
       "    }\n",
       "</style>\n",
       "<table border=\"1\" class=\"dataframe\">\n",
       "  <thead>\n",
       "    <tr style=\"text-align: right;\">\n",
       "      <th></th>\n",
       "      <th>abstract_text</th>\n",
       "      <th>best_summary_gen_greedinit</th>\n",
       "      <th>abs_len</th>\n",
       "      <th>best_sum_len</th>\n",
       "      <th>abs_len_wt</th>\n",
       "      <th>best_sum_len_wt</th>\n",
       "      <th>comb_len_wt</th>\n",
       "      <th>abs_num_sent</th>\n",
       "    </tr>\n",
       "  </thead>\n",
       "  <tbody>\n",
       "    <tr>\n",
       "      <th>0</th>\n",
       "      <td>large numbers of supernovae  sne  have been di...</td>\n",
       "      <td>the method presented here can become significa...</td>\n",
       "      <td>1658</td>\n",
       "      <td>1780</td>\n",
       "      <td>315</td>\n",
       "      <td>340</td>\n",
       "      <td>655</td>\n",
       "      <td>14</td>\n",
       "    </tr>\n",
       "    <tr>\n",
       "      <th>1</th>\n",
       "      <td>we investigate the emergence of magnetic flux ...</td>\n",
       "      <td>an important result is that  of the loops are ...</td>\n",
       "      <td>1424</td>\n",
       "      <td>1541</td>\n",
       "      <td>252</td>\n",
       "      <td>274</td>\n",
       "      <td>526</td>\n",
       "      <td>12</td>\n",
       "    </tr>\n",
       "    <tr>\n",
       "      <th>2</th>\n",
       "      <td>the estimation of the number of passengers wit...</td>\n",
       "      <td>the ad  hoc estimation is plotted in green. th...</td>\n",
       "      <td>1424</td>\n",
       "      <td>1364</td>\n",
       "      <td>254</td>\n",
       "      <td>241</td>\n",
       "      <td>495</td>\n",
       "      <td>11</td>\n",
       "    </tr>\n",
       "    <tr>\n",
       "      <th>3</th>\n",
       "      <td>the classical structure  function  sf  method ...</td>\n",
       "      <td>this procedure is designated as detrending ana...</td>\n",
       "      <td>1950</td>\n",
       "      <td>1954</td>\n",
       "      <td>342</td>\n",
       "      <td>351</td>\n",
       "      <td>693</td>\n",
       "      <td>17</td>\n",
       "    </tr>\n",
       "    <tr>\n",
       "      <th>4</th>\n",
       "      <td>given a real number xmath  we study the associ...</td>\n",
       "      <td>the previous theorem can be proved also just u...</td>\n",
       "      <td>1202</td>\n",
       "      <td>1340</td>\n",
       "      <td>232</td>\n",
       "      <td>272</td>\n",
       "      <td>504</td>\n",
       "      <td>11</td>\n",
       "    </tr>\n",
       "  </tbody>\n",
       "</table>\n",
       "</div>"
      ],
      "text/plain": [
       "                                       abstract_text  \\\n",
       "0  large numbers of supernovae  sne  have been di...   \n",
       "1  we investigate the emergence of magnetic flux ...   \n",
       "2  the estimation of the number of passengers wit...   \n",
       "3  the classical structure  function  sf  method ...   \n",
       "4  given a real number xmath  we study the associ...   \n",
       "\n",
       "                          best_summary_gen_greedinit  abs_len  best_sum_len  \\\n",
       "0  the method presented here can become significa...     1658          1780   \n",
       "1  an important result is that  of the loops are ...     1424          1541   \n",
       "2  the ad  hoc estimation is plotted in green. th...     1424          1364   \n",
       "3  this procedure is designated as detrending ana...     1950          1954   \n",
       "4  the previous theorem can be proved also just u...     1202          1340   \n",
       "\n",
       "   abs_len_wt  best_sum_len_wt  comb_len_wt  abs_num_sent  \n",
       "0         315              340          655            14  \n",
       "1         252              274          526            12  \n",
       "2         254              241          495            11  \n",
       "3         342              351          693            17  \n",
       "4         232              272          504            11  "
      ]
     },
     "execution_count": 24,
     "metadata": {},
     "output_type": "execute_result"
    }
   ],
   "source": [
    "ds.abstract_text = [remove_spec_char(t) for t in ds.abstract_text.values]\n",
    "ds.best_summary_gen_greedinit = [remove_spec_char(t) for t in ds.best_summary_gen_greedinit.values]\n",
    "ds.head()"
   ]
  },
  {
   "cell_type": "markdown",
   "metadata": {},
   "source": [
    "### Measure cohesion"
   ]
  },
  {
   "cell_type": "code",
   "execution_count": 195,
   "metadata": {
    "tags": []
   },
   "outputs": [
    {
     "name": "stdout",
     "output_type": "stream",
     "text": [
      "4.0397745441376465\n",
      "3.7750922722198683\n"
     ]
    }
   ],
   "source": [
    "model_emb = SentenceTransformer('bert-base-nli-mean-tokens')\n",
    "def cohesion_measure(text):\n",
    "    # based on https://towardsdatascience.com/bert-for-measuring-text-similarity-eec91c6bf9e1\n",
    "    try:\n",
    "        #tokenize text by sentences\n",
    "        sentences = sent_tokenize(text)\n",
    "\n",
    "\n",
    "        sentence_embeddings = model_emb.encode(sentences)\n",
    "        #seq_sims = statistics.median([cosine_similarity(sentence_embeddings[i].reshape(1, -1), sentence_embeddings[i+1].reshape(1, -1)) for i in range(len(sentence_embeddings)-1)])\n",
    "        seq_sims = np.array([cosine_similarity(sentence_embeddings[i].reshape(1, -1), sentence_embeddings[i+1].reshape(1, -1)) for i in range(len(sentence_embeddings)-1)])\n",
    "        if (any(seq_sims) == False)or(seq_sims.sum() == np.nan)or(seq_sims.sum() == 0)or(seq_sims.std() == 0):\n",
    "            return 0\n",
    "        coh = 1/(seq_sims.std()/seq_sims.mean())#seq_sims[0][0]\n",
    "        return coh\n",
    "    except:\n",
    "        return 0\n",
    "\n",
    "# extractive summary\n",
    "text = ds.abstract_text.values[0]\n",
    "#abstractive summary\n",
    "text2 = ds.best_summary_gen_greedinit.values[0]\n",
    "print(cohesion_measure(text))\n",
    "print(cohesion_measure(text2))"
   ]
  },
  {
   "cell_type": "code",
   "execution_count": 26,
   "metadata": {
    "tags": []
   },
   "outputs": [
    {
     "data": {
      "application/json": {
       "ascii": false,
       "bar_format": null,
       "colour": null,
       "elapsed": 0.006453752517700195,
       "initial": 0,
       "n": 0,
       "ncols": null,
       "nrows": null,
       "postfix": null,
       "prefix": "",
       "rate": null,
       "total": 15590,
       "unit": "it",
       "unit_divisor": 1000,
       "unit_scale": false
      },
      "application/vnd.jupyter.widget-view+json": {
       "model_id": "7b5c3d4b429f4d9db3c203c0222402df",
       "version_major": 2,
       "version_minor": 0
      },
      "text/plain": [
       "  0%|          | 0/15590 [00:00<?, ?it/s]"
      ]
     },
     "metadata": {},
     "output_type": "display_data"
    },
    {
     "data": {
      "application/json": {
       "ascii": false,
       "bar_format": null,
       "colour": null,
       "elapsed": 0.0059583187103271484,
       "initial": 0,
       "n": 0,
       "ncols": null,
       "nrows": null,
       "postfix": null,
       "prefix": "",
       "rate": null,
       "total": 15590,
       "unit": "it",
       "unit_divisor": 1000,
       "unit_scale": false
      },
      "application/vnd.jupyter.widget-view+json": {
       "model_id": "b4b2aaf07abe4f5f8e4f618a086fe4e7",
       "version_major": 2,
       "version_minor": 0
      },
      "text/plain": [
       "  0%|          | 0/15590 [00:00<?, ?it/s]"
      ]
     },
     "metadata": {},
     "output_type": "display_data"
    },
    {
     "name": "stdout",
     "output_type": "stream",
     "text": [
      "Extractive cohesions (mean) 3.6984899027449916\n",
      "Abstractive cohesions (mean) 4.524933054215752\n"
     ]
    }
   ],
   "source": [
    "# Cohesions per extractive and abstractive summaries\n",
    "ext_cohes = [cohesion_measure(text) for text in tqdm(ds.best_summary_gen_greedinit.values)]\n",
    "abs_cohes = [cohesion_measure(text) for text in tqdm(ds.abstract_text.values)]\n",
    "print('Extractive cohesions (mean)', sum(ext_cohes)/len(ext_cohes))\n",
    "print('Abstractive cohesions (mean)', sum(abs_cohes)/len(abs_cohes))"
   ]
  },
  {
   "cell_type": "code",
   "execution_count": 28,
   "metadata": {
    "tags": []
   },
   "outputs": [
    {
     "name": "stdout",
     "output_type": "stream",
     "text": [
      "Extractive cohesions (median) 3.405440522638286\n",
      "Abstractive cohesions (median) 4.161314530389809\n"
     ]
    }
   ],
   "source": [
    "print('Extractive cohesions (median)', statistics.median(ext_cohes))\n",
    "print('Abstractive cohesions (median)', statistics.median(abs_cohes))"
   ]
  },
  {
   "cell_type": "code",
   "execution_count": 29,
   "metadata": {
    "tags": []
   },
   "outputs": [
    {
     "data": {
      "text/plain": [
       "KstestResult(statistic=0.24862091084028226, pvalue=0.0, statistic_location=3.81436553824104, statistic_sign=1)"
      ]
     },
     "execution_count": 29,
     "metadata": {},
     "output_type": "execute_result"
    }
   ],
   "source": [
    "#Kolmogorov-Smirnov test based on https://docs.scipy.org/doc/scipy/reference/generated/scipy.stats.kstest.html\n",
    "from scipy import stats\n",
    "stats.kstest(ext_cohes, abs_cohes)"
   ]
  },
  {
   "cell_type": "markdown",
   "metadata": {},
   "source": [
    "The p-value is less than 0.05, so we reject the null hypothesis and assume the two samples are from different distributions"
   ]
  },
  {
   "cell_type": "code",
   "execution_count": 30,
   "metadata": {
    "tags": []
   },
   "outputs": [
    {
     "data": {
      "text/plain": [
       "47.02503945410842"
      ]
     },
     "execution_count": 30,
     "metadata": {},
     "output_type": "execute_result"
    }
   ],
   "source": [
    "# Z-test based on http://homework.uoregon.edu/pub/class/es202/ztest.html#:~:text=If%20the%20Z%2Dstatistic%20is,two%20samples%20are%20significantly%20different\n",
    "X1 = sum(ext_cohes)/len(ext_cohes)\n",
    "X2 = sum(abs_cohes)/len(abs_cohes)\n",
    "s1 = np.std(ext_cohes)/math.sqrt(len(ext_cohes))\n",
    "s2 = np.std(abs_cohes)/math.sqrt(len(abs_cohes))\n",
    "Z = abs(X1-X2)/math.sqrt(s1**2+s2**2)\n",
    "Z"
   ]
  },
  {
   "cell_type": "markdown",
   "metadata": {},
   "source": [
    "In general, in more qualitative terms:\n",
    "\n",
    "- If the Z-statistic is less than 2, the two samples are the same.\n",
    "- If the Z-statistic is between 2.0 and 2.5, the two samples are marginally different\n",
    "- If the Z-statistic is between 2.5 and 3.0, the two samples are significantly different\n",
    "- If the Z-statistic is more then 3.0, the two samples are highly signficantly different\n",
    "\n",
    "The Z value is more than 3.0, so the two samples are highly significantly different"
   ]
  },
  {
   "cell_type": "markdown",
   "metadata": {
    "id": "cMml12FJGjPW"
   },
   "source": [
    "# GPT2 Tokenizer"
   ]
  },
  {
   "cell_type": "markdown",
   "metadata": {
    "id": "ANJhbBwdxN-b"
   },
   "source": [
    "Although the defaults take care of this,I thought I'd show that you can specify some of the special tokens. "
   ]
  },
  {
   "cell_type": "code",
   "execution_count": 31,
   "metadata": {
    "colab": {
     "base_uri": "https://localhost:8080/",
     "height": 134,
     "referenced_widgets": [
      "c1336ea71997462e82cd06beea22d482",
      "855d49d8c5a245bc8497965ba991cf30",
      "6d46299bb5d1414aa2bfa6b500f9786d",
      "7bd2ddd9aceb45008a1b59ea01971fc6",
      "42f0ec7177e94d6f999df8cd14a44cc9",
      "51897d176312490a9cc2f1e6ea223e36",
      "19b51c64ec66418a949217821b711317",
      "1c9ea5a685534b6988fa7c4d48492fc2",
      "0489a4fd50f64513a9b255a1535b245e",
      "ea1d91bf60634e6599270f1fba83500d",
      "515137fcceaa44f982b3fbd5f3a08452",
      "edb3099d63c44b218fa206dae1ba9bc6",
      "00d7ecd3e7c949638441c75297fa352d",
      "354918de69d64d5fa6fa74e61422ae6e",
      "bdf4edd828064de2822db1bc9441bbcf",
      "a57d57e2056b4bc79e04f2b9b4a7cc9e"
     ]
    },
    "id": "Z474sSC6oe7A",
    "outputId": "dac9f475-693b-43a9-b729-268625fd110f",
    "tags": []
   },
   "outputs": [
    {
     "name": "stderr",
     "output_type": "stream",
     "text": [
      "Special tokens have been added in the vocabulary, make sure the associated word embeddings are fine-tuned or trained.\n"
     ]
    }
   ],
   "source": [
    "# Load the GPT tokenizer.\n",
    "tokenizer = GPT2Tokenizer.from_pretrained('gpt2', bos_token='<|startoftext|>', eos_token='<|endoftext|>', pad_token='<|pad|>') #gpt2-medium\n"
   ]
  },
  {
   "cell_type": "code",
   "execution_count": 32,
   "metadata": {
    "colab": {
     "base_uri": "https://localhost:8080/",
     "height": 87
    },
    "id": "sh0XKuDvnryn",
    "outputId": "018f37d8-8c6f-4dd7-84f4-9a6ad50ef2c5",
    "tags": []
   },
   "outputs": [
    {
     "name": "stdout",
     "output_type": "stream",
     "text": [
      "The max model length is 1024 for this model, although the actual embedding size for GPT small is 768\n",
      "The beginning of sequence token <|startoftext|> token has the id 50257\n",
      "The end of sequence token <|endoftext|> has the id 50256\n",
      "The padding token <|pad|> has the id 50258\n"
     ]
    }
   ],
   "source": [
    "print(\"The max model length is {} for this model, although the actual embedding size for GPT small is 768\".format(tokenizer.model_max_length))\n",
    "print(\"The beginning of sequence token {} token has the id {}\".format(tokenizer.convert_ids_to_tokens(tokenizer.bos_token_id), tokenizer.bos_token_id))\n",
    "print(\"The end of sequence token {} has the id {}\".format(tokenizer.convert_ids_to_tokens(tokenizer.eos_token_id), tokenizer.eos_token_id))\n",
    "print(\"The padding token {} has the id {}\".format(tokenizer.convert_ids_to_tokens(tokenizer.pad_token_id), tokenizer.pad_token_id))"
   ]
  },
  {
   "cell_type": "markdown",
   "metadata": {},
   "source": [
    "## Define the Extractive-Abstractive pairs"
   ]
  },
  {
   "cell_type": "code",
   "execution_count": 56,
   "metadata": {
    "tags": []
   },
   "outputs": [],
   "source": [
    "#set aside test set\n",
    "from sklearn.model_selection import train_test_split\n",
    "X_train, X_test, y_train, y_test = train_test_split(ds.best_summary_gen_greedinit.values, ds.abstract_text.values, test_size=0.1, random_state=2023)"
   ]
  },
  {
   "cell_type": "code",
   "execution_count": 57,
   "metadata": {
    "tags": []
   },
   "outputs": [
    {
     "data": {
      "application/json": {
       "ascii": false,
       "bar_format": null,
       "colour": null,
       "elapsed": 0.005320072174072266,
       "initial": 0,
       "n": 0,
       "ncols": null,
       "nrows": null,
       "postfix": null,
       "prefix": "",
       "rate": null,
       "total": 14031,
       "unit": "it",
       "unit_divisor": 1000,
       "unit_scale": false
      },
      "application/vnd.jupyter.widget-view+json": {
       "model_id": "1bb5ea48e1de47dcbe0f40d022c433f7",
       "version_major": 2,
       "version_minor": 0
      },
      "text/plain": [
       "  0%|          | 0/14031 [00:00<?, ?it/s]"
      ]
     },
     "metadata": {},
     "output_type": "display_data"
    },
    {
     "data": {
      "application/json": {
       "ascii": false,
       "bar_format": null,
       "colour": null,
       "elapsed": 0.004368305206298828,
       "initial": 0,
       "n": 0,
       "ncols": null,
       "nrows": null,
       "postfix": null,
       "prefix": "",
       "rate": null,
       "total": 1559,
       "unit": "it",
       "unit_divisor": 1000,
       "unit_scale": false
      },
      "application/vnd.jupyter.widget-view+json": {
       "model_id": "f1aab78e5fb14408912ba49b114af36d",
       "version_major": 2,
       "version_minor": 0
      },
      "text/plain": [
       "  0%|          | 0/1559 [00:00<?, ?it/s]"
      ]
     },
     "metadata": {},
     "output_type": "display_data"
    }
   ],
   "source": [
    "ea_pairs = ['E: ' + e + ' A: ' + a for e,a in zip(tqdm(X_train), y_train)]\n",
    "ea_pairs_test = ['E: ' + e + ' A: ' + a for e,a in zip(tqdm(X_test), y_test)]"
   ]
  },
  {
   "cell_type": "code",
   "execution_count": 58,
   "metadata": {
    "tags": []
   },
   "outputs": [
    {
     "data": {
      "text/plain": [
       "'E: we focus upon the non  degenerate case of high temperatures and low doping  xmath. both xmath and xmath asymptote toward perfectly finite values at non  zero xmath and xmath  even in the absence of disorder  in accord with the results of ref. . it has been therefore claimed that the electronic component xmath of the thermal conductivity of clean  undoped graphene is infinitexcite being limited only by the amount disorder in a dirty sample.  real electron  phonon collisions may modify  i  the imbalance relaxation rate due to electron  hole pair to phonon conversion processes   ii  the inhomogeneous electronic temperature profile  due to energy exchange with the phonon bath  and  iii  the thermoelectric power through phonon drag. contact resistance can be controlled in principle through the incorporation of a highly insulating spacer layer of varying thickness between the graphene and the contact metal.      in the opposite limit where the sample length xmath exceeds the imbalance relaxation length xmath  eqs. the resulting expressions for xmath and xmath are exactly those obtained for graphene possessing zero imbalance relaxation  xmath in eqs.   gthdef   approaches the xmathindependent constant xmath.   the temperature profile xmath now consists of three regions  within a distance xmath of the sample boundaries  the temperature drops approximately linearly  in between these boundary regions  xmath. a large carrier number current xmath  eq.    jnsol    flows through the bulk of the sample  but pinches off to zero at xmath and xmath where  for xmath  generation and recombination processes  respectively  relax the accumulating population imbalance. as indicated by eqs. general results for xmath and xmath at arbitrary doping are obtained and discussed in the penultimate sec. in summary  we have demonstrated that thermoelectric transport in graphene within the hydrodynamic regime exhibits a range of behaviors when the finite rate of carrier imbalance relaxation is taken into account. since the relativistic spectrum of clean graphene is non   we will demonstrate that the same behavior obtains for non  zero imbalance relaxation  xmath  in the limit of short samples  xmath. by comparison  prior A: we compute the electronic component xmath of the thermal conductivity and the thermoelectric power xmath of monolayer graphene  within the hydrodynamic regime  taking into account the slow rate of carrier population imbalance relaxation. interband electron  hole generation and recombination processes are inefficient due to the non  decaying nature of the relativistic energy spectrum. as a result  a population imbalance of the conduction and valence bands is generically induced upon the application of a thermal gradient. we show that the thermoelectric response of a graphene monolayer depends upon the ratio of the sample length to an intrinsic length scale xmath  set by the imbalance relaxation rate. at the same time  we incorporate the crucial influence of the metallic contacts required for the thermopower measurement  under open circuit boundary conditions   since carrier exchange with the contacts also relaxes the imbalance. these effects are especially pronounced for clean graphene  where the thermoelectric transport is limited exclusively by intercarrier collisions. for specimens shorter than xmath  the population imbalance extends throughout the sample  xmath and xmath asymptote toward their zero imbalance relaxation limits. in the opposite limit of a graphene slab longer than xmath  at non  zero doping xmath and xmath approach intrinsic values characteristic of the infinite imbalance relaxation limit. samples of intermediate  long  length in the doped  undoped  case are predicted to exhibit an inhomogeneous temperature profile  whilst xmath and xmath grow linearly with the system size. in all cases except for the shortest devices  we develop a picture of bulk electron and hole number currents that flow between thermally conductive leads  where steady  state recombination and generation processes relax the accumulating imbalance. our analysis incorporates  in addition  the effects of  weak  quenched disorder.'"
      ]
     },
     "execution_count": 58,
     "metadata": {},
     "output_type": "execute_result"
    }
   ],
   "source": [
    "ea_pairs[0]"
   ]
  },
  {
   "cell_type": "code",
   "execution_count": 59,
   "metadata": {
    "tags": []
   },
   "outputs": [
    {
     "data": {
      "text/plain": [
       "'E: in addition  a curve can also be defined as a connected  one  dimensional  compact point set. by effectivizing all these approaches to curves open   or  namely  the sets of points covered by the four classes of computable curves are different. if we look only at curves of computable lengths  then the four effectivizations mentioned above are indeed equivalent. namely  the sets of points covered by the four classes of computable curves are different. let xmath be the part of xmath in the box xmath. this means that the definition of computable curves is robust  at least  for curves of computable lengths. on the other hand  gu  lutz and mayordomo constructed in xcite a computable curve of non  computable length such that none of its computable parametrizations can be injective  open   or  i.e.  if the class of computable curves of computable lengths is point  separable from the class of computable curves of finite lengths. a positive answer will be given in this paper. we will see that these four versions of computable curves are all different. A: in mathematics curves are typically defined as the images of continuous real functions   parametrizations   defined on a closed interval. they can also be defined as connected one  dimensional compact subsets of points. for simple curves of finite lengths  parametrizations can be further required to be injective or even length  normalized. all of these four approaches to curves are classically equivalent. in this paper we investigate four different versions of  computable curves  based on these four approaches. it turns out that they are all different  and hence  we get four different classes of computable curves. more interestingly  these four classes are even  point  separable  in the sense that the sets of points covered by computable curves of different versions are also different. however  if we consider only computable curves of computable lengths  then all four versions of computable curves become equivalent. this shows that the definition of computable curves is robust  at least for those of computable lengths. in addition  we show that the class of computable curves of computable lengths is point  separable from the other four classes of computable curves.'"
      ]
     },
     "execution_count": 59,
     "metadata": {},
     "output_type": "execute_result"
    }
   ],
   "source": [
    "ea_pairs_test[0]"
   ]
  },
  {
   "cell_type": "code",
   "execution_count": 61,
   "metadata": {
    "tags": []
   },
   "outputs": [
    {
     "data": {
      "application/json": {
       "ascii": false,
       "bar_format": null,
       "colour": null,
       "elapsed": 0.0063931941986083984,
       "initial": 0,
       "n": 0,
       "ncols": null,
       "nrows": null,
       "postfix": null,
       "prefix": "",
       "rate": null,
       "total": 14031,
       "unit": "it",
       "unit_divisor": 1000,
       "unit_scale": false
      },
      "application/vnd.jupyter.widget-view+json": {
       "model_id": "eed32fa6c4b443518489c7f72cc52a48",
       "version_major": 2,
       "version_minor": 0
      },
      "text/plain": [
       "  0%|          | 0/14031 [00:00<?, ?it/s]"
      ]
     },
     "metadata": {},
     "output_type": "display_data"
    },
    {
     "data": {
      "application/json": {
       "ascii": false,
       "bar_format": null,
       "colour": null,
       "elapsed": 0.002906322479248047,
       "initial": 0,
       "n": 0,
       "ncols": null,
       "nrows": null,
       "postfix": null,
       "prefix": "",
       "rate": null,
       "total": 1559,
       "unit": "it",
       "unit_divisor": 1000,
       "unit_scale": false
      },
      "application/vnd.jupyter.widget-view+json": {
       "model_id": "3a0ca66212964ac0a2d0f957e7f3a87b",
       "version_major": 2,
       "version_minor": 0
      },
      "text/plain": [
       "  0%|          | 0/1559 [00:00<?, ?it/s]"
      ]
     },
     "metadata": {},
     "output_type": "display_data"
    },
    {
     "data": {
      "text/plain": [
       "943"
      ]
     },
     "execution_count": 61,
     "metadata": {},
     "output_type": "execute_result"
    }
   ],
   "source": [
    "#get max word length\n",
    "max_text_len = max([len(word_tokenize(w)) for w in tqdm(ea_pairs)]+[len(word_tokenize(w)) for w in tqdm(ea_pairs_test)])\n",
    "max_text_len"
   ]
  },
  {
   "cell_type": "markdown",
   "metadata": {
    "id": "ex5O1eV-Pfct"
   },
   "source": [
    "# PyTorch Datasets & Dataloaders\n"
   ]
  },
  {
   "cell_type": "markdown",
   "metadata": {
    "id": "3lgZoOYkxZfx"
   },
   "source": [
    "GPT2 is a large model. Increasing the batch size above 2 has lead to out of memory problems. This can be mitigated by accumulating the gradients but that is out of scope here."
   ]
  },
  {
   "cell_type": "code",
   "execution_count": 62,
   "metadata": {
    "id": "scqrzmqhV__z",
    "tags": []
   },
   "outputs": [],
   "source": [
    "batch_size = 2"
   ]
  },
  {
   "cell_type": "markdown",
   "metadata": {
    "id": "lqGMee7Isfpx"
   },
   "source": [
    "I'm using the standard PyTorch approach of loading data in using a [dataset class](https://pytorch.org/tutorials/beginner/data_loading_tutorial.html).\n",
    "\n",
    "I'm passing in the tokenizer as an argument but normally I would  instantiate it within the class."
   ]
  },
  {
   "cell_type": "code",
   "execution_count": 63,
   "metadata": {
    "id": "U_XJVIetKN-h",
    "tags": []
   },
   "outputs": [],
   "source": [
    "class GPT2Dataset(Dataset):\n",
    "\n",
    "  def __init__(self, txt_list, tokenizer, gpt2_type=\"gpt2\", max_length=768):\n",
    "\n",
    "    self.tokenizer = tokenizer\n",
    "    self.input_ids = []\n",
    "    self.attn_masks = []\n",
    "\n",
    "    for txt in txt_list:\n",
    "\n",
    "      encodings_dict = tokenizer('<|startoftext|>'+ txt + '<|endoftext|>', truncation=True, max_length=max_length, padding=\"max_length\")\n",
    "\n",
    "      self.input_ids.append(torch.tensor(encodings_dict['input_ids']))\n",
    "      self.attn_masks.append(torch.tensor(encodings_dict['attention_mask']))\n",
    "    \n",
    "  def __len__(self):\n",
    "    return len(self.input_ids)\n",
    "\n",
    "  def __getitem__(self, idx):\n",
    "    return self.input_ids[idx], self.attn_masks[idx] "
   ]
  },
  {
   "cell_type": "markdown",
   "metadata": {
    "id": "89Z7aYUgpWrd"
   },
   "source": [
    "To understand how I've used the tokenizer, it's worth reading [the docs](https://huggingface.co/transformers/main_classes/tokenizer.html). I've wrapped each bio in the bos and eos tokens.\n",
    "\n",
    "Every tensor passed to the model should be the same length.\n",
    "\n",
    "If the bio is shorter than 768 tokens, it will be padded to a length of 768 using the padding token. In addition, an attention mask will be returned that needs to be passed to the model to tell it to ignore the padding tokens. \n",
    "\n",
    "If the bio is longer than 768 tokens, it will be truncated without the eos_token. This isn't a problem."
   ]
  },
  {
   "cell_type": "code",
   "execution_count": 64,
   "metadata": {
    "colab": {
     "base_uri": "https://localhost:8080/",
     "height": 52
    },
    "id": "Xza_O1_rD7yh",
    "outputId": "b2b5f99f-6959-4fc4-cc58-435de16d5acc",
    "tags": []
   },
   "outputs": [
    {
     "name": "stdout",
     "output_type": "stream",
     "text": [
      "12,627 training samples\n",
      "1,404 validation samples\n"
     ]
    }
   ],
   "source": [
    "dataset = GPT2Dataset(ea_pairs, tokenizer, max_length=max_text_len)\n",
    "\n",
    "# Split into training and validation sets\n",
    "train_size = int(0.9 * len(dataset))\n",
    "val_size = len(dataset) - train_size\n",
    "\n",
    "train_dataset, val_dataset = random_split(dataset, [train_size, val_size])\n",
    "\n",
    "print('{:>5,} training samples'.format(train_size))\n",
    "print('{:>5,} validation samples'.format(val_size))"
   ]
  },
  {
   "cell_type": "code",
   "execution_count": 65,
   "metadata": {
    "id": "x0WeP5PREUuy",
    "tags": []
   },
   "outputs": [],
   "source": [
    "# Create the DataLoaders for our training and validation datasets.\n",
    "# We'll take training samples in random order. \n",
    "train_dataloader = DataLoader(\n",
    "            train_dataset,  # The training samples.\n",
    "            sampler = RandomSampler(train_dataset), # Select batches randomly\n",
    "            batch_size = batch_size # Trains with this batch size.\n",
    "        )\n",
    "\n",
    "# For validation the order doesn't matter, so we'll just read them sequentially.\n",
    "validation_dataloader = DataLoader(\n",
    "            val_dataset, # The validation samples.\n",
    "            sampler = SequentialSampler(val_dataset), # Pull out batches sequentially.\n",
    "            batch_size = batch_size # Evaluate with this batch size.\n",
    "        )"
   ]
  },
  {
   "cell_type": "markdown",
   "metadata": {
    "id": "D6TKgyUzPIQc"
   },
   "source": [
    "# Finetune GPT2 Language Model"
   ]
  },
  {
   "cell_type": "code",
   "execution_count": 66,
   "metadata": {
    "colab": {
     "base_uri": "https://localhost:8080/",
     "height": 72
    },
    "id": "gFsCTp_mporB",
    "outputId": "5e5af71d-ec9a-4a18-e07e-0da7435b6118",
    "tags": []
   },
   "outputs": [],
   "source": [
    "# I'm not really doing anything with the config buheret\n",
    "configuration = GPT2Config.from_pretrained('gpt2', output_hidden_states=False)\n",
    "\n",
    "# instantiate the model\n",
    "model = GPT2LMHeadModel.from_pretrained(\"gpt2\", config=configuration)\n",
    "\n",
    "# this step is necessary because I've added some tokens (bos_token, etc) to the embeddings\n",
    "# otherwise the tokenizer and model tensors won't match up\n",
    "model.resize_token_embeddings(len(tokenizer))\n",
    "\n",
    "# Tell pytorch to run this model on the GPU.\n",
    "device = torch.device(\"cuda\")\n",
    "model.cuda()\n",
    "\n",
    "# Set the seed value all over the place to make this reproducible.\n",
    "seed_val = 42\n",
    "\n",
    "random.seed(seed_val)\n",
    "np.random.seed(seed_val)\n",
    "torch.manual_seed(seed_val)\n",
    "torch.cuda.manual_seed_all(seed_val)"
   ]
  },
  {
   "cell_type": "code",
   "execution_count": 67,
   "metadata": {
    "id": "pBEVY2PYSTXJ",
    "tags": []
   },
   "outputs": [],
   "source": [
    "# some parameters I cooked up that work reasonably well\n",
    "\n",
    "epochs = 5\n",
    "learning_rate = 5e-4\n",
    "warmup_steps = 1e2\n",
    "epsilon = 1e-8\n",
    "\n",
    "# this produces sample output every 100 steps\n",
    "sample_every = 100"
   ]
  },
  {
   "cell_type": "code",
   "execution_count": 68,
   "metadata": {
    "id": "GLs72DuMODJO",
    "tags": []
   },
   "outputs": [],
   "source": [
    "# Note: AdamW is a class from the huggingface library (as opposed to pytorch) \n",
    "optimizer = AdamW(model.parameters(),\n",
    "                  lr = learning_rate,\n",
    "                  eps = epsilon\n",
    "                )"
   ]
  },
  {
   "cell_type": "code",
   "execution_count": 69,
   "metadata": {
    "id": "-p0upAhhRiIx",
    "tags": []
   },
   "outputs": [],
   "source": [
    "# Total number of training steps is [number of batches] x [number of epochs]. \n",
    "# (Note that this is not the same as the number of training samples).\n",
    "total_steps = len(train_dataloader) * epochs\n",
    "\n",
    "# Create the learning rate scheduler.\n",
    "# This changes the learning rate as the training loop progresses\n",
    "scheduler = get_linear_schedule_with_warmup(optimizer, \n",
    "                                            num_warmup_steps = warmup_steps, \n",
    "                                            num_training_steps = total_steps)"
   ]
  },
  {
   "cell_type": "code",
   "execution_count": 70,
   "metadata": {
    "id": "gpt6tR83keZD",
    "tags": []
   },
   "outputs": [],
   "source": [
    "def format_time(elapsed):\n",
    "    return str(datetime.timedelta(seconds=int(round((elapsed)))))"
   ]
  },
  {
   "cell_type": "code",
   "execution_count": 71,
   "metadata": {
    "colab": {
     "base_uri": "https://localhost:8080/",
     "height": 1000
    },
    "id": "vCPohrZ-CTWu",
    "outputId": "7aaef84b-4681-4505-d6d6-ea0421a4dd59",
    "tags": []
   },
   "outputs": [
    {
     "name": "stdout",
     "output_type": "stream",
     "text": [
      "\n",
      "======== Epoch 1 / 5 ========\n",
      "Training...\n",
      "  Batch   100  of  6,314. Loss: 2.913390636444092.   Elapsed: 0:00:15.\n",
      "  Batch   200  of  6,314. Loss: 2.8453927040100098.   Elapsed: 0:00:33.\n",
      "  Batch   300  of  6,314. Loss: 2.7716071605682373.   Elapsed: 0:00:55.\n",
      "  Batch   400  of  6,314. Loss: 1.5646151304244995.   Elapsed: 0:01:10.\n",
      "  Batch   500  of  6,314. Loss: 3.1968233585357666.   Elapsed: 0:01:31.\n",
      "  Batch   600  of  6,314. Loss: 2.2604453563690186.   Elapsed: 0:01:53.\n",
      "  Batch   700  of  6,314. Loss: 2.8680219650268555.   Elapsed: 0:02:16.\n",
      "  Batch   800  of  6,314. Loss: 2.3751161098480225.   Elapsed: 0:02:39.\n",
      "  Batch   900  of  6,314. Loss: 2.574906587600708.   Elapsed: 0:03:01.\n",
      "  Batch 1,000  of  6,314. Loss: 2.4557178020477295.   Elapsed: 0:03:23.\n",
      "  Batch 1,100  of  6,314. Loss: 1.9270150661468506.   Elapsed: 0:03:45.\n",
      "  Batch 1,200  of  6,314. Loss: 2.5566492080688477.   Elapsed: 0:04:07.\n",
      "  Batch 1,300  of  6,314. Loss: 2.4371495246887207.   Elapsed: 0:04:28.\n",
      "  Batch 1,400  of  6,314. Loss: 2.36968731880188.   Elapsed: 0:04:47.\n",
      "  Batch 1,500  of  6,314. Loss: 2.179319143295288.   Elapsed: 0:05:09.\n",
      "  Batch 1,600  of  6,314. Loss: 2.3506932258605957.   Elapsed: 0:05:32.\n",
      "  Batch 1,700  of  6,314. Loss: 2.3918094635009766.   Elapsed: 0:05:53.\n",
      "  Batch 1,800  of  6,314. Loss: 2.2614316940307617.   Elapsed: 0:06:15.\n",
      "  Batch 1,900  of  6,314. Loss: 3.03670334815979.   Elapsed: 0:06:38.\n",
      "  Batch 2,000  of  6,314. Loss: 2.284526824951172.   Elapsed: 0:07:00.\n",
      "  Batch 2,100  of  6,314. Loss: 1.9832682609558105.   Elapsed: 0:07:22.\n",
      "  Batch 2,200  of  6,314. Loss: 2.408087968826294.   Elapsed: 0:07:45.\n",
      "  Batch 2,300  of  6,314. Loss: 2.416193962097168.   Elapsed: 0:08:07.\n",
      "  Batch 2,400  of  6,314. Loss: 2.2850191593170166.   Elapsed: 0:08:29.\n",
      "  Batch 2,500  of  6,314. Loss: 1.9375174045562744.   Elapsed: 0:08:52.\n",
      "  Batch 2,600  of  6,314. Loss: 2.5320913791656494.   Elapsed: 0:09:11.\n",
      "  Batch 2,700  of  6,314. Loss: 2.287771463394165.   Elapsed: 0:09:33.\n",
      "  Batch 2,800  of  6,314. Loss: 2.48996639251709.   Elapsed: 0:09:55.\n",
      "  Batch 2,900  of  6,314. Loss: 1.9537875652313232.   Elapsed: 0:10:17.\n",
      "  Batch 3,000  of  6,314. Loss: 2.8858532905578613.   Elapsed: 0:10:40.\n",
      "  Batch 3,100  of  6,314. Loss: 2.4306554794311523.   Elapsed: 0:11:02.\n",
      "  Batch 3,200  of  6,314. Loss: 2.747812032699585.   Elapsed: 0:11:22.\n",
      "  Batch 3,300  of  6,314. Loss: 2.735619306564331.   Elapsed: 0:11:44.\n",
      "  Batch 3,400  of  6,314. Loss: 3.113051414489746.   Elapsed: 0:12:06.\n",
      "  Batch 3,500  of  6,314. Loss: 1.8343596458435059.   Elapsed: 0:12:29.\n",
      "  Batch 3,600  of  6,314. Loss: 2.3317184448242188.   Elapsed: 0:12:51.\n",
      "  Batch 3,700  of  6,314. Loss: 2.616413116455078.   Elapsed: 0:13:12.\n",
      "  Batch 3,800  of  6,314. Loss: 2.699411630630493.   Elapsed: 0:13:32.\n",
      "  Batch 3,900  of  6,314. Loss: 2.623297691345215.   Elapsed: 0:13:52.\n",
      "  Batch 4,000  of  6,314. Loss: 3.325859546661377.   Elapsed: 0:14:15.\n",
      "  Batch 4,100  of  6,314. Loss: 2.716421365737915.   Elapsed: 0:14:35.\n",
      "  Batch 4,200  of  6,314. Loss: 2.8608338832855225.   Elapsed: 0:14:57.\n",
      "  Batch 4,300  of  6,314. Loss: 2.5773448944091797.   Elapsed: 0:15:19.\n",
      "  Batch 4,400  of  6,314. Loss: 2.223400354385376.   Elapsed: 0:15:39.\n",
      "  Batch 4,500  of  6,314. Loss: 2.523599147796631.   Elapsed: 0:16:02.\n",
      "  Batch 4,600  of  6,314. Loss: 2.8589367866516113.   Elapsed: 0:16:24.\n",
      "  Batch 4,700  of  6,314. Loss: 2.6921517848968506.   Elapsed: 0:16:46.\n",
      "  Batch 4,800  of  6,314. Loss: 2.2901995182037354.   Elapsed: 0:17:06.\n",
      "  Batch 4,900  of  6,314. Loss: 2.2656118869781494.   Elapsed: 0:17:28.\n",
      "  Batch 5,000  of  6,314. Loss: 2.228238582611084.   Elapsed: 0:17:47.\n",
      "  Batch 5,100  of  6,314. Loss: 1.8930169343948364.   Elapsed: 0:18:07.\n",
      "  Batch 5,200  of  6,314. Loss: 2.348072052001953.   Elapsed: 0:18:28.\n",
      "  Batch 5,300  of  6,314. Loss: 2.4772698879241943.   Elapsed: 0:18:49.\n",
      "  Batch 5,400  of  6,314. Loss: 2.318513870239258.   Elapsed: 0:19:11.\n",
      "  Batch 5,500  of  6,314. Loss: 1.874733805656433.   Elapsed: 0:19:33.\n",
      "  Batch 5,600  of  6,314. Loss: 1.450670838356018.   Elapsed: 0:19:51.\n",
      "  Batch 5,700  of  6,314. Loss: 2.4374144077301025.   Elapsed: 0:20:13.\n",
      "  Batch 5,800  of  6,314. Loss: 2.17632794380188.   Elapsed: 0:20:35.\n",
      "  Batch 5,900  of  6,314. Loss: 2.04244327545166.   Elapsed: 0:20:57.\n",
      "  Batch 6,000  of  6,314. Loss: 2.072242498397827.   Elapsed: 0:21:19.\n",
      "  Batch 6,100  of  6,314. Loss: 1.959491491317749.   Elapsed: 0:21:43.\n",
      "  Batch 6,200  of  6,314. Loss: 2.16047739982605.   Elapsed: 0:22:05.\n",
      "  Batch 6,300  of  6,314. Loss: 2.5377109050750732.   Elapsed: 0:22:26.\n",
      "\n",
      "  Average training loss: 2.46\n",
      "  Training epoch took: 0:22:33\n",
      "\n",
      "Running Validation...\n",
      "  Validation Loss: 2.22\n",
      "  Validation took: 0:00:34\n",
      "\n",
      "======== Epoch 2 / 5 ========\n",
      "Training...\n",
      "  Batch   100  of  6,314. Loss: 2.267993211746216.   Elapsed: 0:00:15.\n",
      "  Batch   200  of  6,314. Loss: 2.1735754013061523.   Elapsed: 0:00:35.\n",
      "  Batch   300  of  6,314. Loss: 2.885915994644165.   Elapsed: 0:00:56.\n",
      "  Batch   400  of  6,314. Loss: 2.292929172515869.   Elapsed: 0:01:18.\n",
      "  Batch   500  of  6,314. Loss: 2.198253631591797.   Elapsed: 0:01:38.\n",
      "  Batch   600  of  6,314. Loss: 2.079782009124756.   Elapsed: 0:02:00.\n",
      "  Batch   700  of  6,314. Loss: 2.1527657508850098.   Elapsed: 0:02:24.\n",
      "  Batch   800  of  6,314. Loss: 1.993799090385437.   Elapsed: 0:02:45.\n",
      "  Batch   900  of  6,314. Loss: 1.7105175256729126.   Elapsed: 0:03:07.\n",
      "  Batch 1,000  of  6,314. Loss: 1.9722346067428589.   Elapsed: 0:03:29.\n",
      "  Batch 1,100  of  6,314. Loss: 2.0228497982025146.   Elapsed: 0:03:49.\n",
      "  Batch 1,200  of  6,314. Loss: 2.736090660095215.   Elapsed: 0:04:11.\n",
      "  Batch 1,300  of  6,314. Loss: 2.0136845111846924.   Elapsed: 0:04:34.\n",
      "  Batch 1,400  of  6,314. Loss: 2.022784948348999.   Elapsed: 0:04:56.\n",
      "  Batch 1,500  of  6,314. Loss: 1.6098355054855347.   Elapsed: 0:05:18.\n",
      "  Batch 1,600  of  6,314. Loss: 2.503016710281372.   Elapsed: 0:05:38.\n",
      "  Batch 1,700  of  6,314. Loss: 1.7718178033828735.   Elapsed: 0:06:00.\n",
      "  Batch 1,800  of  6,314. Loss: 1.6154186725616455.   Elapsed: 0:06:22.\n",
      "  Batch 1,900  of  6,314. Loss: 2.024054527282715.   Elapsed: 0:06:41.\n",
      "  Batch 2,000  of  6,314. Loss: 2.6749813556671143.   Elapsed: 0:07:01.\n",
      "  Batch 2,100  of  6,314. Loss: 2.1131880283355713.   Elapsed: 0:07:23.\n",
      "  Batch 2,200  of  6,314. Loss: 2.088526964187622.   Elapsed: 0:07:42.\n",
      "  Batch 2,300  of  6,314. Loss: 2.2132482528686523.   Elapsed: 0:08:03.\n",
      "  Batch 2,400  of  6,314. Loss: 1.4777625799179077.   Elapsed: 0:08:22.\n",
      "  Batch 2,500  of  6,314. Loss: 1.9728392362594604.   Elapsed: 0:08:42.\n",
      "  Batch 2,600  of  6,314. Loss: 2.358626365661621.   Elapsed: 0:09:04.\n",
      "  Batch 2,700  of  6,314. Loss: 2.2775988578796387.   Elapsed: 0:09:26.\n",
      "  Batch 2,800  of  6,314. Loss: 1.921750783920288.   Elapsed: 0:09:49.\n",
      "  Batch 2,900  of  6,314. Loss: 1.6984742879867554.   Elapsed: 0:10:11.\n",
      "  Batch 3,000  of  6,314. Loss: 2.4211459159851074.   Elapsed: 0:10:33.\n",
      "  Batch 3,100  of  6,314. Loss: 2.1230275630950928.   Elapsed: 0:10:56.\n",
      "  Batch 3,200  of  6,314. Loss: 1.7861303091049194.   Elapsed: 0:11:17.\n",
      "  Batch 3,300  of  6,314. Loss: 2.1835005283355713.   Elapsed: 0:11:39.\n",
      "  Batch 3,400  of  6,314. Loss: 2.373295783996582.   Elapsed: 0:12:01.\n",
      "  Batch 3,500  of  6,314. Loss: 1.8271199464797974.   Elapsed: 0:12:22.\n",
      "  Batch 3,600  of  6,314. Loss: 2.5174756050109863.   Elapsed: 0:12:44.\n",
      "  Batch 3,700  of  6,314. Loss: 2.355651378631592.   Elapsed: 0:13:05.\n",
      "  Batch 3,800  of  6,314. Loss: 2.204709768295288.   Elapsed: 0:13:23.\n",
      "  Batch 3,900  of  6,314. Loss: 2.1036784648895264.   Elapsed: 0:13:44.\n",
      "  Batch 4,000  of  6,314. Loss: 2.152311325073242.   Elapsed: 0:14:04.\n",
      "  Batch 4,100  of  6,314. Loss: 2.190092086791992.   Elapsed: 0:14:26.\n",
      "  Batch 4,200  of  6,314. Loss: 2.097794532775879.   Elapsed: 0:14:46.\n",
      "  Batch 4,300  of  6,314. Loss: 2.2072839736938477.   Elapsed: 0:15:08.\n",
      "  Batch 4,400  of  6,314. Loss: 2.068753719329834.   Elapsed: 0:15:30.\n",
      "  Batch 4,500  of  6,314. Loss: 2.2909958362579346.   Elapsed: 0:15:50.\n",
      "  Batch 4,600  of  6,314. Loss: 1.8115675449371338.   Elapsed: 0:16:10.\n",
      "  Batch 4,700  of  6,314. Loss: 2.2845237255096436.   Elapsed: 0:16:33.\n",
      "  Batch 4,800  of  6,314. Loss: 2.0072693824768066.   Elapsed: 0:16:54.\n",
      "  Batch 4,900  of  6,314. Loss: 2.0532445907592773.   Elapsed: 0:17:11.\n",
      "  Batch 5,000  of  6,314. Loss: 2.226564407348633.   Elapsed: 0:17:32.\n",
      "  Batch 5,100  of  6,314. Loss: 1.8990520238876343.   Elapsed: 0:17:53.\n",
      "  Batch 5,200  of  6,314. Loss: 2.2909817695617676.   Elapsed: 0:18:13.\n",
      "  Batch 5,300  of  6,314. Loss: 1.9239749908447266.   Elapsed: 0:18:34.\n",
      "  Batch 5,400  of  6,314. Loss: 2.017317771911621.   Elapsed: 0:18:55.\n",
      "  Batch 5,500  of  6,314. Loss: 2.2796630859375.   Elapsed: 0:19:13.\n",
      "  Batch 5,600  of  6,314. Loss: 2.3409624099731445.   Elapsed: 0:19:36.\n",
      "  Batch 5,700  of  6,314. Loss: 2.551149845123291.   Elapsed: 0:19:58.\n",
      "  Batch 5,800  of  6,314. Loss: 1.8713960647583008.   Elapsed: 0:20:19.\n",
      "  Batch 5,900  of  6,314. Loss: 1.7253639698028564.   Elapsed: 0:20:39.\n",
      "  Batch 6,000  of  6,314. Loss: 1.9437576532363892.   Elapsed: 0:21:01.\n",
      "  Batch 6,100  of  6,314. Loss: 1.806301236152649.   Elapsed: 0:21:21.\n",
      "  Batch 6,200  of  6,314. Loss: 2.172450542449951.   Elapsed: 0:21:43.\n",
      "  Batch 6,300  of  6,314. Loss: 1.917283296585083.   Elapsed: 0:22:05.\n",
      "\n",
      "  Average training loss: 2.18\n",
      "  Training epoch took: 0:22:15\n",
      "\n",
      "Running Validation...\n",
      "  Validation Loss: 2.14\n",
      "  Validation took: 0:00:34\n",
      "\n",
      "======== Epoch 3 / 5 ========\n",
      "Training...\n",
      "  Batch   100  of  6,314. Loss: 2.196367025375366.   Elapsed: 0:00:15.\n",
      "  Batch   200  of  6,314. Loss: 1.6217468976974487.   Elapsed: 0:00:33.\n",
      "  Batch   300  of  6,314. Loss: 2.107499837875366.   Elapsed: 0:00:54.\n",
      "  Batch   400  of  6,314. Loss: 1.8141107559204102.   Elapsed: 0:01:16.\n",
      "  Batch   500  of  6,314. Loss: 1.9916441440582275.   Elapsed: 0:01:37.\n",
      "  Batch   600  of  6,314. Loss: 1.9042105674743652.   Elapsed: 0:01:57.\n",
      "  Batch   700  of  6,314. Loss: 2.2887251377105713.   Elapsed: 0:02:19.\n",
      "  Batch   800  of  6,314. Loss: 2.065183401107788.   Elapsed: 0:02:39.\n",
      "  Batch   900  of  6,314. Loss: 1.5178300142288208.   Elapsed: 0:03:01.\n",
      "  Batch 1,000  of  6,314. Loss: 1.6108906269073486.   Elapsed: 0:03:20.\n",
      "  Batch 1,100  of  6,314. Loss: 1.953722596168518.   Elapsed: 0:03:41.\n",
      "  Batch 1,200  of  6,314. Loss: 1.8642297983169556.   Elapsed: 0:04:04.\n",
      "  Batch 1,300  of  6,314. Loss: 2.2626028060913086.   Elapsed: 0:04:26.\n",
      "  Batch 1,400  of  6,314. Loss: 1.3033472299575806.   Elapsed: 0:04:47.\n",
      "  Batch 1,500  of  6,314. Loss: 2.1528985500335693.   Elapsed: 0:05:07.\n",
      "  Batch 1,600  of  6,314. Loss: 2.3490521907806396.   Elapsed: 0:05:30.\n",
      "  Batch 1,700  of  6,314. Loss: 1.5803812742233276.   Elapsed: 0:05:52.\n",
      "  Batch 1,800  of  6,314. Loss: 1.9595941305160522.   Elapsed: 0:06:14.\n",
      "  Batch 1,900  of  6,314. Loss: 2.130481004714966.   Elapsed: 0:06:35.\n",
      "  Batch 2,000  of  6,314. Loss: 1.8966472148895264.   Elapsed: 0:06:56.\n",
      "  Batch 2,100  of  6,314. Loss: 1.4725507497787476.   Elapsed: 0:07:18.\n",
      "  Batch 2,200  of  6,314. Loss: 1.4389500617980957.   Elapsed: 0:07:41.\n",
      "  Batch 2,300  of  6,314. Loss: 2.429433822631836.   Elapsed: 0:08:02.\n",
      "  Batch 2,400  of  6,314. Loss: 1.9839671850204468.   Elapsed: 0:08:24.\n",
      "  Batch 2,500  of  6,314. Loss: 1.6898738145828247.   Elapsed: 0:08:44.\n",
      "  Batch 2,600  of  6,314. Loss: 2.0655593872070312.   Elapsed: 0:09:04.\n",
      "  Batch 2,700  of  6,314. Loss: 2.138504981994629.   Elapsed: 0:09:26.\n",
      "  Batch 2,800  of  6,314. Loss: 1.7859739065170288.   Elapsed: 0:09:49.\n",
      "  Batch 2,900  of  6,314. Loss: 1.8059130907058716.   Elapsed: 0:10:11.\n",
      "  Batch 3,000  of  6,314. Loss: 1.7059458494186401.   Elapsed: 0:10:32.\n",
      "  Batch 3,100  of  6,314. Loss: 2.1254138946533203.   Elapsed: 0:10:55.\n",
      "  Batch 3,200  of  6,314. Loss: 1.9282386302947998.   Elapsed: 0:11:15.\n",
      "  Batch 3,300  of  6,314. Loss: 2.358642101287842.   Elapsed: 0:11:36.\n",
      "  Batch 3,400  of  6,314. Loss: 2.4700429439544678.   Elapsed: 0:11:58.\n",
      "  Batch 3,500  of  6,314. Loss: 2.238234519958496.   Elapsed: 0:12:18.\n",
      "  Batch 3,600  of  6,314. Loss: 2.169792890548706.   Elapsed: 0:12:36.\n",
      "  Batch 3,700  of  6,314. Loss: 2.2150421142578125.   Elapsed: 0:12:56.\n",
      "  Batch 3,800  of  6,314. Loss: 2.3139915466308594.   Elapsed: 0:13:17.\n",
      "  Batch 3,900  of  6,314. Loss: 2.1384077072143555.   Elapsed: 0:13:36.\n",
      "  Batch 4,000  of  6,314. Loss: 1.8700008392333984.   Elapsed: 0:13:56.\n",
      "  Batch 4,100  of  6,314. Loss: 1.8991130590438843.   Elapsed: 0:14:14.\n",
      "  Batch 4,200  of  6,314. Loss: 2.041025400161743.   Elapsed: 0:14:34.\n",
      "  Batch 4,300  of  6,314. Loss: 2.179298162460327.   Elapsed: 0:14:55.\n",
      "  Batch 4,400  of  6,314. Loss: 2.261927843093872.   Elapsed: 0:15:15.\n",
      "  Batch 4,500  of  6,314. Loss: 2.2121920585632324.   Elapsed: 0:15:37.\n",
      "  Batch 4,600  of  6,314. Loss: 1.9670295715332031.   Elapsed: 0:15:57.\n",
      "  Batch 4,700  of  6,314. Loss: 2.10697603225708.   Elapsed: 0:16:20.\n",
      "  Batch 4,800  of  6,314. Loss: 2.04048752784729.   Elapsed: 0:16:42.\n",
      "  Batch 4,900  of  6,314. Loss: 1.6294025182724.   Elapsed: 0:17:04.\n",
      "  Batch 5,000  of  6,314. Loss: 2.4115068912506104.   Elapsed: 0:17:26.\n",
      "  Batch 5,100  of  6,314. Loss: 1.9767957925796509.   Elapsed: 0:17:44.\n",
      "  Batch 5,200  of  6,314. Loss: 1.9037652015686035.   Elapsed: 0:18:04.\n",
      "  Batch 5,300  of  6,314. Loss: 1.509006142616272.   Elapsed: 0:18:26.\n",
      "  Batch 5,400  of  6,314. Loss: 1.7396186590194702.   Elapsed: 0:18:46.\n",
      "  Batch 5,500  of  6,314. Loss: 2.0097196102142334.   Elapsed: 0:19:08.\n",
      "  Batch 5,600  of  6,314. Loss: 2.2339465618133545.   Elapsed: 0:19:26.\n",
      "  Batch 5,700  of  6,314. Loss: 2.2702345848083496.   Elapsed: 0:19:47.\n",
      "  Batch 5,800  of  6,314. Loss: 2.068274974822998.   Elapsed: 0:20:08.\n",
      "  Batch 5,900  of  6,314. Loss: 1.2118910551071167.   Elapsed: 0:20:28.\n",
      "  Batch 6,000  of  6,314. Loss: 2.1066269874572754.   Elapsed: 0:20:48.\n",
      "  Batch 6,100  of  6,314. Loss: 1.9598100185394287.   Elapsed: 0:21:08.\n",
      "  Batch 6,200  of  6,314. Loss: 1.5473688840866089.   Elapsed: 0:21:30.\n",
      "  Batch 6,300  of  6,314. Loss: 1.8070933818817139.   Elapsed: 0:21:49.\n",
      "\n",
      "  Average training loss: 2.00\n",
      "  Training epoch took: 0:21:57\n",
      "\n",
      "Running Validation...\n",
      "  Validation Loss: 2.10\n",
      "  Validation took: 0:00:34\n",
      "\n",
      "======== Epoch 4 / 5 ========\n",
      "Training...\n",
      "  Batch   100  of  6,314. Loss: 1.9889320135116577.   Elapsed: 0:00:15.\n",
      "  Batch   200  of  6,314. Loss: 1.8809388875961304.   Elapsed: 0:00:37.\n",
      "  Batch   300  of  6,314. Loss: 1.6456174850463867.   Elapsed: 0:00:57.\n",
      "  Batch   400  of  6,314. Loss: 1.295244574546814.   Elapsed: 0:01:18.\n",
      "  Batch   500  of  6,314. Loss: 1.8656989336013794.   Elapsed: 0:01:36.\n",
      "  Batch   600  of  6,314. Loss: 2.186375617980957.   Elapsed: 0:01:57.\n",
      "  Batch   700  of  6,314. Loss: 1.4714559316635132.   Elapsed: 0:02:18.\n",
      "  Batch   800  of  6,314. Loss: 1.7163324356079102.   Elapsed: 0:02:40.\n",
      "  Batch   900  of  6,314. Loss: 1.8264251947402954.   Elapsed: 0:03:03.\n",
      "  Batch 1,000  of  6,314. Loss: 2.061582565307617.   Elapsed: 0:03:23.\n",
      "  Batch 1,100  of  6,314. Loss: 2.3392627239227295.   Elapsed: 0:03:45.\n",
      "  Batch 1,200  of  6,314. Loss: 1.8681203126907349.   Elapsed: 0:04:08.\n",
      "  Batch 1,300  of  6,314. Loss: 1.6572030782699585.   Elapsed: 0:04:30.\n",
      "  Batch 1,400  of  6,314. Loss: 2.4493658542633057.   Elapsed: 0:04:52.\n",
      "  Batch 1,500  of  6,314. Loss: 1.8941236734390259.   Elapsed: 0:05:15.\n",
      "  Batch 1,600  of  6,314. Loss: 1.980141520500183.   Elapsed: 0:05:37.\n",
      "  Batch 1,700  of  6,314. Loss: 1.9508137702941895.   Elapsed: 0:05:58.\n",
      "  Batch 1,800  of  6,314. Loss: 1.650802493095398.   Elapsed: 0:06:21.\n",
      "  Batch 1,900  of  6,314. Loss: 2.107630491256714.   Elapsed: 0:06:41.\n",
      "  Batch 2,000  of  6,314. Loss: 2.128849506378174.   Elapsed: 0:07:02.\n",
      "  Batch 2,100  of  6,314. Loss: 2.3518500328063965.   Elapsed: 0:07:22.\n",
      "  Batch 2,200  of  6,314. Loss: 1.8008044958114624.   Elapsed: 0:07:44.\n",
      "  Batch 2,300  of  6,314. Loss: 1.8906294107437134.   Elapsed: 0:08:05.\n",
      "  Batch 2,400  of  6,314. Loss: 1.7535954713821411.   Elapsed: 0:08:27.\n",
      "  Batch 2,500  of  6,314. Loss: 1.8250693082809448.   Elapsed: 0:08:48.\n",
      "  Batch 2,600  of  6,314. Loss: 2.016986608505249.   Elapsed: 0:09:10.\n",
      "  Batch 2,700  of  6,314. Loss: 2.244217872619629.   Elapsed: 0:09:31.\n",
      "  Batch 2,800  of  6,314. Loss: 2.0968804359436035.   Elapsed: 0:09:53.\n",
      "  Batch 2,900  of  6,314. Loss: 1.9518221616744995.   Elapsed: 0:10:14.\n",
      "  Batch 3,000  of  6,314. Loss: 1.7479403018951416.   Elapsed: 0:10:35.\n",
      "  Batch 3,100  of  6,314. Loss: 1.391347885131836.   Elapsed: 0:10:56.\n",
      "  Batch 3,200  of  6,314. Loss: 1.9219777584075928.   Elapsed: 0:11:17.\n",
      "  Batch 3,300  of  6,314. Loss: 2.1938555240631104.   Elapsed: 0:11:37.\n",
      "  Batch 3,400  of  6,314. Loss: 2.0990731716156006.   Elapsed: 0:11:59.\n",
      "  Batch 3,500  of  6,314. Loss: 1.6801142692565918.   Elapsed: 0:12:19.\n",
      "  Batch 3,600  of  6,314. Loss: 2.237445831298828.   Elapsed: 0:12:41.\n",
      "  Batch 3,700  of  6,314. Loss: 2.3185858726501465.   Elapsed: 0:13:04.\n",
      "  Batch 3,800  of  6,314. Loss: 1.9382191896438599.   Elapsed: 0:13:24.\n",
      "  Batch 3,900  of  6,314. Loss: 1.5042294263839722.   Elapsed: 0:13:44.\n",
      "  Batch 4,000  of  6,314. Loss: 1.529123067855835.   Elapsed: 0:14:05.\n",
      "  Batch 4,100  of  6,314. Loss: 1.8972136974334717.   Elapsed: 0:14:27.\n",
      "  Batch 4,200  of  6,314. Loss: 1.8358681201934814.   Elapsed: 0:14:47.\n",
      "  Batch 4,300  of  6,314. Loss: 1.6090410947799683.   Elapsed: 0:15:07.\n",
      "  Batch 4,400  of  6,314. Loss: 1.827874779701233.   Elapsed: 0:15:27.\n",
      "  Batch 4,500  of  6,314. Loss: 2.1016693115234375.   Elapsed: 0:15:48.\n",
      "  Batch 4,600  of  6,314. Loss: 1.9864662885665894.   Elapsed: 0:16:10.\n",
      "  Batch 4,700  of  6,314. Loss: 1.6627923250198364.   Elapsed: 0:16:32.\n",
      "  Batch 4,800  of  6,314. Loss: 1.51002037525177.   Elapsed: 0:16:53.\n",
      "  Batch 4,900  of  6,314. Loss: 1.8970218896865845.   Elapsed: 0:17:13.\n",
      "  Batch 5,000  of  6,314. Loss: 1.7632395029067993.   Elapsed: 0:17:35.\n",
      "  Batch 5,100  of  6,314. Loss: 1.8672248125076294.   Elapsed: 0:17:55.\n",
      "  Batch 5,200  of  6,314. Loss: 1.6126902103424072.   Elapsed: 0:18:16.\n",
      "  Batch 5,300  of  6,314. Loss: 1.37506103515625.   Elapsed: 0:18:38.\n",
      "  Batch 5,400  of  6,314. Loss: 1.4993255138397217.   Elapsed: 0:19:00.\n",
      "  Batch 5,500  of  6,314. Loss: 1.7977125644683838.   Elapsed: 0:19:20.\n",
      "  Batch 5,600  of  6,314. Loss: 1.9573030471801758.   Elapsed: 0:19:41.\n",
      "  Batch 5,700  of  6,314. Loss: 1.5332709550857544.   Elapsed: 0:20:02.\n",
      "  Batch 5,800  of  6,314. Loss: 1.7617450952529907.   Elapsed: 0:20:24.\n",
      "  Batch 5,900  of  6,314. Loss: 1.6522361040115356.   Elapsed: 0:20:44.\n",
      "  Batch 6,000  of  6,314. Loss: 1.1169147491455078.   Elapsed: 0:21:06.\n",
      "  Batch 6,100  of  6,314. Loss: 1.453065276145935.   Elapsed: 0:21:28.\n",
      "  Batch 6,200  of  6,314. Loss: 1.9527287483215332.   Elapsed: 0:21:49.\n",
      "  Batch 6,300  of  6,314. Loss: 1.9181832075119019.   Elapsed: 0:22:07.\n",
      "\n",
      "  Average training loss: 1.84\n",
      "  Training epoch took: 0:22:15\n",
      "\n",
      "Running Validation...\n",
      "  Validation Loss: 2.08\n",
      "  Validation took: 0:00:34\n",
      "\n",
      "======== Epoch 5 / 5 ========\n",
      "Training...\n",
      "  Batch   100  of  6,314. Loss: 1.4753915071487427.   Elapsed: 0:00:15.\n",
      "  Batch   200  of  6,314. Loss: 1.6492085456848145.   Elapsed: 0:00:35.\n",
      "  Batch   300  of  6,314. Loss: 1.7275984287261963.   Elapsed: 0:00:57.\n",
      "  Batch   400  of  6,314. Loss: 1.8880565166473389.   Elapsed: 0:01:18.\n",
      "  Batch   500  of  6,314. Loss: 1.4017215967178345.   Elapsed: 0:01:39.\n",
      "  Batch   600  of  6,314. Loss: 1.405261516571045.   Elapsed: 0:01:59.\n",
      "  Batch   700  of  6,314. Loss: 1.7853633165359497.   Elapsed: 0:02:21.\n",
      "  Batch   800  of  6,314. Loss: 1.710766315460205.   Elapsed: 0:02:43.\n",
      "  Batch   900  of  6,314. Loss: 1.696114420890808.   Elapsed: 0:03:05.\n",
      "  Batch 1,000  of  6,314. Loss: 1.3887535333633423.   Elapsed: 0:03:27.\n",
      "  Batch 1,100  of  6,314. Loss: 1.8378537893295288.   Elapsed: 0:03:47.\n",
      "  Batch 1,200  of  6,314. Loss: 1.6933356523513794.   Elapsed: 0:04:07.\n",
      "  Batch 1,300  of  6,314. Loss: 1.454846978187561.   Elapsed: 0:04:27.\n",
      "  Batch 1,400  of  6,314. Loss: 1.483355164527893.   Elapsed: 0:04:46.\n",
      "  Batch 1,500  of  6,314. Loss: 2.040295362472534.   Elapsed: 0:05:07.\n",
      "  Batch 1,600  of  6,314. Loss: 1.9218461513519287.   Elapsed: 0:05:30.\n",
      "  Batch 1,700  of  6,314. Loss: 1.7362881898880005.   Elapsed: 0:05:52.\n",
      "  Batch 1,800  of  6,314. Loss: 1.4824072122573853.   Elapsed: 0:06:13.\n",
      "  Batch 1,900  of  6,314. Loss: 1.4608598947525024.   Elapsed: 0:06:35.\n",
      "  Batch 2,000  of  6,314. Loss: 1.7027738094329834.   Elapsed: 0:06:56.\n",
      "  Batch 2,100  of  6,314. Loss: 1.7963138818740845.   Elapsed: 0:07:17.\n",
      "  Batch 2,200  of  6,314. Loss: 1.4268423318862915.   Elapsed: 0:07:37.\n",
      "  Batch 2,300  of  6,314. Loss: 1.6401506662368774.   Elapsed: 0:07:57.\n",
      "  Batch 2,400  of  6,314. Loss: 1.888667345046997.   Elapsed: 0:08:19.\n",
      "  Batch 2,500  of  6,314. Loss: 1.2911254167556763.   Elapsed: 0:08:42.\n",
      "  Batch 2,600  of  6,314. Loss: 1.4589282274246216.   Elapsed: 0:09:04.\n",
      "  Batch 2,700  of  6,314. Loss: 1.4772052764892578.   Elapsed: 0:09:26.\n",
      "  Batch 2,800  of  6,314. Loss: 1.5446802377700806.   Elapsed: 0:09:47.\n",
      "  Batch 2,900  of  6,314. Loss: 1.2737065553665161.   Elapsed: 0:10:09.\n",
      "  Batch 3,000  of  6,314. Loss: 1.3389908075332642.   Elapsed: 0:10:31.\n",
      "  Batch 3,100  of  6,314. Loss: 1.4365565776824951.   Elapsed: 0:10:53.\n",
      "  Batch 3,200  of  6,314. Loss: 1.9868196249008179.   Elapsed: 0:11:15.\n",
      "  Batch 3,300  of  6,314. Loss: 1.5063462257385254.   Elapsed: 0:11:37.\n",
      "  Batch 3,400  of  6,314. Loss: 1.266950011253357.   Elapsed: 0:11:58.\n",
      "  Batch 3,500  of  6,314. Loss: 1.518004298210144.   Elapsed: 0:12:21.\n",
      "  Batch 3,600  of  6,314. Loss: 1.533550500869751.   Elapsed: 0:12:42.\n",
      "  Batch 3,700  of  6,314. Loss: 1.4704798460006714.   Elapsed: 0:13:04.\n",
      "  Batch 3,800  of  6,314. Loss: 1.7199180126190186.   Elapsed: 0:13:25.\n",
      "  Batch 3,900  of  6,314. Loss: 2.018821954727173.   Elapsed: 0:13:45.\n",
      "  Batch 4,000  of  6,314. Loss: 1.8498106002807617.   Elapsed: 0:14:04.\n",
      "  Batch 4,100  of  6,314. Loss: 2.0356569290161133.   Elapsed: 0:14:26.\n",
      "  Batch 4,200  of  6,314. Loss: 1.9238097667694092.   Elapsed: 0:14:48.\n",
      "  Batch 4,300  of  6,314. Loss: 1.70017409324646.   Elapsed: 0:15:07.\n",
      "  Batch 4,400  of  6,314. Loss: 1.7254517078399658.   Elapsed: 0:15:29.\n",
      "  Batch 4,500  of  6,314. Loss: 1.9095021486282349.   Elapsed: 0:15:49.\n",
      "  Batch 4,600  of  6,314. Loss: 1.777765154838562.   Elapsed: 0:16:10.\n",
      "  Batch 4,700  of  6,314. Loss: 1.4294441938400269.   Elapsed: 0:16:31.\n",
      "  Batch 4,800  of  6,314. Loss: 1.6564403772354126.   Elapsed: 0:16:52.\n",
      "  Batch 4,900  of  6,314. Loss: 1.6053502559661865.   Elapsed: 0:17:13.\n",
      "  Batch 5,000  of  6,314. Loss: 1.8408230543136597.   Elapsed: 0:17:36.\n",
      "  Batch 5,100  of  6,314. Loss: 1.4220311641693115.   Elapsed: 0:17:58.\n",
      "  Batch 5,200  of  6,314. Loss: 1.5304075479507446.   Elapsed: 0:18:18.\n",
      "  Batch 5,300  of  6,314. Loss: 1.4231109619140625.   Elapsed: 0:18:36.\n",
      "  Batch 5,400  of  6,314. Loss: 1.7251273393630981.   Elapsed: 0:18:59.\n",
      "  Batch 5,500  of  6,314. Loss: 1.8879477977752686.   Elapsed: 0:19:18.\n",
      "  Batch 5,600  of  6,314. Loss: 1.8019438982009888.   Elapsed: 0:19:37.\n",
      "  Batch 5,700  of  6,314. Loss: 1.6892445087432861.   Elapsed: 0:19:58.\n",
      "  Batch 5,800  of  6,314. Loss: 1.9764446020126343.   Elapsed: 0:20:19.\n",
      "  Batch 5,900  of  6,314. Loss: 1.3434892892837524.   Elapsed: 0:20:38.\n",
      "  Batch 6,000  of  6,314. Loss: 1.6513094902038574.   Elapsed: 0:20:58.\n",
      "  Batch 6,100  of  6,314. Loss: 2.131347894668579.   Elapsed: 0:21:21.\n",
      "  Batch 6,200  of  6,314. Loss: 1.4181535243988037.   Elapsed: 0:21:40.\n",
      "  Batch 6,300  of  6,314. Loss: 1.4060238599777222.   Elapsed: 0:22:01.\n",
      "\n",
      "  Average training loss: 1.69\n",
      "  Training epoch took: 0:22:10\n",
      "\n",
      "Running Validation...\n",
      "  Validation Loss: 2.10\n",
      "  Validation took: 0:00:34\n",
      "\n",
      "Training complete!\n",
      "Total training took 1:53:59 (h:mm:ss)\n"
     ]
    }
   ],
   "source": [
    "total_t0 = time.time()\n",
    "\n",
    "training_stats = []\n",
    "\n",
    "model = model.to(device)\n",
    "\n",
    "for epoch_i in range(0, epochs):\n",
    "\n",
    "    # ========================================\n",
    "    #               Training\n",
    "    # ========================================\n",
    "\n",
    "    print(\"\")\n",
    "    print('======== Epoch {:} / {:} ========'.format(epoch_i + 1, epochs))\n",
    "    print('Training...')\n",
    "\n",
    "    t0 = time.time()\n",
    "\n",
    "    total_train_loss = 0\n",
    "\n",
    "    model.train()\n",
    "\n",
    "    for step, batch in enumerate(train_dataloader):\n",
    "\n",
    "        b_input_ids = batch[0].to(device)\n",
    "        b_labels = batch[0].to(device)\n",
    "        b_masks = batch[1].to(device)\n",
    "\n",
    "        model.zero_grad()        \n",
    "\n",
    "        outputs = model(  b_input_ids,\n",
    "                          labels=b_labels, \n",
    "                          attention_mask = b_masks,\n",
    "                          token_type_ids=None\n",
    "                        )\n",
    "\n",
    "        loss = outputs[0]  \n",
    "\n",
    "        batch_loss = loss.item()\n",
    "        total_train_loss += batch_loss\n",
    "\n",
    "        # Get sample every x batches.\n",
    "        if step % sample_every == 0 and not step == 0:\n",
    "\n",
    "            elapsed = format_time(time.time() - t0)\n",
    "            print('  Batch {:>5,}  of  {:>5,}. Loss: {:>5,}.   Elapsed: {:}.'.format(step, len(train_dataloader), batch_loss, elapsed))\n",
    "\n",
    "            model.eval()\n",
    "\n",
    "            sample_outputs = model.generate(\n",
    "                                    bos_token_id=50257,#random.randint(1,30000),\n",
    "                                    do_sample=True,   \n",
    "                                    top_k=50, \n",
    "                                    max_length = max_text_len,\n",
    "                                    top_p=0.95, \n",
    "                                    num_return_sequences=1,\n",
    "                                    pad_token_id=tokenizer.eos_token_id\n",
    "                                )\n",
    "            # for i, sample_output in enumerate(sample_outputs):\n",
    "            #       print(\"{}: {}\".format(i, tokenizer.decode(sample_output, skip_special_tokens=True)))\n",
    "            \n",
    "            model.train()\n",
    "\n",
    "        loss.backward()\n",
    "\n",
    "        optimizer.step()\n",
    "\n",
    "        scheduler.step()\n",
    "\n",
    "    # Calculate the average loss over all of the batches.\n",
    "    avg_train_loss = total_train_loss / len(train_dataloader)       \n",
    "    \n",
    "    # Measure how long this epoch took.\n",
    "    training_time = format_time(time.time() - t0)\n",
    "\n",
    "    print(\"\")\n",
    "    print(\"  Average training loss: {0:.2f}\".format(avg_train_loss))\n",
    "    print(\"  Training epoch took: {:}\".format(training_time))\n",
    "        \n",
    "    # ========================================\n",
    "    #               Validation\n",
    "    # ========================================\n",
    "\n",
    "    print(\"\")\n",
    "    print(\"Running Validation...\")\n",
    "\n",
    "    t0 = time.time()\n",
    "\n",
    "    model.eval()\n",
    "\n",
    "    total_eval_loss = 0\n",
    "    nb_eval_steps = 0\n",
    "\n",
    "    # Evaluate data for one epoch\n",
    "    for batch in validation_dataloader:\n",
    "        \n",
    "        b_input_ids = batch[0].to(device)\n",
    "        b_labels = batch[0].to(device)\n",
    "        b_masks = batch[1].to(device)\n",
    "        \n",
    "        with torch.no_grad():        \n",
    "\n",
    "            outputs  = model(b_input_ids, \n",
    "#                            token_type_ids=None, \n",
    "                             attention_mask = b_masks,\n",
    "                            labels=b_labels)\n",
    "          \n",
    "            loss = outputs[0]  \n",
    "            \n",
    "        batch_loss = loss.item()\n",
    "        total_eval_loss += batch_loss        \n",
    "\n",
    "    avg_val_loss = total_eval_loss / len(validation_dataloader)\n",
    "    \n",
    "    validation_time = format_time(time.time() - t0)    \n",
    "\n",
    "    print(\"  Validation Loss: {0:.2f}\".format(avg_val_loss))\n",
    "    print(\"  Validation took: {:}\".format(validation_time))\n",
    "\n",
    "    # Record all statistics from this epoch.\n",
    "    training_stats.append(\n",
    "        {\n",
    "            'epoch': epoch_i + 1,\n",
    "            'Training Loss': avg_train_loss,\n",
    "            'Valid. Loss': avg_val_loss,\n",
    "            'Training Time': training_time,\n",
    "            'Validation Time': validation_time\n",
    "        }\n",
    "    )\n",
    "\n",
    "print(\"\")\n",
    "print(\"Training complete!\")\n",
    "print(\"Total training took {:} (h:mm:ss)\".format(format_time(time.time()-total_t0)))"
   ]
  },
  {
   "cell_type": "markdown",
   "metadata": {
    "id": "VQTvJ1vRP7u4"
   },
   "source": [
    "Let's view the summary of the training process."
   ]
  },
  {
   "cell_type": "code",
   "execution_count": 73,
   "metadata": {
    "colab": {
     "base_uri": "https://localhost:8080/",
     "height": 227
    },
    "id": "6O_NbXFGMukX",
    "outputId": "995536c7-afa9-43e4-fc83-27f8d067016a",
    "tags": []
   },
   "outputs": [
    {
     "data": {
      "text/html": [
       "<div>\n",
       "<style scoped>\n",
       "    .dataframe tbody tr th:only-of-type {\n",
       "        vertical-align: middle;\n",
       "    }\n",
       "\n",
       "    .dataframe tbody tr th {\n",
       "        vertical-align: top;\n",
       "    }\n",
       "\n",
       "    .dataframe thead th {\n",
       "        text-align: right;\n",
       "    }\n",
       "</style>\n",
       "<table border=\"1\" class=\"dataframe\">\n",
       "  <thead>\n",
       "    <tr style=\"text-align: right;\">\n",
       "      <th></th>\n",
       "      <th>Training Loss</th>\n",
       "      <th>Valid. Loss</th>\n",
       "      <th>Training Time</th>\n",
       "      <th>Validation Time</th>\n",
       "    </tr>\n",
       "    <tr>\n",
       "      <th>epoch</th>\n",
       "      <th></th>\n",
       "      <th></th>\n",
       "      <th></th>\n",
       "      <th></th>\n",
       "    </tr>\n",
       "  </thead>\n",
       "  <tbody>\n",
       "    <tr>\n",
       "      <th>1</th>\n",
       "      <td>2.46</td>\n",
       "      <td>2.22</td>\n",
       "      <td>0:22:33</td>\n",
       "      <td>0:00:34</td>\n",
       "    </tr>\n",
       "    <tr>\n",
       "      <th>2</th>\n",
       "      <td>2.18</td>\n",
       "      <td>2.14</td>\n",
       "      <td>0:22:15</td>\n",
       "      <td>0:00:34</td>\n",
       "    </tr>\n",
       "    <tr>\n",
       "      <th>3</th>\n",
       "      <td>2.00</td>\n",
       "      <td>2.10</td>\n",
       "      <td>0:21:57</td>\n",
       "      <td>0:00:34</td>\n",
       "    </tr>\n",
       "    <tr>\n",
       "      <th>4</th>\n",
       "      <td>1.84</td>\n",
       "      <td>2.08</td>\n",
       "      <td>0:22:15</td>\n",
       "      <td>0:00:34</td>\n",
       "    </tr>\n",
       "    <tr>\n",
       "      <th>5</th>\n",
       "      <td>1.69</td>\n",
       "      <td>2.10</td>\n",
       "      <td>0:22:10</td>\n",
       "      <td>0:00:34</td>\n",
       "    </tr>\n",
       "  </tbody>\n",
       "</table>\n",
       "</div>"
      ],
      "text/plain": [
       "       Training Loss  Valid. Loss Training Time Validation Time\n",
       "epoch                                                          \n",
       "1               2.46         2.22       0:22:33         0:00:34\n",
       "2               2.18         2.14       0:22:15         0:00:34\n",
       "3               2.00         2.10       0:21:57         0:00:34\n",
       "4               1.84         2.08       0:22:15         0:00:34\n",
       "5               1.69         2.10       0:22:10         0:00:34"
      ]
     },
     "execution_count": 73,
     "metadata": {},
     "output_type": "execute_result"
    }
   ],
   "source": [
    "# Display floats with two decimal places.\n",
    "pd.set_option('display.precision', 2)\n",
    "\n",
    "# Create a DataFrame from our training statistics.\n",
    "df_stats = pd.DataFrame(data=training_stats)\n",
    "\n",
    "# Use the 'epoch' as the row index.\n",
    "df_stats = df_stats.set_index('epoch')\n",
    "\n",
    "# A hack to force the column headers to wrap.\n",
    "#df = df.style.set_table_styles([dict(selector=\"th\",props=[('max-width', '70px')])])\n",
    "\n",
    "# Display the table.\n",
    "df_stats"
   ]
  },
  {
   "cell_type": "code",
   "execution_count": 74,
   "metadata": {
    "colab": {
     "base_uri": "https://localhost:8080/",
     "height": 426
    },
    "id": "68xreA9JAmG5",
    "outputId": "a4a95c98-6daf-4bf2-92e1-5ce23edcebc9",
    "tags": []
   },
   "outputs": [
    {
     "data": {
      "image/png": "[encoded data removed]",
      "text/plain": [
       "<Figure size 1200x600 with 1 Axes>"
      ]
     },
     "metadata": {},
     "output_type": "display_data"
    }
   ],
   "source": [
    "# Use plot styling from seaborn.\n",
    "sns.set(style='darkgrid')\n",
    "\n",
    "# Increase the plot size and font size.\n",
    "sns.set(font_scale=1.5)\n",
    "plt.rcParams[\"figure.figsize\"] = (12,6)\n",
    "\n",
    "# Plot the learning curve.\n",
    "plt.plot(df_stats['Training Loss'], 'b-o', label=\"Training\")\n",
    "plt.plot(df_stats['Valid. Loss'], 'g-o', label=\"Validation\")\n",
    "\n",
    "# Label the plot.\n",
    "plt.title(\"Training & Validation Loss\")\n",
    "plt.xlabel(\"Epoch\")\n",
    "plt.ylabel(\"Loss\")\n",
    "plt.legend()\n",
    "plt.xticks([1, 2, 3, 4])\n",
    "\n",
    "plt.show()"
   ]
  },
  {
   "cell_type": "markdown",
   "metadata": {
    "id": "GfjYoa6WmkN6"
   },
   "source": [
    "# Display Model Info"
   ]
  },
  {
   "cell_type": "code",
   "execution_count": 75,
   "metadata": {
    "colab": {
     "base_uri": "https://localhost:8080/",
     "height": 478
    },
    "id": "8PIiVlDYCtSq",
    "outputId": "dbcd8b9c-6411-42c9-958c-db96ed008ad3",
    "tags": []
   },
   "outputs": [
    {
     "name": "stdout",
     "output_type": "stream",
     "text": [
      "The GPT-2 model has 148 different named parameters.\n",
      "\n",
      "==== Embedding Layer ====\n",
      "\n",
      "transformer.wte.weight                                  (50259, 768)\n",
      "transformer.wpe.weight                                   (1024, 768)\n",
      "\n",
      "==== First Transformer ====\n",
      "\n",
      "transformer.h.0.ln_1.weight                                   (768,)\n",
      "transformer.h.0.ln_1.bias                                     (768,)\n",
      "transformer.h.0.attn.c_attn.weight                       (768, 2304)\n",
      "transformer.h.0.attn.c_attn.bias                             (2304,)\n",
      "transformer.h.0.attn.c_proj.weight                        (768, 768)\n",
      "transformer.h.0.attn.c_proj.bias                              (768,)\n",
      "transformer.h.0.ln_2.weight                                   (768,)\n",
      "transformer.h.0.ln_2.bias                                     (768,)\n",
      "transformer.h.0.mlp.c_fc.weight                          (768, 3072)\n",
      "transformer.h.0.mlp.c_fc.bias                                (3072,)\n",
      "transformer.h.0.mlp.c_proj.weight                        (3072, 768)\n",
      "transformer.h.0.mlp.c_proj.bias                               (768,)\n",
      "\n",
      "==== Output Layer ====\n",
      "\n",
      "transformer.ln_f.weight                                       (768,)\n",
      "transformer.ln_f.bias                                         (768,)\n"
     ]
    }
   ],
   "source": [
    "# Get all of the model's parameters as a list of tuples.\n",
    "params = list(model.named_parameters())\n",
    "\n",
    "print('The GPT-2 model has {:} different named parameters.\\n'.format(len(params)))\n",
    "\n",
    "print('==== Embedding Layer ====\\n')\n",
    "\n",
    "for p in params[0:2]:\n",
    "    print(\"{:<55} {:>12}\".format(p[0], str(tuple(p[1].size()))))\n",
    "\n",
    "print('\\n==== First Transformer ====\\n')\n",
    "\n",
    "for p in params[2:14]:\n",
    "    print(\"{:<55} {:>12}\".format(p[0], str(tuple(p[1].size()))))\n",
    "\n",
    "print('\\n==== Output Layer ====\\n')\n",
    "\n",
    "for p in params[-2:]:\n",
    "    print(\"{:<55} {:>12}\".format(p[0], str(tuple(p[1].size()))))"
   ]
  },
  {
   "cell_type": "markdown",
   "metadata": {
    "id": "q2079Qyn8Mt8"
   },
   "source": [
    "# Saving & Loading Fine-Tuned Model\n"
   ]
  },
  {
   "cell_type": "code",
   "execution_count": 77,
   "metadata": {
    "colab": {
     "base_uri": "https://localhost:8080/",
     "height": 105
    },
    "id": "6ulTWaOr8QNY",
    "outputId": "0aa1c212-f566-4526-d83e-25647b32de68",
    "tags": []
   },
   "outputs": [
    {
     "name": "stdout",
     "output_type": "stream",
     "text": [
      "Saving model to ./model_save/\n"
     ]
    },
    {
     "data": {
      "text/plain": [
       "('./model_save/tokenizer_config.json',\n",
       " './model_save/special_tokens_map.json',\n",
       " './model_save/vocab.json',\n",
       " './model_save/merges.txt',\n",
       " './model_save/added_tokens.json')"
      ]
     },
     "execution_count": 77,
     "metadata": {},
     "output_type": "execute_result"
    }
   ],
   "source": [
    "# Saving best-practices: if you use defaults names for the model, you can reload it using from_pretrained()\n",
    "\n",
    "output_dir = './model_save/'\n",
    "\n",
    "# Create output directory if needed\n",
    "if not os.path.exists(output_dir):\n",
    "    os.makedirs(output_dir)\n",
    "\n",
    "print(\"Saving model to %s\" % output_dir)\n",
    "\n",
    "# Save a trained model, configuration and tokenizer using `save_pretrained()`.\n",
    "# They can then be reloaded using `from_pretrained()`\n",
    "model_to_save = model.module if hasattr(model, 'module') else model  # Take care of distributed/parallel training\n",
    "model_to_save.save_pretrained(output_dir)\n",
    "tokenizer.save_pretrained(output_dir)\n",
    "\n",
    "# Good practice: save your training arguments together with the trained model\n",
    "#torch.save(args, os.path.join(output_dir, 'training_args.bin'))\n"
   ]
  },
  {
   "cell_type": "code",
   "execution_count": 78,
   "metadata": {
    "colab": {
     "base_uri": "https://localhost:8080/",
     "height": 158
    },
    "id": "mqMzI3VTCZo5",
    "outputId": "ef38ff34-c13c-4c76-ec76-f1b5973c9304",
    "tags": []
   },
   "outputs": [
    {
     "name": "stdout",
     "output_type": "stream",
     "text": [
      "huggingface/tokenizers: The current process just got forked, after parallelism has already been used. Disabling parallelism to avoid deadlocks...\n",
      "To disable this warning, you can either:\n",
      "\t- Avoid using `tokenizers` before the fork if possible\n",
      "\t- Explicitly set the environment variable TOKENIZERS_PARALLELISM=(true | false)\n",
      "total 499888K\n",
      "-rw-r--r-- 1 i.akhmetov i.akhmetov      1K Apr 16 03:48 added_tokens.json\n",
      "-rw-r--r-- 1 i.akhmetov i.akhmetov      1K Apr 16 03:48 config.json\n",
      "-rw-r--r-- 1 i.akhmetov i.akhmetov      1K Apr 16 03:48 generation_config.json\n",
      "-rw-r--r-- 1 i.akhmetov i.akhmetov    446K Apr 16 03:48 merges.txt\n",
      "-rw-r--r-- 1 i.akhmetov i.akhmetov 498442K Apr 16 03:48 pytorch_model.bin\n",
      "-rw-r--r-- 1 i.akhmetov i.akhmetov      1K Apr 16 03:48 special_tokens_map.json\n",
      "-rw-r--r-- 1 i.akhmetov i.akhmetov      1K Apr 16 03:48 tokenizer_config.json\n",
      "-rw-r--r-- 1 i.akhmetov i.akhmetov    976K Apr 16 03:48 vocab.json\n"
     ]
    }
   ],
   "source": [
    "!ls -l --block-size=K ./model_save/"
   ]
  },
  {
   "cell_type": "code",
   "execution_count": 79,
   "metadata": {
    "colab": {
     "base_uri": "https://localhost:8080/",
     "height": 34
    },
    "id": "-WUFUIQ8Cu8D",
    "outputId": "0fadb954-c8de-4b40-8c1d-2b6d6231d8d5",
    "tags": []
   },
   "outputs": [
    {
     "name": "stdout",
     "output_type": "stream",
     "text": [
      "huggingface/tokenizers: The current process just got forked, after parallelism has already been used. Disabling parallelism to avoid deadlocks...\n",
      "To disable this warning, you can either:\n",
      "\t- Avoid using `tokenizers` before the fork if possible\n",
      "\t- Explicitly set the environment variable TOKENIZERS_PARALLELISM=(true | false)\n",
      "-rw-r--r-- 1 i.akhmetov i.akhmetov 487M Apr 16 03:48 ./model_save/pytorch_model.bin\n"
     ]
    }
   ],
   "source": [
    "!ls -l --block-size=M ./model_save/pytorch_model.bin"
   ]
  },
  {
   "cell_type": "code",
   "execution_count": 96,
   "metadata": {
    "tags": []
   },
   "outputs": [
    {
     "data": {
      "text/plain": [
       "GPT2LMHeadModel(\n",
       "  (transformer): GPT2Model(\n",
       "    (wte): Embedding(50259, 768)\n",
       "    (wpe): Embedding(1024, 768)\n",
       "    (drop): Dropout(p=0.1, inplace=False)\n",
       "    (h): ModuleList(\n",
       "      (0-11): 12 x GPT2Block(\n",
       "        (ln_1): LayerNorm((768,), eps=1e-05, elementwise_affine=True)\n",
       "        (attn): GPT2Attention(\n",
       "          (c_attn): Conv1D()\n",
       "          (c_proj): Conv1D()\n",
       "          (attn_dropout): Dropout(p=0.1, inplace=False)\n",
       "          (resid_dropout): Dropout(p=0.1, inplace=False)\n",
       "        )\n",
       "        (ln_2): LayerNorm((768,), eps=1e-05, elementwise_affine=True)\n",
       "        (mlp): GPT2MLP(\n",
       "          (c_fc): Conv1D()\n",
       "          (c_proj): Conv1D()\n",
       "          (act): NewGELUActivation()\n",
       "          (dropout): Dropout(p=0.1, inplace=False)\n",
       "        )\n",
       "      )\n",
       "    )\n",
       "    (ln_f): LayerNorm((768,), eps=1e-05, elementwise_affine=True)\n",
       "  )\n",
       "  (lm_head): Linear(in_features=768, out_features=50259, bias=False)\n",
       ")"
      ]
     },
     "execution_count": 96,
     "metadata": {},
     "output_type": "execute_result"
    }
   ],
   "source": [
    "# Load a trained model and vocabulary that you have fine-tuned\n",
    "model = GPT2LMHeadModel.from_pretrained(output_dir)\n",
    "tokenizer = GPT2Tokenizer.from_pretrained(output_dir)\n",
    "model.to(device)"
   ]
  },
  {
   "cell_type": "markdown",
   "metadata": {
    "id": "ZLf6rbRglYhQ"
   },
   "source": [
    "# Generate Text"
   ]
  },
  {
   "cell_type": "code",
   "execution_count": 80,
   "metadata": {
    "colab": {
     "base_uri": "https://localhost:8080/",
     "height": 481
    },
    "id": "v4XhewaV93-_",
    "outputId": "8084aae0-dd9b-4556-a451-393e44e10aef",
    "tags": []
   },
   "outputs": [
    {
     "name": "stderr",
     "output_type": "stream",
     "text": [
      "The attention mask and the pad token id were not set. As a consequence, you may observe unexpected behavior. Please pass your input's `attention_mask` to obtain reliable results.\n",
      "Setting `pad_token_id` to `eos_token_id`:50256 for open-end generation.\n"
     ]
    },
    {
     "name": "stdout",
     "output_type": "stream",
     "text": [
      "tensor([[50257]], device='cuda:0')\n",
      "0: E:  in   the local density contrast between the dust and gas can be estimated as  xmath at xmath  xmath at xmath  and xmath at xmath. it is believed that dust extinction occurs in the outer parts of galaxies  where the total dust mass is larger than the local density  and therefore  the dust  gas collision rate is lower than the escape rate.    in the present paper  we present the collision rate derived from the gas and dust  cloud collision history based on the local density fluctuation relation  lddt  for three different dust  cloud merger model parameters     the fraction of gas affected by dust  cloud collision and    the fraction of dust  cloud collisional scatter. the xmath dependence of the dust  cloud collision rate  for the lddt  is shown as in figure   and as a function of dust  cloud mass  luminosity  luminosity   gas fraction  xmath  and dust  cloud velocity. xcite presented the dust  cloud collision history based on the local density fluctuation relation  lddt  for three different dust  cloud merger model parameters     the fraction of gas affected by dust  cloud collision and    the fraction of dust  cloud collisional scatter. the dust  cloud collision rate  for the lddt  is shown as in figure   and as a function of dust  cloud mass  lumin\n",
      "\n",
      "\n",
      "1: E: the difference was demonstrated by the use of the lvg analysis as well as a self  consistent  xmath  scaling formula. our results give an explanation in the sense of the non  standard behavior of correlation functions. we find for our sample of  xmath that the correlation function of the same cluster follows a power  law distribution with a slope xmath where xmath. our results provide an explanation in the sense of the non  standard behavior of correlation functions. we have studied the correlation functions of several thousand single  star cluster members and one million single  star cluster members within  xmath  xmath. we have studied the correlation functions of several thousand single  star cluster members and one million single  star cluster members within  xmath  xmath. their luminosities are similar to that of cluster member galaxies but   is larger. we find for our sample of  xmath that the correlation function of the same cluster follows a power  law distribution with a slope xmath where xmath. we find for our sample of  xmath that the correlation function of the same cluster follows a power  law distribution with a slope xmath where xmath. all of the above correlation functions are described in paper i  but one is less well understood when the lvg analysis is used. we will show that cluster luminosity follows a power  law correlation function  even in the presence of the lvg  but that it does not trace the lgv \n",
      "\n",
      "\n",
      "2: E: if the x  ray heating is due to an eddington accretion rate  then the x  ray luminosity is about   for the eddington luminosities.  we see a similar behaviour in figure   which suggests that the disk emission could be due to the reprocessing of the accretion  gas  or the shock heating due to the hot  shock  heated gas. there are no clear trends in the x  ray or radio luminosities as a function of bh mass. for typical xmath  a power  law fit to the optical data does not indicate a dependence on mass. however  the slope  xmath  is steeper than the xmath  xmath relations. we have presented evidence that a combination of radio  x  ray  x  ray and x  ray monitoring observations can be used to place limits on the mass accretion rate in an lbhg  possibly along with the radio luminosity. we conclude that there are no strong constraints on the mass accretion rate to xmath  as far as the x  ray heating is confined within the inner    of the disk. if xmath  then the radio luminosity is lower  the x  ray emission is weaker  the optical data are consistent with a higher x  ray luminosity. it has been found that in two ulirgs  the upper limit on the mass accretion rate xmath is xmath  which is very\n",
      "\n",
      "\n"
     ]
    }
   ],
   "source": [
    "model.eval()\n",
    "\n",
    "prompt = \"<|startoftext|>\"\n",
    "\n",
    "generated = torch.tensor(tokenizer.encode(prompt)).unsqueeze(0)\n",
    "generated = generated.to(device)\n",
    "\n",
    "print(generated)\n",
    "\n",
    "sample_outputs = model.generate(\n",
    "                                generated, \n",
    "                                #bos_token_id=random.randint(1,30000),\n",
    "                                do_sample=True,   \n",
    "                                top_k=50, \n",
    "                                max_length = 300,\n",
    "                                top_p=0.95, \n",
    "                                num_return_sequences=3\n",
    "                                )\n",
    "\n",
    "for i, sample_output in enumerate(sample_outputs):\n",
    "  print(\"{}: {}\\n\\n\".format(i, tokenizer.decode(sample_output, skip_special_tokens=True)))"
   ]
  },
  {
   "cell_type": "markdown",
   "metadata": {
    "id": "t4LrX5H-0nAU"
   },
   "source": [
    "These aren't bad at all!\n"
   ]
  },
  {
   "cell_type": "markdown",
   "metadata": {},
   "source": [
    "# Generate Abstractive summaries from Extractive ones"
   ]
  },
  {
   "cell_type": "code",
   "execution_count": 84,
   "metadata": {
    "tags": []
   },
   "outputs": [],
   "source": [
    "model.eval()\n",
    "\n",
    "def generate_response(question):\n",
    "    # Encode the question using the tokenizer\n",
    "    #input_ids = tokenizer.encode(question + \" <|question|>\", add_special_tokens=False, return_tensors='pt').to(device)\n",
    "    input_ids = tokenizer.encode(question, add_special_tokens=True, return_tensors='pt').to(device)\n",
    "\n",
    "    # Generate the answer using the model\n",
    "    sample_output = model.generate(input_ids, do_sample=True, max_length=max_text_len, top_k=20, top_p=1.0, pad_token_id=tokenizer.eos_token_id)\n",
    "\n",
    "    # Decode the generated answer using the tokenizer\n",
    "    #answer = tokenizer.decode(sample_output[0], skip_special_tokens=True)\n",
    "    answer = ' '.join([tokenizer.decode(so, skip_special_tokens=True) for so in sample_output])\n",
    "\n",
    "    # Split the generated answer into individual sentences\n",
    "    # sentences = sent_tokenize(answer) #answer.split('. ')\n",
    "\n",
    "    # Look for the sentence that contains the answer to the question\n",
    "    # for sentence in sentences:\n",
    "    #     if question in sentence:\n",
    "    #         return sentence\n",
    "\n",
    "    # If no sentence contains the answer, return the full generated answer\n",
    "    return answer"
   ]
  },
  {
   "cell_type": "markdown",
   "metadata": {},
   "source": [
    "## Example usage"
   ]
  },
  {
   "cell_type": "code",
   "execution_count": 85,
   "metadata": {
    "tags": []
   },
   "outputs": [
    {
     "name": "stdout",
     "output_type": "stream",
     "text": [
      " E:  k - corrections for sne of all types, and at all ages, are currently unknown. instead, we have compiled a large spectral database of nearby, well - observed sne. as we move even farther up the redshift scale the use of infrared ( ir ) filters is required. between @xmath73 and @xmath74, classification would require a combination of optical and ir photometry. is required., we can extend our analysis to higher redshifts. one can see that the unique colors of young ( @xmath40  d ) and very old ( @xmath31  d ) sne  ia can not be masked even by significant reddening in their host. finally, we have demonstrated the application of our method to a recently discovered sn from the sdss, and we have shown how this technique may become a valuable tool for the analysis of the large sn samples expected to emerge from this and other programs that are already active or will begin soon. \n",
      "\n",
      "A: we are applying the new infraredinformation technology  ibl     to a large sample of wellknown well  observed sne in the local universe. we describe this procedure and explain why it works well for our data  as well as for other recently discovered sne  including those in the near infrared kingdom. the new information can be used to improve our classification strategy so as to include more accurate photometric redshifts for well studied sne  including those that exploded in the galaxy. by using ibl    we introduce a new class of  idiot  uv  ir colors for high redshift sne  namely  idiot  uv  ir  colors for the well  studied  old bunch  uv  and very old  very young    myr  . we explain why these ir colors can not be masked even by dust reddening in our host. we demonstrate the application of our methods to a recently discovered sn  j and show how their ir colors can be used to construct a supernova model.       cols                mathgroupgroup mathgroupnormalgroupeurmn mathgroupboldgroupeurbn mathgroupgroup mathgroupnormalgroupmsamn mathgroupboldgroupmsamn            e                                 firstpage     infrared  stars  supernovae  general  supernovae  individual  j  u     cosmology  large  scale structure of universe\n"
     ]
    }
   ],
   "source": [
    "question = '<|startoftext|> E:  k - corrections for sne of all types , and at all ages , are currently unknown. instead , we have compiled a large spectral database of nearby , well - observed sne. as we move even farther up the redshift scale the use of infrared ( ir ) filters is required. between @xmath73 and @xmath74 , classification would require a combination of optical and ir photometry. is required. , we can extend our analysis to higher redshifts. one can see that the unique colors of young ( @xmath40  d ) and very old ( @xmath31  d ) sne  ia can not be masked even by significant reddening in their host. finally , we have demonstrated the application of our method to a recently discovered sn from the sdss , and we have shown how this technique may become a valuable tool for the analysis of the large sn samples expected to emerge from this and other programs that are already active or will begin soon. A:'\n",
    "response = generate_response(question)\n",
    "#print(f\"{question}\\n {response}\")\n",
    "print(response[:response.index('A:')])\n",
    "print()\n",
    "print(response[response.index('A:'):])"
   ]
  },
  {
   "cell_type": "markdown",
   "metadata": {},
   "source": [
    "large numbers of supernovae ( sne ) have been discovered in recent years , and many more will be found in the near future. once discovered , further study of a sn and its possible use as an astronomical tool ( e.g. , as a distance estimator ) require knowledge of the sn type. current classification methods rely almost solely on the analysis of sn spectra to determine their type. however , spectroscopy may not be possible or practical when sne are faint , numerous , or discovered in archival studies. we present a classification method for sne based on the comparison of their observed colors with synthetic ones , calculated from a large database of multi - epoch optical spectra of nearby events. we discuss the capabilities and limitations of this method. for example , type ia sne at redshifts @xmath0 can be distinguished from most other sn types during the first few weeks of their evolution , based on @xmath1 vs. @xmath2 colors. type ii - p sne have distinct ( very red ) colors at late ( @xmath3  d ) stages. broadband photometry through standard johnson - cousins @xmath4 filters can be useful to classify sne out to @xmath5. the use of sloan digital sky survey ( sdss ) @xmath6 filters allows the extension of our classification method to even higher redshifts ( @xmath7 ) , and the use of infrared bands , to @xmath8. we demonstrate the application of this method to a recently discovered sn from the sdss. finally , we outline the observational data required to further improve the sensitivity of the method , and discuss prospects for its use on future sn samples. community access to the tools developed is provided by a dedicated website.\tthe method presented here can become significantly more powerful when more observational data become available. once discovered , the study of a particular sn , and its use as a tool for any of the applications above , is almost always based on spectroscopic verification and classification. this demonstrates the well - known variety of late - type spectra of sne  ii ( filippenko 1997 ). in subsequent plots , the temporal coverage of our compilation allows us to draw paths in color space which show the time evolution of each sn type. inspecting the resulting diagrams once discovered , the study of a particular sn , and its use as a tool for any of the applications above , is almost always based on spectroscopic verification and classification. since we want to constrain the type of a sn with an arbitrary ( but known ) redshift , it is not simple to utilize broadband photometry "
   ]
  },
  {
   "cell_type": "markdown",
   "metadata": {},
   "source": [
    "# Bulk testing"
   ]
  },
  {
   "cell_type": "markdown",
   "metadata": {},
   "source": [
    "## Test set"
   ]
  },
  {
   "cell_type": "code",
   "execution_count": 86,
   "metadata": {
    "tags": []
   },
   "outputs": [
    {
     "data": {
      "application/json": {
       "ascii": false,
       "bar_format": null,
       "colour": null,
       "elapsed": 0.005663156509399414,
       "initial": 0,
       "n": 0,
       "ncols": null,
       "nrows": null,
       "postfix": null,
       "prefix": "",
       "rate": null,
       "total": 1559,
       "unit": "it",
       "unit_divisor": 1000,
       "unit_scale": false
      },
      "application/vnd.jupyter.widget-view+json": {
       "model_id": "157864dbe76046fd947cc31b9c100526",
       "version_major": 2,
       "version_minor": 0
      },
      "text/plain": [
       "  0%|          | 0/1559 [00:00<?, ?it/s]"
      ]
     },
     "metadata": {},
     "output_type": "display_data"
    }
   ],
   "source": [
    "#NUM_TEST = 5000\n",
    "\n",
    "#test_texts = X_test #texts[:NUM_TEST]\n",
    "\n",
    "inputs = []\n",
    "outputs = []\n",
    "predicts = []\n",
    "\n",
    "for e, a in zip(tqdm(X_test), y_test):\n",
    "    input_txt = '<|startoftext|> E:'+ e #t[:response.index('A:')]\n",
    "    inputs.append(input_txt)\n",
    "    \n",
    "    output_txt = 'A: ' + a #t[response.index('A:'):]\n",
    "    outputs.append(output_txt)\n",
    "    \n",
    "    predict = generate_response(input_txt)#[:response.index('A:')]\n",
    "    predicts.append(predict)\n",
    "    \n",
    "    "
   ]
  },
  {
   "cell_type": "code",
   "execution_count": 132,
   "metadata": {
    "tags": []
   },
   "outputs": [
    {
     "data": {
      "application/json": {
       "ascii": false,
       "bar_format": null,
       "colour": null,
       "elapsed": 0.0055425167083740234,
       "initial": 0,
       "n": 0,
       "ncols": null,
       "nrows": null,
       "postfix": null,
       "prefix": "",
       "rate": null,
       "total": 1559,
       "unit": "it",
       "unit_divisor": 1000,
       "unit_scale": false
      },
      "application/vnd.jupyter.widget-view+json": {
       "model_id": "8958c0218909470c99a2d8c9cc1986eb",
       "version_major": 2,
       "version_minor": 0
      },
      "text/plain": [
       "  0%|          | 0/1559 [00:00<?, ?it/s]"
      ]
     },
     "metadata": {},
     "output_type": "display_data"
    },
    {
     "data": {
      "text/plain": [
       "'xmath        a nontrivial set of classes of curves of computable lengths that can be expressed as nontrivial sets have been defined in xcite. A: a nontrivial set of classes of curves of computable lengths is studied. its existence has been proved for curves of computable lengths in the previous section. for the class of curves of computable lengths xmath  the existence of a class of nontrivial sets of curves with nontrivial set of classes is proved for non  trivial classes of curves of nontrivial sets of computable lengths. this class contains the set of non  trivial curves of computable length of non  computable length that can be injective or  i.e. if the class of curves of computable lengths is point  separable from the class of nontrivial sets of computable length of finite lengths. the class of nontrivial sets of curves is defined as the ones that satisfy certain conditions of the class of curves of computable lengths for which the class of nontrivial sets of curves has not been proved yet. for the class of nontrivial sets of curves of nontrivial sets of nontrivial sets of computable lengths  a nontrivial set is always open under some conditions. keywords   discrete geometry  discrete curves  nontrivial sets  nontrivial sets   mathematics subject classification. g  b.'"
      ]
     },
     "execution_count": 132,
     "metadata": {},
     "output_type": "execute_result"
    }
   ],
   "source": [
    "# predicts2 = [predicts[i].index('A: ') for i in tqdm(range(len(predicts)))]\n",
    "# predicts2[0]\n",
    "\n",
    "def get_generated(predicted,inpt):\n",
    "    p_sents = sent_tokenize(predicted)\n",
    "    i_sents = sent_tokenize(inpt)\n",
    "    return ' '.join(p_sents[len(i_sents):])\n",
    "# for p, i in zip(tqdm(predicts), inputs):\n",
    "    \n",
    "#     break\n",
    "#get_generated(predicts[0],inputs[0])\n",
    "predicts2 = [get_generated(p, i) for p, i in zip(tqdm(predicts), inputs)]\n",
    "predicts2[0]"
   ]
  },
  {
   "cell_type": "code",
   "execution_count": null,
   "metadata": {
    "tags": []
   },
   "outputs": [],
   "source": []
  },
  {
   "cell_type": "markdown",
   "metadata": {},
   "source": [
    "### Cohesion of the predicts"
   ]
  },
  {
   "cell_type": "code",
   "execution_count": 160,
   "metadata": {
    "tags": []
   },
   "outputs": [
    {
     "data": {
      "application/json": {
       "ascii": false,
       "bar_format": null,
       "colour": null,
       "elapsed": 0.005690813064575195,
       "initial": 0,
       "n": 0,
       "ncols": null,
       "nrows": null,
       "postfix": null,
       "prefix": "",
       "rate": null,
       "total": 1559,
       "unit": "it",
       "unit_divisor": 1000,
       "unit_scale": false
      },
      "application/vnd.jupyter.widget-view+json": {
       "model_id": "9c0283d0692b482593fe0b8b9355ebaa",
       "version_major": 2,
       "version_minor": 0
      },
      "text/plain": [
       "  0%|          | 0/1559 [00:00<?, ?it/s]"
      ]
     },
     "metadata": {},
     "output_type": "display_data"
    },
    {
     "data": {
      "application/json": {
       "ascii": false,
       "bar_format": null,
       "colour": null,
       "elapsed": 0.005796194076538086,
       "initial": 0,
       "n": 0,
       "ncols": null,
       "nrows": null,
       "postfix": null,
       "prefix": "",
       "rate": null,
       "total": 1559,
       "unit": "it",
       "unit_divisor": 1000,
       "unit_scale": false
      },
      "application/vnd.jupyter.widget-view+json": {
       "model_id": "97d54a0009d64cb89d01dba6be0a2f09",
       "version_major": 2,
       "version_minor": 0
      },
      "text/plain": [
       "  0%|          | 0/1559 [00:00<?, ?it/s]"
      ]
     },
     "metadata": {},
     "output_type": "display_data"
    },
    {
     "data": {
      "application/json": {
       "ascii": false,
       "bar_format": null,
       "colour": null,
       "elapsed": 0.0056073665618896484,
       "initial": 0,
       "n": 0,
       "ncols": null,
       "nrows": null,
       "postfix": null,
       "prefix": "",
       "rate": null,
       "total": 1559,
       "unit": "it",
       "unit_divisor": 1000,
       "unit_scale": false
      },
      "application/vnd.jupyter.widget-view+json": {
       "model_id": "93a0079a9048494e9af519de9ac48b36",
       "version_major": 2,
       "version_minor": 0
      },
      "text/plain": [
       "  0%|          | 0/1559 [00:00<?, ?it/s]"
      ]
     },
     "metadata": {},
     "output_type": "display_data"
    }
   ],
   "source": [
    "# Measure cohesion of the predicts\n",
    "predict_cohes = [cohesion_measure(text) for text in tqdm(predicts2)]\n",
    "input_cohes = [cohesion_measure(text) for text in tqdm(inputs)] #ext_cohes[:NUM_TEST]\n",
    "output_cohes = [cohesion_measure(text) for text in tqdm(outputs)] #abs_cohes[:NUM_TEST]"
   ]
  },
  {
   "cell_type": "code",
   "execution_count": 162,
   "metadata": {
    "tags": []
   },
   "outputs": [
    {
     "name": "stdout",
     "output_type": "stream",
     "text": [
      "1558\n"
     ]
    }
   ],
   "source": [
    "zero_filter = [(pc != 0)&(pc != np.nan) for pc in predict_cohes]\n",
    "print(sum(zero_filter))\n",
    "predict_cohes = np.array(predict_cohes)[zero_filter]\n",
    "input_cohes = np.array(input_cohes)[zero_filter]\n",
    "output_cohes = np.array(output_cohes)[zero_filter]"
   ]
  },
  {
   "cell_type": "code",
   "execution_count": 163,
   "metadata": {
    "tags": []
   },
   "outputs": [
    {
     "data": {
      "text/plain": [
       "6672.562336624206"
      ]
     },
     "execution_count": 163,
     "metadata": {},
     "output_type": "execute_result"
    }
   ],
   "source": [
    "predict_cohes.sum()"
   ]
  },
  {
   "cell_type": "code",
   "execution_count": 164,
   "metadata": {
    "tags": []
   },
   "outputs": [
    {
     "name": "stdout",
     "output_type": "stream",
     "text": [
      "Input cohesions (mean) 3.713856621059406\n",
      "Predict cohesions (mean) 4.28277428538139\n",
      "Output cohesions (mean) 4.4871062420761785\n"
     ]
    }
   ],
   "source": [
    "X1 = input_cohes.mean()\n",
    "X2 = predict_cohes.mean()\n",
    "X3 = output_cohes.mean()\n",
    "\n",
    "print('Input cohesions (mean)', X1) \n",
    "print('Predict cohesions (mean)', X2) \n",
    "print('Output cohesions (mean)', X3) \n"
   ]
  },
  {
   "cell_type": "code",
   "execution_count": 165,
   "metadata": {
    "tags": []
   },
   "outputs": [
    {
     "data": {
      "text/plain": [
       "KstestResult(statistic=0.18806161745827984, pvalue=1.7188421145546352e-24, statistic_location=3.358822511328648, statistic_sign=1)"
      ]
     },
     "execution_count": 165,
     "metadata": {},
     "output_type": "execute_result"
    }
   ],
   "source": [
    "#Kolmogorov-Smirnov test based on https://docs.scipy.org/doc/scipy/reference/generated/scipy.stats.kstest.html\n",
    "#Compare distributions of input and predict cohesions\n",
    "from scipy import stats\n",
    "stats.kstest(input_cohes, predict_cohes)"
   ]
  },
  {
   "cell_type": "markdown",
   "metadata": {},
   "source": [
    "The p-value is less than 0.05, so we reject the null hypothesis and assume the two samples are from different distributions"
   ]
  },
  {
   "cell_type": "code",
   "execution_count": 166,
   "metadata": {
    "tags": []
   },
   "outputs": [
    {
     "data": {
      "text/plain": [
       "10.804263815621947"
      ]
     },
     "execution_count": 166,
     "metadata": {},
     "output_type": "execute_result"
    }
   ],
   "source": [
    "# Z-test based on http://homework.uoregon.edu/pub/class/es202/ztest.html#:~:text=If%20the%20Z%2Dstatistic%20is,two%20samples%20are%20significantly%20different\n",
    "# X1 = sum(input_cohes)/len(input_cohes)\n",
    "# X2 = sum(predict_cohes)/len(predict_cohes)\n",
    "s1 = np.std(input_cohes)/math.sqrt(len(input_cohes))\n",
    "s2 = np.std(predict_cohes)/math.sqrt(len(predict_cohes))\n",
    "Z = abs(X1-X2)/math.sqrt(s1**2+s2**2)\n",
    "Z"
   ]
  },
  {
   "cell_type": "markdown",
   "metadata": {},
   "source": [
    "In general, in more qualitative terms:\n",
    "\n",
    "- If the Z-statistic is less than 2, the two samples are the same.\n",
    "- If the Z-statistic is between 2.0 and 2.5, the two samples are marginally different\n",
    "- If the Z-statistic is between 2.5 and 3.0, the two samples are significantly different\n",
    "- If the Z-statistic is more then 3.0, the two samples are highly signficantly different\n",
    "\n",
    "The Z value is more than 3.0, so the two samples are highly significantly different"
   ]
  },
  {
   "cell_type": "markdown",
   "metadata": {},
   "source": [
    "### Similarity"
   ]
  },
  {
   "cell_type": "code",
   "execution_count": 6,
   "metadata": {
    "tags": []
   },
   "outputs": [
    {
     "name": "stdout",
     "output_type": "stream",
     "text": [
      "0.74758637\n",
      "0.17048153\n"
     ]
    }
   ],
   "source": [
    "model_emb = SentenceTransformer('bert-base-nli-mean-tokens')\n",
    "def similarity_measure(text1, text2):\n",
    "    # based on https://towardsdatascience.com/bert-for-measuring-text-similarity-eec91c6bf9e1\n",
    "    text_embeddings = model_emb.encode([text1, text2])\n",
    "    sim_score = cosine_similarity(text_embeddings[0].reshape(1, -1), text_embeddings[1].reshape(1, -1))\n",
    "    \n",
    "    return sim_score[0][0]\n",
    "\n",
    "print(similarity_measure('This dog is crazy!', 'Small dogs are usually crazy.'))\n",
    "print(similarity_measure('This dog is crazy!', 'Astronauts are chosen from most perfect human beings.'))"
   ]
  },
  {
   "cell_type": "code",
   "execution_count": 9,
   "metadata": {
    "tags": []
   },
   "outputs": [
    {
     "data": {
      "application/vnd.jupyter.widget-view+json": {
       "model_id": "3ccdbe889633409eb2f2e8ca8cf75b6c",
       "version_major": 2,
       "version_minor": 0
      },
      "text/plain": [
       "  0%|          | 0/1558 [00:00<?, ?it/s]"
      ]
     },
     "metadata": {},
     "output_type": "display_data"
    },
    {
     "data": {
      "application/vnd.jupyter.widget-view+json": {
       "model_id": "d112bef624cc43bf9084d8a8e8dffaa3",
       "version_major": 2,
       "version_minor": 0
      },
      "text/plain": [
       "  0%|          | 0/1558 [00:00<?, ?it/s]"
      ]
     },
     "metadata": {},
     "output_type": "display_data"
    },
    {
     "data": {
      "application/vnd.jupyter.widget-view+json": {
       "model_id": "56c355fa0d404376a9929c6a7fb4e0e8",
       "version_major": 2,
       "version_minor": 0
      },
      "text/plain": [
       "  0%|          | 0/1558 [00:00<?, ?it/s]"
      ]
     },
     "metadata": {},
     "output_type": "display_data"
    },
    {
     "name": "stdout",
     "output_type": "stream",
     "text": [
      "Input2Output similarity (mean) 0.8051074737341015\n",
      "Input2Predict similarity (mean) 0.7932576671414872\n",
      "Output2Predict similarity (mean) 0.8033852932618426\n"
     ]
    }
   ],
   "source": [
    "input2output_sim = [similarity_measure(i, o) for i, o in zip(tqdm(ds_test_res.inputs.values), ds_test_res.outputs.values)]\n",
    "input2predict_sim = [similarity_measure(i, p) for i, p in zip(tqdm(ds_test_res.inputs.values), ds_test_res.predicts.values)]\n",
    "output2predict_sim = [similarity_measure(o, p) for o, p in zip(tqdm(ds_test_res.outputs.values), ds_test_res.predicts.values)]\n",
    "\n",
    "print('Input2Output similarity (mean)', sum(input2output_sim)/len(input2output_sim))\n",
    "print('Input2Predict similarity (mean)', sum(input2predict_sim)/len(input2predict_sim))\n",
    "print('Output2Predict similarity (mean)', sum(output2predict_sim)/len(output2predict_sim))"
   ]
  },
  {
   "cell_type": "markdown",
   "metadata": {
    "tags": []
   },
   "source": [
    "### Save results"
   ]
  },
  {
   "cell_type": "code",
   "execution_count": 178,
   "metadata": {
    "tags": []
   },
   "outputs": [
    {
     "data": {
      "text/html": [
       "<div>\n",
       "<style scoped>\n",
       "    .dataframe tbody tr th:only-of-type {\n",
       "        vertical-align: middle;\n",
       "    }\n",
       "\n",
       "    .dataframe tbody tr th {\n",
       "        vertical-align: top;\n",
       "    }\n",
       "\n",
       "    .dataframe thead th {\n",
       "        text-align: right;\n",
       "    }\n",
       "</style>\n",
       "<table border=\"1\" class=\"dataframe\">\n",
       "  <thead>\n",
       "    <tr style=\"text-align: right;\">\n",
       "      <th></th>\n",
       "      <th>inputs</th>\n",
       "      <th>outputs</th>\n",
       "      <th>predicts</th>\n",
       "      <th>input_cohes</th>\n",
       "      <th>output_cohes</th>\n",
       "      <th>predict_cohes</th>\n",
       "      <th>Input2Output_sim</th>\n",
       "      <th>Input2Predict_sim</th>\n",
       "      <th>Output2Predict_sim</th>\n",
       "    </tr>\n",
       "  </thead>\n",
       "  <tbody>\n",
       "    <tr>\n",
       "      <th>0</th>\n",
       "      <td>&lt;|startoftext|&gt; E:in addition  a curve can als...</td>\n",
       "      <td>A: in mathematics curves are typically defined...</td>\n",
       "      <td>xmath        a nontrivial set of classes of cu...</td>\n",
       "      <td>3.25</td>\n",
       "      <td>5.12</td>\n",
       "      <td>3.35</td>\n",
       "      <td>0.86</td>\n",
       "      <td>0.98</td>\n",
       "      <td>0.86</td>\n",
       "    </tr>\n",
       "    <tr>\n",
       "      <th>1</th>\n",
       "      <td>&lt;|startoftext|&gt; E:this simulation also include...</td>\n",
       "      <td>A: we analyze the low  redshift  zxmath.  circ...</td>\n",
       "      <td>this work is based on a large set of cos  halo...</td>\n",
       "      <td>5.69</td>\n",
       "      <td>2.93</td>\n",
       "      <td>2.09</td>\n",
       "      <td>0.84</td>\n",
       "      <td>1.00</td>\n",
       "      <td>0.85</td>\n",
       "    </tr>\n",
       "    <tr>\n",
       "      <th>2</th>\n",
       "      <td>&lt;|startoftext|&gt; E:finally  we have used pdr ch...</td>\n",
       "      <td>A: aiming to learn about the chemistry of the ...</td>\n",
       "      <td>the first group  huv  is formed by molecules t...</td>\n",
       "      <td>2.63</td>\n",
       "      <td>4.78</td>\n",
       "      <td>4.49</td>\n",
       "      <td>0.82</td>\n",
       "      <td>0.97</td>\n",
       "      <td>0.80</td>\n",
       "    </tr>\n",
       "    <tr>\n",
       "      <th>3</th>\n",
       "      <td>&lt;|startoftext|&gt; E:this led to mass and distanc...</td>\n",
       "      <td>A: recently sumi et al.     reported evidence ...</td>\n",
       "      <td>a.  davidge  k.  p.   . it was found they coul...</td>\n",
       "      <td>5.45</td>\n",
       "      <td>2.83</td>\n",
       "      <td>3.92</td>\n",
       "      <td>0.80</td>\n",
       "      <td>0.99</td>\n",
       "      <td>0.79</td>\n",
       "    </tr>\n",
       "    <tr>\n",
       "      <th>4</th>\n",
       "      <td>&lt;|startoftext|&gt; E:in order to show wavelength ...</td>\n",
       "      <td>A: we discuss the wavelength dependence of ang...</td>\n",
       "      <td>for comparison  we present a model of the s  w...</td>\n",
       "      <td>5.21</td>\n",
       "      <td>3.45</td>\n",
       "      <td>5.07</td>\n",
       "      <td>0.76</td>\n",
       "      <td>0.99</td>\n",
       "      <td>0.74</td>\n",
       "    </tr>\n",
       "  </tbody>\n",
       "</table>\n",
       "</div>"
      ],
      "text/plain": [
       "                                              inputs  \\\n",
       "0  <|startoftext|> E:in addition  a curve can als...   \n",
       "1  <|startoftext|> E:this simulation also include...   \n",
       "2  <|startoftext|> E:finally  we have used pdr ch...   \n",
       "3  <|startoftext|> E:this led to mass and distanc...   \n",
       "4  <|startoftext|> E:in order to show wavelength ...   \n",
       "\n",
       "                                             outputs  \\\n",
       "0  A: in mathematics curves are typically defined...   \n",
       "1  A: we analyze the low  redshift  zxmath.  circ...   \n",
       "2  A: aiming to learn about the chemistry of the ...   \n",
       "3  A: recently sumi et al.     reported evidence ...   \n",
       "4  A: we discuss the wavelength dependence of ang...   \n",
       "\n",
       "                                            predicts  input_cohes  \\\n",
       "0  xmath        a nontrivial set of classes of cu...         3.25   \n",
       "1  this work is based on a large set of cos  halo...         5.69   \n",
       "2  the first group  huv  is formed by molecules t...         2.63   \n",
       "3  a.  davidge  k.  p.   . it was found they coul...         5.45   \n",
       "4  for comparison  we present a model of the s  w...         5.21   \n",
       "\n",
       "   output_cohes  predict_cohes  Input2Output_sim   Input2Predict_sim  \\\n",
       "0          5.12           3.35               0.86               0.98   \n",
       "1          2.93           2.09               0.84               1.00   \n",
       "2          4.78           4.49               0.82               0.97   \n",
       "3          2.83           3.92               0.80               0.99   \n",
       "4          3.45           5.07               0.76               0.99   \n",
       "\n",
       "   Output2Predict_sim  \n",
       "0                0.86  \n",
       "1                0.85  \n",
       "2                0.80  \n",
       "3                0.79  \n",
       "4                0.74  "
      ]
     },
     "execution_count": 178,
     "metadata": {},
     "output_type": "execute_result"
    }
   ],
   "source": [
    "ds_test_res = pd.DataFrame()\n",
    "\n",
    "#texts\n",
    "ds_test_res['inputs'] = np.array(inputs)[zero_filter]\n",
    "ds_test_res['outputs'] = np.array(outputs)[zero_filter]\n",
    "ds_test_res['predicts'] = np.array(predicts2)[zero_filter]\n",
    "\n",
    "#cohesions\n",
    "ds_test_res['input_cohes'] = input_cohes\n",
    "ds_test_res['output_cohes'] = output_cohes\n",
    "ds_test_res['predict_cohes'] = predict_cohes\n",
    "\n",
    "#similarities\n",
    "ds_test_res['Input2Output_sim '] = np.array(input2output_sim)[zero_filter]\n",
    "ds_test_res['Input2Predict_sim'] = np.array(input2predict_sim)[zero_filter]\n",
    "ds_test_res['Output2Predict_sim'] = np.array(output2predict_sim)[zero_filter]\n",
    "\n",
    "ds_test_res.head()"
   ]
  },
  {
   "cell_type": "code",
   "execution_count": 180,
   "metadata": {
    "tags": []
   },
   "outputs": [],
   "source": [
    "#pickle save\n",
    "save_obj(ds_test_res, 'ds_test_res')\n",
    "\n",
    "#pandas save to csv\n",
    "ds_test_res.to_csv('ds_test_res.csv', ';', index=False)"
   ]
  },
  {
   "cell_type": "code",
   "execution_count": 5,
   "metadata": {
    "tags": []
   },
   "outputs": [
    {
     "name": "stderr",
     "output_type": "stream",
     "text": [
      "/tmp/ipykernel_218325/709394829.py:1: FutureWarning: In a future version of pandas all arguments of read_csv except for the argument 'filepath_or_buffer' will be keyword-only.\n",
      "  ds_test_res = pd.read_csv('ds_test_res.csv', ';')\n"
     ]
    },
    {
     "data": {
      "text/html": [
       "<div>\n",
       "<style scoped>\n",
       "    .dataframe tbody tr th:only-of-type {\n",
       "        vertical-align: middle;\n",
       "    }\n",
       "\n",
       "    .dataframe tbody tr th {\n",
       "        vertical-align: top;\n",
       "    }\n",
       "\n",
       "    .dataframe thead th {\n",
       "        text-align: right;\n",
       "    }\n",
       "</style>\n",
       "<table border=\"1\" class=\"dataframe\">\n",
       "  <thead>\n",
       "    <tr style=\"text-align: right;\">\n",
       "      <th></th>\n",
       "      <th>inputs</th>\n",
       "      <th>outputs</th>\n",
       "      <th>predicts</th>\n",
       "      <th>input_cohes</th>\n",
       "      <th>output_cohes</th>\n",
       "      <th>predict_cohes</th>\n",
       "      <th>Input2Output_sim</th>\n",
       "      <th>Input2Predict_sim</th>\n",
       "      <th>Output2Predict_sim</th>\n",
       "    </tr>\n",
       "  </thead>\n",
       "  <tbody>\n",
       "    <tr>\n",
       "      <th>0</th>\n",
       "      <td>&lt;|startoftext|&gt; E:in addition  a curve can als...</td>\n",
       "      <td>A: in mathematics curves are typically defined...</td>\n",
       "      <td>xmath        a nontrivial set of classes of cu...</td>\n",
       "      <td>3.247200</td>\n",
       "      <td>5.116182</td>\n",
       "      <td>3.346899</td>\n",
       "      <td>0.863538</td>\n",
       "      <td>0.979563</td>\n",
       "      <td>0.856358</td>\n",
       "    </tr>\n",
       "    <tr>\n",
       "      <th>1</th>\n",
       "      <td>&lt;|startoftext|&gt; E:this simulation also include...</td>\n",
       "      <td>A: we analyze the low  redshift  zxmath.  circ...</td>\n",
       "      <td>this work is based on a large set of cos  halo...</td>\n",
       "      <td>5.693459</td>\n",
       "      <td>2.926070</td>\n",
       "      <td>2.086927</td>\n",
       "      <td>0.842514</td>\n",
       "      <td>0.995156</td>\n",
       "      <td>0.845338</td>\n",
       "    </tr>\n",
       "    <tr>\n",
       "      <th>2</th>\n",
       "      <td>&lt;|startoftext|&gt; E:finally  we have used pdr ch...</td>\n",
       "      <td>A: aiming to learn about the chemistry of the ...</td>\n",
       "      <td>the first group  huv  is formed by molecules t...</td>\n",
       "      <td>2.634342</td>\n",
       "      <td>4.779181</td>\n",
       "      <td>4.490859</td>\n",
       "      <td>0.818992</td>\n",
       "      <td>0.973582</td>\n",
       "      <td>0.795513</td>\n",
       "    </tr>\n",
       "    <tr>\n",
       "      <th>3</th>\n",
       "      <td>&lt;|startoftext|&gt; E:this led to mass and distanc...</td>\n",
       "      <td>A: recently sumi et al.     reported evidence ...</td>\n",
       "      <td>a.  davidge  k.  p.   . it was found they coul...</td>\n",
       "      <td>5.450351</td>\n",
       "      <td>2.826803</td>\n",
       "      <td>3.918982</td>\n",
       "      <td>0.802271</td>\n",
       "      <td>0.986314</td>\n",
       "      <td>0.787007</td>\n",
       "    </tr>\n",
       "    <tr>\n",
       "      <th>4</th>\n",
       "      <td>&lt;|startoftext|&gt; E:in order to show wavelength ...</td>\n",
       "      <td>A: we discuss the wavelength dependence of ang...</td>\n",
       "      <td>for comparison  we present a model of the s  w...</td>\n",
       "      <td>5.208942</td>\n",
       "      <td>3.448983</td>\n",
       "      <td>5.070877</td>\n",
       "      <td>0.764983</td>\n",
       "      <td>0.992665</td>\n",
       "      <td>0.738776</td>\n",
       "    </tr>\n",
       "  </tbody>\n",
       "</table>\n",
       "</div>"
      ],
      "text/plain": [
       "                                              inputs  \\\n",
       "0  <|startoftext|> E:in addition  a curve can als...   \n",
       "1  <|startoftext|> E:this simulation also include...   \n",
       "2  <|startoftext|> E:finally  we have used pdr ch...   \n",
       "3  <|startoftext|> E:this led to mass and distanc...   \n",
       "4  <|startoftext|> E:in order to show wavelength ...   \n",
       "\n",
       "                                             outputs  \\\n",
       "0  A: in mathematics curves are typically defined...   \n",
       "1  A: we analyze the low  redshift  zxmath.  circ...   \n",
       "2  A: aiming to learn about the chemistry of the ...   \n",
       "3  A: recently sumi et al.     reported evidence ...   \n",
       "4  A: we discuss the wavelength dependence of ang...   \n",
       "\n",
       "                                            predicts  input_cohes  \\\n",
       "0  xmath        a nontrivial set of classes of cu...     3.247200   \n",
       "1  this work is based on a large set of cos  halo...     5.693459   \n",
       "2  the first group  huv  is formed by molecules t...     2.634342   \n",
       "3  a.  davidge  k.  p.   . it was found they coul...     5.450351   \n",
       "4  for comparison  we present a model of the s  w...     5.208942   \n",
       "\n",
       "   output_cohes  predict_cohes  Input2Output_sim   Input2Predict_sim  \\\n",
       "0      5.116182       3.346899           0.863538           0.979563   \n",
       "1      2.926070       2.086927           0.842514           0.995156   \n",
       "2      4.779181       4.490859           0.818992           0.973582   \n",
       "3      2.826803       3.918982           0.802271           0.986314   \n",
       "4      3.448983       5.070877           0.764983           0.992665   \n",
       "\n",
       "   Output2Predict_sim  \n",
       "0            0.856358  \n",
       "1            0.845338  \n",
       "2            0.795513  \n",
       "3            0.787007  \n",
       "4            0.738776  "
      ]
     },
     "execution_count": 5,
     "metadata": {},
     "output_type": "execute_result"
    }
   ],
   "source": [
    "ds_test_res = pd.read_csv('ds_test_res.csv', ';')\n",
    "ds_test_res.head()"
   ]
  },
  {
   "cell_type": "markdown",
   "metadata": {},
   "source": [
    "## Train set"
   ]
  },
  {
   "cell_type": "code",
   "execution_count": 181,
   "metadata": {
    "tags": []
   },
   "outputs": [
    {
     "data": {
      "application/json": {
       "ascii": false,
       "bar_format": null,
       "colour": null,
       "elapsed": 0.005826711654663086,
       "initial": 0,
       "n": 0,
       "ncols": null,
       "nrows": null,
       "postfix": null,
       "prefix": "",
       "rate": null,
       "total": 14031,
       "unit": "it",
       "unit_divisor": 1000,
       "unit_scale": false
      },
      "application/vnd.jupyter.widget-view+json": {
       "model_id": "32d2e8ef0630400e9687fbe247324b50",
       "version_major": 2,
       "version_minor": 0
      },
      "text/plain": [
       "  0%|          | 0/14031 [00:00<?, ?it/s]"
      ]
     },
     "metadata": {},
     "output_type": "display_data"
    }
   ],
   "source": [
    "#NUM_TEST = 5000\n",
    "\n",
    "#test_texts = X_test #texts[:NUM_TEST]\n",
    "\n",
    "inputs_train = []\n",
    "outputs_train = []\n",
    "predicts_train = []\n",
    "\n",
    "for e, a in zip(tqdm(X_train), y_train):\n",
    "    input_txt = '<|startoftext|> E:'+ e #t[:response.index('A:')]\n",
    "    inputs_train.append(input_txt)\n",
    "    \n",
    "    output_txt = 'A: ' + a #t[response.index('A:'):]\n",
    "    outputs_train.append(output_txt)\n",
    "    \n",
    "    predict = generate_response(input_txt)#[:response.index('A:')]\n",
    "    predicts_train.append(predict)\n",
    "    \n",
    "    "
   ]
  },
  {
   "cell_type": "code",
   "execution_count": 182,
   "metadata": {
    "tags": []
   },
   "outputs": [
    {
     "data": {
      "application/json": {
       "ascii": false,
       "bar_format": null,
       "colour": null,
       "elapsed": 0.003214597702026367,
       "initial": 0,
       "n": 0,
       "ncols": null,
       "nrows": null,
       "postfix": null,
       "prefix": "",
       "rate": null,
       "total": 14031,
       "unit": "it",
       "unit_divisor": 1000,
       "unit_scale": false
      },
      "application/vnd.jupyter.widget-view+json": {
       "model_id": "1a78bc8f23034d70807cfa6e96ae3af5",
       "version_major": 2,
       "version_minor": 0
      },
      "text/plain": [
       "  0%|          | 0/14031 [00:00<?, ?it/s]"
      ]
     },
     "metadata": {},
     "output_type": "display_data"
    },
    {
     "data": {
      "text/plain": [
       "'A: the electronic component of the thermal conductivity of clean  undoped graphene is known to be finite. previous studies have shown that this finite conductivity is universal for all samples except small systems  that can exhibit a non  monotonic behavior with respect to the sample length and doping. therefore  an accurate description of the thermal conductivity in graphene nanoclusters can be achieved. for clean samples  we study the case of a very low imbalance relaxation rate  xmath   as a function of sample thickness xmath  xmath  where xmath and xmath are the number of electrons and ions in electrons in graphene  with an arbitrary number imbalance relaxation rate  xmath. we obtain exact analytical expressions for the finite rate of carrier imbalance relaxation at xmath  xmath as a function of the imbalance diffusion coefficient  xmath  for non  zero imbalance relaxation  xmath  and for zero imbalance relaxation  xmath. the expressions for xmath for xmath and xmath are exact for graphene possessing zero imbalance relaxation  in the absence of disorder  xmath. a large carrier number current xmath  eq. jnsol    propagates through bulk samples  but pinches off to zero at xmath and xmath where pinches off to zero at xmath and xmath relax the accumulating population imbalance. at high temperatures  xmath  the imbalance relaxation rate drops approximately linearly  with xmath. the corresponding temperature profile xmath now consists of three regions  within a distance xmath of the sample boundaries  the temperature drops approximately linearly  in between these boundary regions  xmath. the thermoelectric power xmath through phonon drag is generally non  zero up to xmath where  for xmath  generation and recombination processes  respectively  relax the accumulating population imbalance. this provides an important criterion to decide whether a clean system displays thermodynamical properties such as a low temperature or high doping as an isolated system. in the limit of low xmath  xmath  we demonstrate the validity of the results for a wide range of system'"
      ]
     },
     "execution_count": 182,
     "metadata": {},
     "output_type": "execute_result"
    }
   ],
   "source": [
    "# predicts2 = [predicts[i].index('A: ') for i in tqdm(range(len(predicts)))]\n",
    "# predicts2[0]\n",
    "\n",
    "def get_generated(predicted,inpt):\n",
    "    p_sents = sent_tokenize(predicted)\n",
    "    i_sents = sent_tokenize(inpt)\n",
    "    return ' '.join(p_sents[len(i_sents):])\n",
    "# for p, i in zip(tqdm(predicts), inputs):\n",
    "    \n",
    "#     break\n",
    "#get_generated(predicts[0],inputs[0])\n",
    "predicts_train2 = [get_generated(p, i) for p, i in zip(tqdm(predicts_train), inputs_train)]\n",
    "predicts_train2[0]"
   ]
  },
  {
   "cell_type": "code",
   "execution_count": null,
   "metadata": {
    "tags": []
   },
   "outputs": [],
   "source": []
  },
  {
   "cell_type": "markdown",
   "metadata": {},
   "source": [
    "### Cohesion of the predicts"
   ]
  },
  {
   "cell_type": "code",
   "execution_count": 196,
   "metadata": {
    "tags": []
   },
   "outputs": [
    {
     "data": {
      "application/json": {
       "ascii": false,
       "bar_format": null,
       "colour": null,
       "elapsed": 0.005863666534423828,
       "initial": 0,
       "n": 0,
       "ncols": null,
       "nrows": null,
       "postfix": null,
       "prefix": "",
       "rate": null,
       "total": 14031,
       "unit": "it",
       "unit_divisor": 1000,
       "unit_scale": false
      },
      "application/vnd.jupyter.widget-view+json": {
       "model_id": "836014b6aa7743e0b8270f92119c987b",
       "version_major": 2,
       "version_minor": 0
      },
      "text/plain": [
       "  0%|          | 0/14031 [00:00<?, ?it/s]"
      ]
     },
     "metadata": {},
     "output_type": "display_data"
    }
   ],
   "source": [
    "# Measure cohesion of the predicts\n",
    "predict_cohes_train = [cohesion_measure(text) for text in tqdm(predicts_train2)]"
   ]
  },
  {
   "cell_type": "code",
   "execution_count": 197,
   "metadata": {
    "tags": []
   },
   "outputs": [
    {
     "data": {
      "application/json": {
       "ascii": false,
       "bar_format": null,
       "colour": null,
       "elapsed": 0.006679534912109375,
       "initial": 0,
       "n": 0,
       "ncols": null,
       "nrows": null,
       "postfix": null,
       "prefix": "",
       "rate": null,
       "total": 14031,
       "unit": "it",
       "unit_divisor": 1000,
       "unit_scale": false
      },
      "application/vnd.jupyter.widget-view+json": {
       "model_id": "94dd409d709748938ac64e07e2b1d941",
       "version_major": 2,
       "version_minor": 0
      },
      "text/plain": [
       "  0%|          | 0/14031 [00:00<?, ?it/s]"
      ]
     },
     "metadata": {},
     "output_type": "display_data"
    },
    {
     "data": {
      "application/json": {
       "ascii": false,
       "bar_format": null,
       "colour": null,
       "elapsed": 0.0057065486907958984,
       "initial": 0,
       "n": 0,
       "ncols": null,
       "nrows": null,
       "postfix": null,
       "prefix": "",
       "rate": null,
       "total": 14031,
       "unit": "it",
       "unit_divisor": 1000,
       "unit_scale": false
      },
      "application/vnd.jupyter.widget-view+json": {
       "model_id": "dd38474b385f4e06859232647f324990",
       "version_major": 2,
       "version_minor": 0
      },
      "text/plain": [
       "  0%|          | 0/14031 [00:00<?, ?it/s]"
      ]
     },
     "metadata": {},
     "output_type": "display_data"
    }
   ],
   "source": [
    "input_cohes_train = [cohesion_measure(text) for text in tqdm(inputs_train)] #ext_cohes[:NUM_TEST]\n",
    "output_cohes_train = [cohesion_measure(text) for text in tqdm(outputs_train)] #abs_cohes[:NUM_TEST]"
   ]
  },
  {
   "cell_type": "code",
   "execution_count": 198,
   "metadata": {
    "tags": []
   },
   "outputs": [
    {
     "name": "stdout",
     "output_type": "stream",
     "text": [
      "14018\n"
     ]
    }
   ],
   "source": [
    "zero_filter = [(pc != 0)&(pc != np.nan) for pc in predict_cohes_train]\n",
    "print(sum(zero_filter))\n",
    "predict_cohes_train = np.array(predict_cohes_train)[zero_filter]\n",
    "input_cohes_train = np.array(input_cohes_train)[zero_filter]\n",
    "output_cohes_train = np.array(output_cohes_train)[zero_filter]"
   ]
  },
  {
   "cell_type": "code",
   "execution_count": 199,
   "metadata": {
    "tags": []
   },
   "outputs": [
    {
     "data": {
      "text/plain": [
       "60264.66176856356"
      ]
     },
     "execution_count": 199,
     "metadata": {},
     "output_type": "execute_result"
    }
   ],
   "source": [
    "predict_cohes_train.sum()"
   ]
  },
  {
   "cell_type": "code",
   "execution_count": 200,
   "metadata": {
    "tags": []
   },
   "outputs": [
    {
     "name": "stdout",
     "output_type": "stream",
     "text": [
      "Input cohesions (mean) 3.7233586391858338\n",
      "Predict cohesions (mean) 4.2990912946614035\n",
      "Output cohesions (mean) 4.526713392149374\n"
     ]
    }
   ],
   "source": [
    "X1_train = input_cohes_train.mean()\n",
    "X2_train = predict_cohes_train.mean()\n",
    "X3_train = output_cohes_train.mean()\n",
    "\n",
    "print('Input cohesions (mean)', X1_train) \n",
    "print('Predict cohesions (mean)', X2_train) \n",
    "print('Output cohesions (mean)', X3_train) \n"
   ]
  },
  {
   "cell_type": "code",
   "execution_count": 201,
   "metadata": {
    "tags": []
   },
   "outputs": [
    {
     "data": {
      "text/plain": [
       "KstestResult(statistic=0.1804109002710801, pvalue=4.417270524944829e-200, statistic_location=3.6009448146268124, statistic_sign=1)"
      ]
     },
     "execution_count": 201,
     "metadata": {},
     "output_type": "execute_result"
    }
   ],
   "source": [
    "#Kolmogorov-Smirnov test based on https://docs.scipy.org/doc/scipy/reference/generated/scipy.stats.kstest.html\n",
    "#Compare distributions of input and predict cohesions\n",
    "from scipy import stats\n",
    "stats.kstest(input_cohes_train, predict_cohes_train)"
   ]
  },
  {
   "cell_type": "markdown",
   "metadata": {},
   "source": [
    "The p-value is less than 0.05, so we reject the null hypothesis and assume the two samples are from different distributions"
   ]
  },
  {
   "cell_type": "code",
   "execution_count": 202,
   "metadata": {
    "tags": []
   },
   "outputs": [
    {
     "data": {
      "text/plain": [
       "30.888236667829187"
      ]
     },
     "execution_count": 202,
     "metadata": {},
     "output_type": "execute_result"
    }
   ],
   "source": [
    "# Z-test based on http://homework.uoregon.edu/pub/class/es202/ztest.html#:~:text=If%20the%20Z%2Dstatistic%20is,two%20samples%20are%20significantly%20different\n",
    "# X1 = sum(input_cohes)/len(input_cohes)\n",
    "# X2 = sum(predict_cohes)/len(predict_cohes)\n",
    "s1 = np.std(input_cohes_train)/math.sqrt(len(input_cohes_train))\n",
    "s2 = np.std(predict_cohes_train)/math.sqrt(len(predict_cohes_train))\n",
    "Z = abs(X1-X2)/math.sqrt(s1**2+s2**2)\n",
    "Z"
   ]
  },
  {
   "cell_type": "markdown",
   "metadata": {},
   "source": [
    "In general, in more qualitative terms:\n",
    "\n",
    "- If the Z-statistic is less than 2, the two samples are the same.\n",
    "- If the Z-statistic is between 2.0 and 2.5, the two samples are marginally different\n",
    "- If the Z-statistic is between 2.5 and 3.0, the two samples are significantly different\n",
    "- If the Z-statistic is more then 3.0, the two samples are highly signficantly different\n",
    "\n",
    "The Z value is more than 3.0, so the two samples are highly significantly different"
   ]
  },
  {
   "cell_type": "markdown",
   "metadata": {},
   "source": [
    "### Similarity"
   ]
  },
  {
   "cell_type": "code",
   "execution_count": 189,
   "metadata": {
    "tags": []
   },
   "outputs": [
    {
     "data": {
      "application/json": {
       "ascii": false,
       "bar_format": null,
       "colour": null,
       "elapsed": 0.006341457366943359,
       "initial": 0,
       "n": 0,
       "ncols": null,
       "nrows": null,
       "postfix": null,
       "prefix": "",
       "rate": null,
       "total": 14031,
       "unit": "it",
       "unit_divisor": 1000,
       "unit_scale": false
      },
      "application/vnd.jupyter.widget-view+json": {
       "model_id": "e2464d1113df467386121425c7a71328",
       "version_major": 2,
       "version_minor": 0
      },
      "text/plain": [
       "  0%|          | 0/14031 [00:00<?, ?it/s]"
      ]
     },
     "metadata": {},
     "output_type": "display_data"
    },
    {
     "data": {
      "application/json": {
       "ascii": false,
       "bar_format": null,
       "colour": null,
       "elapsed": 0.004863262176513672,
       "initial": 0,
       "n": 0,
       "ncols": null,
       "nrows": null,
       "postfix": null,
       "prefix": "",
       "rate": null,
       "total": 14031,
       "unit": "it",
       "unit_divisor": 1000,
       "unit_scale": false
      },
      "application/vnd.jupyter.widget-view+json": {
       "model_id": "67e50121a9934b789e9983be41afee6e",
       "version_major": 2,
       "version_minor": 0
      },
      "text/plain": [
       "  0%|          | 0/14031 [00:00<?, ?it/s]"
      ]
     },
     "metadata": {},
     "output_type": "display_data"
    },
    {
     "data": {
      "application/json": {
       "ascii": false,
       "bar_format": null,
       "colour": null,
       "elapsed": 0.00469970703125,
       "initial": 0,
       "n": 0,
       "ncols": null,
       "nrows": null,
       "postfix": null,
       "prefix": "",
       "rate": null,
       "total": 14031,
       "unit": "it",
       "unit_divisor": 1000,
       "unit_scale": false
      },
      "application/vnd.jupyter.widget-view+json": {
       "model_id": "080fc23a2c5d4a7d9c582dd5135fa97e",
       "version_major": 2,
       "version_minor": 0
      },
      "text/plain": [
       "  0%|          | 0/14031 [00:00<?, ?it/s]"
      ]
     },
     "metadata": {},
     "output_type": "display_data"
    },
    {
     "name": "stdout",
     "output_type": "stream",
     "text": [
      "Input2Output similarity (mean) 0.8072428444791916\n",
      "Input2Predict similarity (mean) 0.988854349075826\n",
      "Output2Predict similarity (mean) 0.8097389632689027\n"
     ]
    }
   ],
   "source": [
    "input2output_sim_train = [similarity_measure(i, o) for i, o in zip(tqdm(inputs_train), outputs_train)]\n",
    "input2predict_sim_train = [similarity_measure(i, p) for i, p in zip(tqdm(inputs_train), predicts_train)]\n",
    "output2predict_sim_train = [similarity_measure(o, p) for o, p in zip(tqdm(outputs_train), predicts_train)]\n",
    "\n",
    "print('Input2Output similarity (mean)', sum(input2output_sim_train)/len(input2output_sim_train))\n",
    "print('Input2Predict similarity (mean)', sum(input2predict_sim_train)/len(input2predict_sim_train))\n",
    "print('Output2Predict similarity (mean)', sum(output2predict_sim_train)/len(output2predict_sim_train))"
   ]
  },
  {
   "cell_type": "markdown",
   "metadata": {
    "tags": []
   },
   "source": [
    "### Save results"
   ]
  },
  {
   "cell_type": "code",
   "execution_count": 203,
   "metadata": {
    "tags": []
   },
   "outputs": [
    {
     "data": {
      "text/html": [
       "<div>\n",
       "<style scoped>\n",
       "    .dataframe tbody tr th:only-of-type {\n",
       "        vertical-align: middle;\n",
       "    }\n",
       "\n",
       "    .dataframe tbody tr th {\n",
       "        vertical-align: top;\n",
       "    }\n",
       "\n",
       "    .dataframe thead th {\n",
       "        text-align: right;\n",
       "    }\n",
       "</style>\n",
       "<table border=\"1\" class=\"dataframe\">\n",
       "  <thead>\n",
       "    <tr style=\"text-align: right;\">\n",
       "      <th></th>\n",
       "      <th>inputs</th>\n",
       "      <th>outputs</th>\n",
       "      <th>predicts</th>\n",
       "      <th>input_cohes</th>\n",
       "      <th>output_cohes</th>\n",
       "      <th>predict_cohes</th>\n",
       "      <th>Input2Output_sim</th>\n",
       "      <th>Input2Predict_sim</th>\n",
       "      <th>Output2Predict_sim</th>\n",
       "    </tr>\n",
       "  </thead>\n",
       "  <tbody>\n",
       "    <tr>\n",
       "      <th>0</th>\n",
       "      <td>&lt;|startoftext|&gt; E:in addition  a curve can als...</td>\n",
       "      <td>A: in mathematics curves are typically defined...</td>\n",
       "      <td>xmath        a nontrivial set of classes of cu...</td>\n",
       "      <td>3.25</td>\n",
       "      <td>5.12</td>\n",
       "      <td>3.35</td>\n",
       "      <td>0.86</td>\n",
       "      <td>0.98</td>\n",
       "      <td>0.86</td>\n",
       "    </tr>\n",
       "    <tr>\n",
       "      <th>1</th>\n",
       "      <td>&lt;|startoftext|&gt; E:this simulation also include...</td>\n",
       "      <td>A: we analyze the low  redshift  zxmath.  circ...</td>\n",
       "      <td>this work is based on a large set of cos  halo...</td>\n",
       "      <td>5.69</td>\n",
       "      <td>2.93</td>\n",
       "      <td>2.09</td>\n",
       "      <td>0.84</td>\n",
       "      <td>1.00</td>\n",
       "      <td>0.85</td>\n",
       "    </tr>\n",
       "    <tr>\n",
       "      <th>2</th>\n",
       "      <td>&lt;|startoftext|&gt; E:finally  we have used pdr ch...</td>\n",
       "      <td>A: aiming to learn about the chemistry of the ...</td>\n",
       "      <td>the first group  huv  is formed by molecules t...</td>\n",
       "      <td>2.63</td>\n",
       "      <td>4.78</td>\n",
       "      <td>4.49</td>\n",
       "      <td>0.82</td>\n",
       "      <td>0.97</td>\n",
       "      <td>0.80</td>\n",
       "    </tr>\n",
       "    <tr>\n",
       "      <th>3</th>\n",
       "      <td>&lt;|startoftext|&gt; E:this led to mass and distanc...</td>\n",
       "      <td>A: recently sumi et al.     reported evidence ...</td>\n",
       "      <td>a.  davidge  k.  p.   . it was found they coul...</td>\n",
       "      <td>5.45</td>\n",
       "      <td>2.83</td>\n",
       "      <td>3.92</td>\n",
       "      <td>0.80</td>\n",
       "      <td>0.99</td>\n",
       "      <td>0.79</td>\n",
       "    </tr>\n",
       "    <tr>\n",
       "      <th>4</th>\n",
       "      <td>&lt;|startoftext|&gt; E:in order to show wavelength ...</td>\n",
       "      <td>A: we discuss the wavelength dependence of ang...</td>\n",
       "      <td>for comparison  we present a model of the s  w...</td>\n",
       "      <td>5.21</td>\n",
       "      <td>3.45</td>\n",
       "      <td>5.07</td>\n",
       "      <td>0.76</td>\n",
       "      <td>0.99</td>\n",
       "      <td>0.74</td>\n",
       "    </tr>\n",
       "  </tbody>\n",
       "</table>\n",
       "</div>"
      ],
      "text/plain": [
       "                                              inputs  \\\n",
       "0  <|startoftext|> E:in addition  a curve can als...   \n",
       "1  <|startoftext|> E:this simulation also include...   \n",
       "2  <|startoftext|> E:finally  we have used pdr ch...   \n",
       "3  <|startoftext|> E:this led to mass and distanc...   \n",
       "4  <|startoftext|> E:in order to show wavelength ...   \n",
       "\n",
       "                                             outputs  \\\n",
       "0  A: in mathematics curves are typically defined...   \n",
       "1  A: we analyze the low  redshift  zxmath.  circ...   \n",
       "2  A: aiming to learn about the chemistry of the ...   \n",
       "3  A: recently sumi et al.     reported evidence ...   \n",
       "4  A: we discuss the wavelength dependence of ang...   \n",
       "\n",
       "                                            predicts  input_cohes  \\\n",
       "0  xmath        a nontrivial set of classes of cu...         3.25   \n",
       "1  this work is based on a large set of cos  halo...         5.69   \n",
       "2  the first group  huv  is formed by molecules t...         2.63   \n",
       "3  a.  davidge  k.  p.   . it was found they coul...         5.45   \n",
       "4  for comparison  we present a model of the s  w...         5.21   \n",
       "\n",
       "   output_cohes  predict_cohes  Input2Output_sim   Input2Predict_sim  \\\n",
       "0          5.12           3.35               0.86               0.98   \n",
       "1          2.93           2.09               0.84               1.00   \n",
       "2          4.78           4.49               0.82               0.97   \n",
       "3          2.83           3.92               0.80               0.99   \n",
       "4          3.45           5.07               0.76               0.99   \n",
       "\n",
       "   Output2Predict_sim  \n",
       "0                0.86  \n",
       "1                0.85  \n",
       "2                0.80  \n",
       "3                0.79  \n",
       "4                0.74  "
      ]
     },
     "execution_count": 203,
     "metadata": {},
     "output_type": "execute_result"
    }
   ],
   "source": [
    "ds_train_res = pd.DataFrame()\n",
    "\n",
    "#texts\n",
    "ds_train_res['inputs'] = np.array(inputs_train)[zero_filter]\n",
    "ds_train_res['outputs'] = np.array(outputs_train)[zero_filter]\n",
    "ds_train_res['predicts'] = np.array(predicts_train2)[zero_filter]\n",
    "\n",
    "#cohesions\n",
    "ds_train_res['input_cohes'] = input_cohes_train\n",
    "ds_train_res['output_cohes'] = output_cohes_train\n",
    "ds_train_res['predict_cohes'] = predict_cohes_train\n",
    "\n",
    "#similarities\n",
    "ds_train_res['Input2Output_sim '] = np.array(input2output_sim_train)[zero_filter]\n",
    "ds_train_res['Input2Predict_sim'] = np.array(input2predict_sim_train)[zero_filter]\n",
    "ds_train_res['Output2Predict_sim'] = np.array(output2predict_sim_train)[zero_filter]\n",
    "\n",
    "ds_test_res.head()"
   ]
  },
  {
   "cell_type": "code",
   "execution_count": 204,
   "metadata": {
    "tags": []
   },
   "outputs": [],
   "source": [
    "#pickle save\n",
    "save_obj(ds_train_res, 'ds_train_res')\n",
    "\n",
    "#pandas save to csv\n",
    "ds_train_res.to_csv('ds_train_res.csv', ';', index=False)"
   ]
  },
  {
   "cell_type": "code",
   "execution_count": null,
   "metadata": {},
   "outputs": [],
   "source": []
  }
 ],
 "metadata": {
  "accelerator": "GPU",
  "colab": {
   "provenance": []
  },
  "kernelspec": {
   "display_name": "tf2-gpu-cuda11.1",
   "language": "python",
   "name": "tf2-gpu-cuda11.1"
  },
  "language_info": {
   "codemirror_mode": {
    "name": "ipython",
    "version": 3
   },
   "file_extension": ".py",
   "mimetype": "text/x-python",
   "name": "python",
   "nbconvert_exporter": "python",
   "pygments_lexer": "ipython3",
   "version": "3.9.16"
  },
  "widgets": {
   "application/vnd.jupyter.widget-state+json": {
    "00d7ecd3e7c949638441c75297fa352d": {
     "model_module": "@jupyter-widgets/controls",
     "model_module_version": "1.5.0",
     "model_name": "ProgressStyleModel",
     "state": {
      "_model_module": "@jupyter-widgets/controls",
      "_model_module_version": "1.5.0",
      "_model_name": "ProgressStyleModel",
      "_view_count": null,
      "_view_module": "@jupyter-widgets/base",
      "_view_module_version": "1.2.0",
      "_view_name": "StyleView",
      "bar_color": null,
      "description_width": "initial"
     }
    },
    "0489a4fd50f64513a9b255a1535b245e": {
     "model_module": "@jupyter-widgets/controls",
     "model_module_version": "1.5.0",
     "model_name": "HBoxModel",
     "state": {
      "_dom_classes": [],
      "_model_module": "@jupyter-widgets/controls",
      "_model_module_version": "1.5.0",
      "_model_name": "HBoxModel",
      "_view_count": null,
      "_view_module": "@jupyter-widgets/controls",
      "_view_module_version": "1.5.0",
      "_view_name": "HBoxView",
      "box_style": "",
      "children": [
       "IPY_MODEL_515137fcceaa44f982b3fbd5f3a08452",
       "IPY_MODEL_edb3099d63c44b218fa206dae1ba9bc6"
      ],
      "layout": "IPY_MODEL_ea1d91bf60634e6599270f1fba83500d"
     }
    },
    "19b51c64ec66418a949217821b711317": {
     "model_module": "@jupyter-widgets/controls",
     "model_module_version": "1.5.0",
     "model_name": "DescriptionStyleModel",
     "state": {
      "_model_module": "@jupyter-widgets/controls",
      "_model_module_version": "1.5.0",
      "_model_name": "DescriptionStyleModel",
      "_view_count": null,
      "_view_module": "@jupyter-widgets/base",
      "_view_module_version": "1.2.0",
      "_view_name": "StyleView",
      "description_width": ""
     }
    },
    "1c9ea5a685534b6988fa7c4d48492fc2": {
     "model_module": "@jupyter-widgets/base",
     "model_module_version": "1.2.0",
     "model_name": "LayoutModel",
     "state": {
      "_model_module": "@jupyter-widgets/base",
      "_model_module_version": "1.2.0",
      "_model_name": "LayoutModel",
      "_view_count": null,
      "_view_module": "@jupyter-widgets/base",
      "_view_module_version": "1.2.0",
      "_view_name": "LayoutView",
      "align_content": null,
      "align_items": null,
      "align_self": null,
      "border": null,
      "bottom": null,
      "display": null,
      "flex": null,
      "flex_flow": null,
      "grid_area": null,
      "grid_auto_columns": null,
      "grid_auto_flow": null,
      "grid_auto_rows": null,
      "grid_column": null,
      "grid_gap": null,
      "grid_row": null,
      "grid_template_areas": null,
      "grid_template_columns": null,
      "grid_template_rows": null,
      "height": null,
      "justify_content": null,
      "justify_items": null,
      "left": null,
      "margin": null,
      "max_height": null,
      "max_width": null,
      "min_height": null,
      "min_width": null,
      "object_fit": null,
      "object_position": null,
      "order": null,
      "overflow": null,
      "overflow_x": null,
      "overflow_y": null,
      "padding": null,
      "right": null,
      "top": null,
      "visibility": null,
      "width": null
     }
    },
    "354918de69d64d5fa6fa74e61422ae6e": {
     "model_module": "@jupyter-widgets/base",
     "model_module_version": "1.2.0",
     "model_name": "LayoutModel",
     "state": {
      "_model_module": "@jupyter-widgets/base",
      "_model_module_version": "1.2.0",
      "_model_name": "LayoutModel",
      "_view_count": null,
      "_view_module": "@jupyter-widgets/base",
      "_view_module_version": "1.2.0",
      "_view_name": "LayoutView",
      "align_content": null,
      "align_items": null,
      "align_self": null,
      "border": null,
      "bottom": null,
      "display": null,
      "flex": null,
      "flex_flow": null,
      "grid_area": null,
      "grid_auto_columns": null,
      "grid_auto_flow": null,
      "grid_auto_rows": null,
      "grid_column": null,
      "grid_gap": null,
      "grid_row": null,
      "grid_template_areas": null,
      "grid_template_columns": null,
      "grid_template_rows": null,
      "height": null,
      "justify_content": null,
      "justify_items": null,
      "left": null,
      "margin": null,
      "max_height": null,
      "max_width": null,
      "min_height": null,
      "min_width": null,
      "object_fit": null,
      "object_position": null,
      "order": null,
      "overflow": null,
      "overflow_x": null,
      "overflow_y": null,
      "padding": null,
      "right": null,
      "top": null,
      "visibility": null,
      "width": null
     }
    },
    "42f0ec7177e94d6f999df8cd14a44cc9": {
     "model_module": "@jupyter-widgets/controls",
     "model_module_version": "1.5.0",
     "model_name": "ProgressStyleModel",
     "state": {
      "_model_module": "@jupyter-widgets/controls",
      "_model_module_version": "1.5.0",
      "_model_name": "ProgressStyleModel",
      "_view_count": null,
      "_view_module": "@jupyter-widgets/base",
      "_view_module_version": "1.2.0",
      "_view_name": "StyleView",
      "bar_color": null,
      "description_width": "initial"
     }
    },
    "515137fcceaa44f982b3fbd5f3a08452": {
     "model_module": "@jupyter-widgets/controls",
     "model_module_version": "1.5.0",
     "model_name": "FloatProgressModel",
     "state": {
      "_dom_classes": [],
      "_model_module": "@jupyter-widgets/controls",
      "_model_module_version": "1.5.0",
      "_model_name": "FloatProgressModel",
      "_view_count": null,
      "_view_module": "@jupyter-widgets/controls",
      "_view_module_version": "1.5.0",
      "_view_name": "ProgressView",
      "bar_style": "success",
      "description": "Downloading: 100%",
      "description_tooltip": null,
      "layout": "IPY_MODEL_354918de69d64d5fa6fa74e61422ae6e",
      "max": 456318,
      "min": 0,
      "orientation": "horizontal",
      "style": "IPY_MODEL_00d7ecd3e7c949638441c75297fa352d",
      "value": 456318
     }
    },
    "51897d176312490a9cc2f1e6ea223e36": {
     "model_module": "@jupyter-widgets/base",
     "model_module_version": "1.2.0",
     "model_name": "LayoutModel",
     "state": {
      "_model_module": "@jupyter-widgets/base",
      "_model_module_version": "1.2.0",
      "_model_name": "LayoutModel",
      "_view_count": null,
      "_view_module": "@jupyter-widgets/base",
      "_view_module_version": "1.2.0",
      "_view_name": "LayoutView",
      "align_content": null,
      "align_items": null,
      "align_self": null,
      "border": null,
      "bottom": null,
      "display": null,
      "flex": null,
      "flex_flow": null,
      "grid_area": null,
      "grid_auto_columns": null,
      "grid_auto_flow": null,
      "grid_auto_rows": null,
      "grid_column": null,
      "grid_gap": null,
      "grid_row": null,
      "grid_template_areas": null,
      "grid_template_columns": null,
      "grid_template_rows": null,
      "height": null,
      "justify_content": null,
      "justify_items": null,
      "left": null,
      "margin": null,
      "max_height": null,
      "max_width": null,
      "min_height": null,
      "min_width": null,
      "object_fit": null,
      "object_position": null,
      "order": null,
      "overflow": null,
      "overflow_x": null,
      "overflow_y": null,
      "padding": null,
      "right": null,
      "top": null,
      "visibility": null,
      "width": null
     }
    },
    "6d46299bb5d1414aa2bfa6b500f9786d": {
     "model_module": "@jupyter-widgets/controls",
     "model_module_version": "1.5.0",
     "model_name": "FloatProgressModel",
     "state": {
      "_dom_classes": [],
      "_model_module": "@jupyter-widgets/controls",
      "_model_module_version": "1.5.0",
      "_model_name": "FloatProgressModel",
      "_view_count": null,
      "_view_module": "@jupyter-widgets/controls",
      "_view_module_version": "1.5.0",
      "_view_name": "ProgressView",
      "bar_style": "success",
      "description": "Downloading: 100%",
      "description_tooltip": null,
      "layout": "IPY_MODEL_51897d176312490a9cc2f1e6ea223e36",
      "max": 1042301,
      "min": 0,
      "orientation": "horizontal",
      "style": "IPY_MODEL_42f0ec7177e94d6f999df8cd14a44cc9",
      "value": 1042301
     }
    },
    "7bd2ddd9aceb45008a1b59ea01971fc6": {
     "model_module": "@jupyter-widgets/controls",
     "model_module_version": "1.5.0",
     "model_name": "HTMLModel",
     "state": {
      "_dom_classes": [],
      "_model_module": "@jupyter-widgets/controls",
      "_model_module_version": "1.5.0",
      "_model_name": "HTMLModel",
      "_view_count": null,
      "_view_module": "@jupyter-widgets/controls",
      "_view_module_version": "1.5.0",
      "_view_name": "HTMLView",
      "description": "",
      "description_tooltip": null,
      "layout": "IPY_MODEL_1c9ea5a685534b6988fa7c4d48492fc2",
      "placeholder": "​",
      "style": "IPY_MODEL_19b51c64ec66418a949217821b711317",
      "value": " 1.04M/1.04M [00:01&lt;00:00, 769kB/s]"
     }
    },
    "855d49d8c5a245bc8497965ba991cf30": {
     "model_module": "@jupyter-widgets/base",
     "model_module_version": "1.2.0",
     "model_name": "LayoutModel",
     "state": {
      "_model_module": "@jupyter-widgets/base",
      "_model_module_version": "1.2.0",
      "_model_name": "LayoutModel",
      "_view_count": null,
      "_view_module": "@jupyter-widgets/base",
      "_view_module_version": "1.2.0",
      "_view_name": "LayoutView",
      "align_content": null,
      "align_items": null,
      "align_self": null,
      "border": null,
      "bottom": null,
      "display": null,
      "flex": null,
      "flex_flow": null,
      "grid_area": null,
      "grid_auto_columns": null,
      "grid_auto_flow": null,
      "grid_auto_rows": null,
      "grid_column": null,
      "grid_gap": null,
      "grid_row": null,
      "grid_template_areas": null,
      "grid_template_columns": null,
      "grid_template_rows": null,
      "height": null,
      "justify_content": null,
      "justify_items": null,
      "left": null,
      "margin": null,
      "max_height": null,
      "max_width": null,
      "min_height": null,
      "min_width": null,
      "object_fit": null,
      "object_position": null,
      "order": null,
      "overflow": null,
      "overflow_x": null,
      "overflow_y": null,
      "padding": null,
      "right": null,
      "top": null,
      "visibility": null,
      "width": null
     }
    },
    "a57d57e2056b4bc79e04f2b9b4a7cc9e": {
     "model_module": "@jupyter-widgets/base",
     "model_module_version": "1.2.0",
     "model_name": "LayoutModel",
     "state": {
      "_model_module": "@jupyter-widgets/base",
      "_model_module_version": "1.2.0",
      "_model_name": "LayoutModel",
      "_view_count": null,
      "_view_module": "@jupyter-widgets/base",
      "_view_module_version": "1.2.0",
      "_view_name": "LayoutView",
      "align_content": null,
      "align_items": null,
      "align_self": null,
      "border": null,
      "bottom": null,
      "display": null,
      "flex": null,
      "flex_flow": null,
      "grid_area": null,
      "grid_auto_columns": null,
      "grid_auto_flow": null,
      "grid_auto_rows": null,
      "grid_column": null,
      "grid_gap": null,
      "grid_row": null,
      "grid_template_areas": null,
      "grid_template_columns": null,
      "grid_template_rows": null,
      "height": null,
      "justify_content": null,
      "justify_items": null,
      "left": null,
      "margin": null,
      "max_height": null,
      "max_width": null,
      "min_height": null,
      "min_width": null,
      "object_fit": null,
      "object_position": null,
      "order": null,
      "overflow": null,
      "overflow_x": null,
      "overflow_y": null,
      "padding": null,
      "right": null,
      "top": null,
      "visibility": null,
      "width": null
     }
    },
    "bdf4edd828064de2822db1bc9441bbcf": {
     "model_module": "@jupyter-widgets/controls",
     "model_module_version": "1.5.0",
     "model_name": "DescriptionStyleModel",
     "state": {
      "_model_module": "@jupyter-widgets/controls",
      "_model_module_version": "1.5.0",
      "_model_name": "DescriptionStyleModel",
      "_view_count": null,
      "_view_module": "@jupyter-widgets/base",
      "_view_module_version": "1.2.0",
      "_view_name": "StyleView",
      "description_width": ""
     }
    },
    "c1336ea71997462e82cd06beea22d482": {
     "model_module": "@jupyter-widgets/controls",
     "model_module_version": "1.5.0",
     "model_name": "HBoxModel",
     "state": {
      "_dom_classes": [],
      "_model_module": "@jupyter-widgets/controls",
      "_model_module_version": "1.5.0",
      "_model_name": "HBoxModel",
      "_view_count": null,
      "_view_module": "@jupyter-widgets/controls",
      "_view_module_version": "1.5.0",
      "_view_name": "HBoxView",
      "box_style": "",
      "children": [
       "IPY_MODEL_6d46299bb5d1414aa2bfa6b500f9786d",
       "IPY_MODEL_7bd2ddd9aceb45008a1b59ea01971fc6"
      ],
      "layout": "IPY_MODEL_855d49d8c5a245bc8497965ba991cf30"
     }
    },
    "ea1d91bf60634e6599270f1fba83500d": {
     "model_module": "@jupyter-widgets/base",
     "model_module_version": "1.2.0",
     "model_name": "LayoutModel",
     "state": {
      "_model_module": "@jupyter-widgets/base",
      "_model_module_version": "1.2.0",
      "_model_name": "LayoutModel",
      "_view_count": null,
      "_view_module": "@jupyter-widgets/base",
      "_view_module_version": "1.2.0",
      "_view_name": "LayoutView",
      "align_content": null,
      "align_items": null,
      "align_self": null,
      "border": null,
      "bottom": null,
      "display": null,
      "flex": null,
      "flex_flow": null,
      "grid_area": null,
      "grid_auto_columns": null,
      "grid_auto_flow": null,
      "grid_auto_rows": null,
      "grid_column": null,
      "grid_gap": null,
      "grid_row": null,
      "grid_template_areas": null,
      "grid_template_columns": null,
      "grid_template_rows": null,
      "height": null,
      "justify_content": null,
      "justify_items": null,
      "left": null,
      "margin": null,
      "max_height": null,
      "max_width": null,
      "min_height": null,
      "min_width": null,
      "object_fit": null,
      "object_position": null,
      "order": null,
      "overflow": null,
      "overflow_x": null,
      "overflow_y": null,
      "padding": null,
      "right": null,
      "top": null,
      "visibility": null,
      "width": null
     }
    },
    "edb3099d63c44b218fa206dae1ba9bc6": {
     "model_module": "@jupyter-widgets/controls",
     "model_module_version": "1.5.0",
     "model_name": "HTMLModel",
     "state": {
      "_dom_classes": [],
      "_model_module": "@jupyter-widgets/controls",
      "_model_module_version": "1.5.0",
      "_model_name": "HTMLModel",
      "_view_count": null,
      "_view_module": "@jupyter-widgets/controls",
      "_view_module_version": "1.5.0",
      "_view_name": "HTMLView",
      "description": "",
      "description_tooltip": null,
      "layout": "IPY_MODEL_a57d57e2056b4bc79e04f2b9b4a7cc9e",
      "placeholder": "​",
      "style": "IPY_MODEL_bdf4edd828064de2822db1bc9441bbcf",
      "value": " 456k/456k [00:00&lt;00:00, 1.31MB/s]"
     }
    }
   }
  }
 },
 "nbformat": 4,
 "nbformat_minor": 4
}
